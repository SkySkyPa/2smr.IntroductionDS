{
 "cells": [
  {
   "cell_type": "code",
   "execution_count": null,
   "metadata": {
    "pycharm": {
     "name": "#%%\n"
    }
   },
   "outputs": [],
   "source": []
  },
  {
   "cell_type": "code",
   "execution_count": 1,
   "metadata": {
    "pycharm": {
     "name": "#%%\n"
    }
   },
   "outputs": [],
   "source": [
    "import pandas as pd\n",
    "from datetime import datetime\n",
    "from fbprophet import Prophet\n",
    "from matplotlib import pyplot\n",
    "from sklearn.metrics import mean_absolute_error\n",
    "from sklearn.metrics import mean_squared_error\n",
    "from sklearn.metrics import mean_absolute_percentage_error\n",
    "from sklearn.metrics import r2_score"
   ]
  },
  {
   "cell_type": "code",
   "execution_count": null,
   "metadata": {
    "pycharm": {
     "name": "#%%\n"
    }
   },
   "outputs": [],
   "source": []
  },
  {
   "cell_type": "code",
   "execution_count": null,
   "metadata": {
    "pycharm": {
     "name": "#%%\n"
    }
   },
   "outputs": [],
   "source": []
  },
  {
   "cell_type": "code",
   "execution_count": null,
   "metadata": {
    "pycharm": {
     "name": "#%%\n"
    }
   },
   "outputs": [],
   "source": []
  },
  {
   "cell_type": "markdown",
   "metadata": {
    "pycharm": {
     "name": "#%% md\n"
    }
   },
   "source": []
  },
  {
   "cell_type": "markdown",
   "metadata": {
    "pycharm": {
     "name": "#%% md\n"
    }
   },
   "source": [
    "# LINEAR MONTH 9"
   ]
  },
  {
   "cell_type": "code",
   "execution_count": null,
   "metadata": {
    "pycharm": {
     "name": "#%%\n"
    }
   },
   "outputs": [],
   "source": []
  },
  {
   "cell_type": "code",
   "execution_count": null,
   "metadata": {
    "pycharm": {
     "name": "#%%\n"
    }
   },
   "outputs": [],
   "source": []
  },
  {
   "cell_type": "code",
   "execution_count": null,
   "metadata": {
    "pycharm": {
     "name": "#%%\n"
    }
   },
   "outputs": [],
   "source": []
  },
  {
   "cell_type": "code",
   "execution_count": 2,
   "metadata": {
    "pycharm": {
     "name": "#%%\n"
    }
   },
   "outputs": [],
   "source": [
    "# load a file\n",
    "month = pd.read_csv(\"./SN_m_tot_V2.0.csv\", sep = \";\", names = [\"year\", \"month\", \n",
    "                                                              \"Date_in_fraction_of_year\",\n",
    "                                                             \"sunspot_number\",\n",
    "                                                             \n",
    "                                                             \"Daily_standard_deviation\",\n",
    "                                                              \"Number_of_observations\",\n",
    "                                                             \"provisional_indicator\"])"
   ]
  },
  {
   "cell_type": "code",
   "execution_count": 3,
   "metadata": {
    "pycharm": {
     "name": "#%%\n"
    }
   },
   "outputs": [],
   "source": [
    "# Join column year, month\n",
    "month[\"year\"] = month[\"year\"].astype(str)\n",
    "month[\"month\"] = month[\"month\"].astype(str)\n",
    "month['period'] = month[['year', 'month']].apply(lambda x: '-'.join(x), axis=1)"
   ]
  },
  {
   "cell_type": "code",
   "execution_count": 4,
   "metadata": {
    "pycharm": {
     "name": "#%%\n"
    }
   },
   "outputs": [
    {
     "name": "stderr",
     "output_type": "stream",
     "text": [
      "<ipython-input-4-f4a7aa98b686>:6: SettingWithCopyWarning: \n",
      "A value is trying to be set on a copy of a slice from a DataFrame.\n",
      "Try using .loc[row_indexer,col_indexer] = value instead\n",
      "\n",
      "See the caveats in the documentation: https://pandas.pydata.org/pandas-docs/stable/user_guide/indexing.html#returning-a-view-versus-a-copy\n",
      "  month_f['ds'] = pd.to_datetime(month_f['ds'])\n"
     ]
    }
   ],
   "source": [
    "\n",
    "#using column period and value\n",
    "month_f = month[[\"period\",\"sunspot_number\"]]\n",
    "# Rename names of the column\n",
    "month_f.columns = ['ds', 'y']\n",
    "month_f['ds'] = pd.to_datetime(month_f['ds'])"
   ]
  },
  {
   "cell_type": "code",
   "execution_count": null,
   "metadata": {
    "pycharm": {
     "name": "#%%\n"
    }
   },
   "outputs": [],
   "source": []
  },
  {
   "cell_type": "code",
   "execution_count": 58,
   "metadata": {
    "pycharm": {
     "name": "#%%\n"
    }
   },
   "outputs": [],
   "source": [
    "# choosing the train set for this project \n",
    "train = month_f.drop(month_f.index[-40:])\n",
    "\n",
    "#test =   year_f.drop( year_f.index[0:281])"
   ]
  },
  {
   "cell_type": "code",
   "execution_count": 50,
   "metadata": {
    "pycharm": {
     "name": "#%%\n"
    }
   },
   "outputs": [
    {
     "name": "stderr",
     "output_type": "stream",
     "text": [
      "INFO:fbprophet:Disabling weekly seasonality. Run prophet with weekly_seasonality=True to override this.\n",
      "INFO:fbprophet:Disabling daily seasonality. Run prophet with daily_seasonality=True to override this.\n"
     ]
    }
   ],
   "source": [
    "m = Prophet(n_changepoints= 20,\n",
    "                changepoint_range= 0.25,\n",
    "                yearly_seasonality= True,\n",
    "               changepoint_prior_scale= 0.9,\n",
    "                seasonality_mode= \"additive\"\n",
    "               )\n",
    "\n",
    "ml = m.fit(train)"
   ]
  },
  {
   "cell_type": "code",
   "execution_count": 51,
   "metadata": {
    "pycharm": {
     "name": "#%%\n"
    }
   },
   "outputs": [
    {
     "data": {
      "text/html": [
       "<div>\n",
       "<style scoped>\n",
       "    .dataframe tbody tr th:only-of-type {\n",
       "        vertical-align: middle;\n",
       "    }\n",
       "\n",
       "    .dataframe tbody tr th {\n",
       "        vertical-align: top;\n",
       "    }\n",
       "\n",
       "    .dataframe thead th {\n",
       "        text-align: right;\n",
       "    }\n",
       "</style>\n",
       "<table border=\"1\" class=\"dataframe\">\n",
       "  <thead>\n",
       "    <tr style=\"text-align: right;\">\n",
       "      <th></th>\n",
       "      <th>ds</th>\n",
       "      <th>trend</th>\n",
       "      <th>yhat_lower</th>\n",
       "      <th>yhat_upper</th>\n",
       "      <th>trend_lower</th>\n",
       "      <th>trend_upper</th>\n",
       "      <th>additive_terms</th>\n",
       "      <th>additive_terms_lower</th>\n",
       "      <th>additive_terms_upper</th>\n",
       "      <th>yearly</th>\n",
       "      <th>yearly_lower</th>\n",
       "      <th>yearly_upper</th>\n",
       "      <th>multiplicative_terms</th>\n",
       "      <th>multiplicative_terms_lower</th>\n",
       "      <th>multiplicative_terms_upper</th>\n",
       "      <th>yhat</th>\n",
       "    </tr>\n",
       "  </thead>\n",
       "  <tbody>\n",
       "    <tr>\n",
       "      <th>0</th>\n",
       "      <td>1749-01-01</td>\n",
       "      <td>97.320049</td>\n",
       "      <td>6.314532</td>\n",
       "      <td>175.001354</td>\n",
       "      <td>97.320049</td>\n",
       "      <td>97.320049</td>\n",
       "      <td>-4.393434</td>\n",
       "      <td>-4.393434</td>\n",
       "      <td>-4.393434</td>\n",
       "      <td>-4.393434</td>\n",
       "      <td>-4.393434</td>\n",
       "      <td>-4.393434</td>\n",
       "      <td>0.0</td>\n",
       "      <td>0.0</td>\n",
       "      <td>0.0</td>\n",
       "      <td>92.926615</td>\n",
       "    </tr>\n",
       "    <tr>\n",
       "      <th>1</th>\n",
       "      <td>1749-02-01</td>\n",
       "      <td>96.889523</td>\n",
       "      <td>10.212472</td>\n",
       "      <td>175.415825</td>\n",
       "      <td>96.889523</td>\n",
       "      <td>96.889523</td>\n",
       "      <td>-2.051197</td>\n",
       "      <td>-2.051197</td>\n",
       "      <td>-2.051197</td>\n",
       "      <td>-2.051197</td>\n",
       "      <td>-2.051197</td>\n",
       "      <td>-2.051197</td>\n",
       "      <td>0.0</td>\n",
       "      <td>0.0</td>\n",
       "      <td>0.0</td>\n",
       "      <td>94.838327</td>\n",
       "    </tr>\n",
       "    <tr>\n",
       "      <th>2</th>\n",
       "      <td>1749-03-01</td>\n",
       "      <td>96.500662</td>\n",
       "      <td>7.623223</td>\n",
       "      <td>177.965391</td>\n",
       "      <td>96.500662</td>\n",
       "      <td>96.500662</td>\n",
       "      <td>-3.591143</td>\n",
       "      <td>-3.591143</td>\n",
       "      <td>-3.591143</td>\n",
       "      <td>-3.591143</td>\n",
       "      <td>-3.591143</td>\n",
       "      <td>-3.591143</td>\n",
       "      <td>0.0</td>\n",
       "      <td>0.0</td>\n",
       "      <td>0.0</td>\n",
       "      <td>92.909518</td>\n",
       "    </tr>\n",
       "    <tr>\n",
       "      <th>3</th>\n",
       "      <td>1749-04-01</td>\n",
       "      <td>96.070136</td>\n",
       "      <td>15.873723</td>\n",
       "      <td>172.938954</td>\n",
       "      <td>96.070136</td>\n",
       "      <td>96.070136</td>\n",
       "      <td>-0.139798</td>\n",
       "      <td>-0.139798</td>\n",
       "      <td>-0.139798</td>\n",
       "      <td>-0.139798</td>\n",
       "      <td>-0.139798</td>\n",
       "      <td>-0.139798</td>\n",
       "      <td>0.0</td>\n",
       "      <td>0.0</td>\n",
       "      <td>0.0</td>\n",
       "      <td>95.930338</td>\n",
       "    </tr>\n",
       "    <tr>\n",
       "      <th>4</th>\n",
       "      <td>1749-05-01</td>\n",
       "      <td>95.653499</td>\n",
       "      <td>15.641305</td>\n",
       "      <td>188.285939</td>\n",
       "      <td>95.653499</td>\n",
       "      <td>95.653499</td>\n",
       "      <td>4.915987</td>\n",
       "      <td>4.915987</td>\n",
       "      <td>4.915987</td>\n",
       "      <td>4.915987</td>\n",
       "      <td>4.915987</td>\n",
       "      <td>4.915987</td>\n",
       "      <td>0.0</td>\n",
       "      <td>0.0</td>\n",
       "      <td>0.0</td>\n",
       "      <td>100.569486</td>\n",
       "    </tr>\n",
       "  </tbody>\n",
       "</table>\n",
       "</div>"
      ],
      "text/plain": [
       "          ds      trend  yhat_lower  yhat_upper  trend_lower  trend_upper  \\\n",
       "0 1749-01-01  97.320049    6.314532  175.001354    97.320049    97.320049   \n",
       "1 1749-02-01  96.889523   10.212472  175.415825    96.889523    96.889523   \n",
       "2 1749-03-01  96.500662    7.623223  177.965391    96.500662    96.500662   \n",
       "3 1749-04-01  96.070136   15.873723  172.938954    96.070136    96.070136   \n",
       "4 1749-05-01  95.653499   15.641305  188.285939    95.653499    95.653499   \n",
       "\n",
       "   additive_terms  additive_terms_lower  additive_terms_upper    yearly  \\\n",
       "0       -4.393434             -4.393434             -4.393434 -4.393434   \n",
       "1       -2.051197             -2.051197             -2.051197 -2.051197   \n",
       "2       -3.591143             -3.591143             -3.591143 -3.591143   \n",
       "3       -0.139798             -0.139798             -0.139798 -0.139798   \n",
       "4        4.915987              4.915987              4.915987  4.915987   \n",
       "\n",
       "   yearly_lower  yearly_upper  multiplicative_terms  \\\n",
       "0     -4.393434     -4.393434                   0.0   \n",
       "1     -2.051197     -2.051197                   0.0   \n",
       "2     -3.591143     -3.591143                   0.0   \n",
       "3     -0.139798     -0.139798                   0.0   \n",
       "4      4.915987      4.915987                   0.0   \n",
       "\n",
       "   multiplicative_terms_lower  multiplicative_terms_upper        yhat  \n",
       "0                         0.0                         0.0   92.926615  \n",
       "1                         0.0                         0.0   94.838327  \n",
       "2                         0.0                         0.0   92.909518  \n",
       "3                         0.0                         0.0   95.930338  \n",
       "4                         0.0                         0.0  100.569486  "
      ]
     },
     "execution_count": 51,
     "metadata": {},
     "output_type": "execute_result"
    }
   ],
   "source": [
    "\n",
    "future = m.make_future_dataframe(periods = 9, freq = 'MS')\n",
    "forecast = m.predict(future)\n",
    "forecast.head()"
   ]
  },
  {
   "cell_type": "code",
   "execution_count": 52,
   "metadata": {
    "pycharm": {
     "name": "#%%\n"
    }
   },
   "outputs": [
    {
     "data": {
      "image/png": "[encoded data removed]",
      "text/plain": [
       "<Figure size 648x432 with 2 Axes>"
      ]
     },
     "execution_count": 52,
     "metadata": {},
     "output_type": "execute_result"
    },
    {
     "data": {
      "image/png": "[encoded data removed]",
      "text/plain": [
       "<Figure size 648x432 with 2 Axes>"
      ]
     },
     "metadata": {},
     "output_type": "display_data"
    }
   ],
   "source": [
    "# plot the trend, annual seasonality and weekly seasonality of the time series\n",
    "m.plot_components(forecast)"
   ]
  },
  {
   "cell_type": "code",
   "execution_count": null,
   "metadata": {
    "pycharm": {
     "name": "#%%\n"
    }
   },
   "outputs": [],
   "source": []
  },
  {
   "cell_type": "markdown",
   "metadata": {
    "pycharm": {
     "name": "#%% md\n"
    }
   },
   "source": [
    "# CROSS VALIDATION FOR EVALUATING MODEL"
   ]
  },
  {
   "cell_type": "code",
   "execution_count": 53,
   "metadata": {
    "pycharm": {
     "name": "#%%\n"
    }
   },
   "outputs": [
    {
     "name": "stderr",
     "output_type": "stream",
     "text": [
      "INFO:fbprophet:Making 41 forecasts with cutoffs between 1995-11-07 00:00:00 and 2017-10-02 00:00:00\n"
     ]
    },
    {
     "data": {
      "application/vnd.jupyter.widget-view+json": {
       "model_id": "cac97666ca7d4fa7a5233da24a1edfde",
       "version_major": 2,
       "version_minor": 0
      },
      "text/plain": [
       "  0%|          | 0/41 [00:00<?, ?it/s]"
      ]
     },
     "metadata": {},
     "output_type": "display_data"
    },
    {
     "data": {
      "text/html": [
       "<div>\n",
       "<style scoped>\n",
       "    .dataframe tbody tr th:only-of-type {\n",
       "        vertical-align: middle;\n",
       "    }\n",
       "\n",
       "    .dataframe tbody tr th {\n",
       "        vertical-align: top;\n",
       "    }\n",
       "\n",
       "    .dataframe thead th {\n",
       "        text-align: right;\n",
       "    }\n",
       "</style>\n",
       "<table border=\"1\" class=\"dataframe\">\n",
       "  <thead>\n",
       "    <tr style=\"text-align: right;\">\n",
       "      <th></th>\n",
       "      <th>ds</th>\n",
       "      <th>yhat</th>\n",
       "      <th>yhat_lower</th>\n",
       "      <th>yhat_upper</th>\n",
       "      <th>y</th>\n",
       "      <th>cutoff</th>\n",
       "    </tr>\n",
       "  </thead>\n",
       "  <tbody>\n",
       "    <tr>\n",
       "      <th>0</th>\n",
       "      <td>1995-12-01</td>\n",
       "      <td>107.948602</td>\n",
       "      <td>22.163286</td>\n",
       "      <td>199.567416</td>\n",
       "      <td>14.9</td>\n",
       "      <td>1995-11-07</td>\n",
       "    </tr>\n",
       "    <tr>\n",
       "      <th>1</th>\n",
       "      <td>1996-06-01</td>\n",
       "      <td>107.124258</td>\n",
       "      <td>14.237534</td>\n",
       "      <td>191.069645</td>\n",
       "      <td>16.5</td>\n",
       "      <td>1996-05-25</td>\n",
       "    </tr>\n",
       "    <tr>\n",
       "      <th>2</th>\n",
       "      <td>1997-01-01</td>\n",
       "      <td>102.887939</td>\n",
       "      <td>22.254188</td>\n",
       "      <td>187.122468</td>\n",
       "      <td>7.4</td>\n",
       "      <td>1996-12-11</td>\n",
       "    </tr>\n",
       "    <tr>\n",
       "      <th>3</th>\n",
       "      <td>1997-07-01</td>\n",
       "      <td>105.881481</td>\n",
       "      <td>27.710695</td>\n",
       "      <td>193.983907</td>\n",
       "      <td>12.9</td>\n",
       "      <td>1997-06-29</td>\n",
       "    </tr>\n",
       "    <tr>\n",
       "      <th>4</th>\n",
       "      <td>1998-02-01</td>\n",
       "      <td>106.334226</td>\n",
       "      <td>23.741553</td>\n",
       "      <td>182.163038</td>\n",
       "      <td>50.2</td>\n",
       "      <td>1998-01-15</td>\n",
       "    </tr>\n",
       "    <tr>\n",
       "      <th>5</th>\n",
       "      <td>1998-09-01</td>\n",
       "      <td>105.364193</td>\n",
       "      <td>20.609454</td>\n",
       "      <td>189.811037</td>\n",
       "      <td>132.0</td>\n",
       "      <td>1998-08-03</td>\n",
       "    </tr>\n",
       "    <tr>\n",
       "      <th>6</th>\n",
       "      <td>1999-03-01</td>\n",
       "      <td>104.181553</td>\n",
       "      <td>23.946207</td>\n",
       "      <td>189.302660</td>\n",
       "      <td>103.5</td>\n",
       "      <td>1999-02-19</td>\n",
       "    </tr>\n",
       "    <tr>\n",
       "      <th>7</th>\n",
       "      <td>1999-10-01</td>\n",
       "      <td>106.338343</td>\n",
       "      <td>20.625261</td>\n",
       "      <td>190.026411</td>\n",
       "      <td>168.7</td>\n",
       "      <td>1999-09-07</td>\n",
       "    </tr>\n",
       "    <tr>\n",
       "      <th>8</th>\n",
       "      <td>2000-04-01</td>\n",
       "      <td>104.077677</td>\n",
       "      <td>15.048985</td>\n",
       "      <td>186.609441</td>\n",
       "      <td>191.5</td>\n",
       "      <td>2000-03-25</td>\n",
       "    </tr>\n",
       "    <tr>\n",
       "      <th>9</th>\n",
       "      <td>2000-11-01</td>\n",
       "      <td>103.675667</td>\n",
       "      <td>21.646199</td>\n",
       "      <td>183.767636</td>\n",
       "      <td>158.1</td>\n",
       "      <td>2000-10-11</td>\n",
       "    </tr>\n",
       "    <tr>\n",
       "      <th>10</th>\n",
       "      <td>2001-05-01</td>\n",
       "      <td>105.780063</td>\n",
       "      <td>12.759610</td>\n",
       "      <td>194.033338</td>\n",
       "      <td>142.1</td>\n",
       "      <td>2001-04-29</td>\n",
       "    </tr>\n",
       "    <tr>\n",
       "      <th>11</th>\n",
       "      <td>2001-12-01</td>\n",
       "      <td>107.255039</td>\n",
       "      <td>21.032499</td>\n",
       "      <td>193.711003</td>\n",
       "      <td>213.4</td>\n",
       "      <td>2001-11-15</td>\n",
       "    </tr>\n",
       "    <tr>\n",
       "      <th>12</th>\n",
       "      <td>2002-07-01</td>\n",
       "      <td>109.544012</td>\n",
       "      <td>27.456553</td>\n",
       "      <td>193.338204</td>\n",
       "      <td>161.0</td>\n",
       "      <td>2002-06-03</td>\n",
       "    </tr>\n",
       "    <tr>\n",
       "      <th>13</th>\n",
       "      <td>2003-01-01</td>\n",
       "      <td>106.083056</td>\n",
       "      <td>23.888581</td>\n",
       "      <td>187.669823</td>\n",
       "      <td>133.5</td>\n",
       "      <td>2002-12-20</td>\n",
       "    </tr>\n",
       "    <tr>\n",
       "      <th>14</th>\n",
       "      <td>2003-08-01</td>\n",
       "      <td>113.379075</td>\n",
       "      <td>26.932563</td>\n",
       "      <td>196.074649</td>\n",
       "      <td>115.4</td>\n",
       "      <td>2003-07-08</td>\n",
       "    </tr>\n",
       "    <tr>\n",
       "      <th>15</th>\n",
       "      <td>2004-02-01</td>\n",
       "      <td>111.535107</td>\n",
       "      <td>27.457554</td>\n",
       "      <td>198.331155</td>\n",
       "      <td>74.6</td>\n",
       "      <td>2004-01-24</td>\n",
       "    </tr>\n",
       "    <tr>\n",
       "      <th>16</th>\n",
       "      <td>2004-09-01</td>\n",
       "      <td>110.160585</td>\n",
       "      <td>25.834207</td>\n",
       "      <td>198.955616</td>\n",
       "      <td>48.8</td>\n",
       "      <td>2004-08-11</td>\n",
       "    </tr>\n",
       "    <tr>\n",
       "      <th>17</th>\n",
       "      <td>2005-03-01</td>\n",
       "      <td>108.005245</td>\n",
       "      <td>25.903270</td>\n",
       "      <td>190.670100</td>\n",
       "      <td>39.6</td>\n",
       "      <td>2005-02-27</td>\n",
       "    </tr>\n",
       "    <tr>\n",
       "      <th>18</th>\n",
       "      <td>2005-10-01</td>\n",
       "      <td>109.668816</td>\n",
       "      <td>23.812142</td>\n",
       "      <td>186.823660</td>\n",
       "      <td>13.2</td>\n",
       "      <td>2005-09-15</td>\n",
       "    </tr>\n",
       "    <tr>\n",
       "      <th>19</th>\n",
       "      <td>2006-05-01</td>\n",
       "      <td>105.436305</td>\n",
       "      <td>22.285413</td>\n",
       "      <td>193.476197</td>\n",
       "      <td>37.2</td>\n",
       "      <td>2006-04-03</td>\n",
       "    </tr>\n",
       "    <tr>\n",
       "      <th>20</th>\n",
       "      <td>2006-11-01</td>\n",
       "      <td>102.346189</td>\n",
       "      <td>15.517304</td>\n",
       "      <td>186.281195</td>\n",
       "      <td>35.7</td>\n",
       "      <td>2006-10-20</td>\n",
       "    </tr>\n",
       "    <tr>\n",
       "      <th>21</th>\n",
       "      <td>2007-06-01</td>\n",
       "      <td>106.337339</td>\n",
       "      <td>20.580926</td>\n",
       "      <td>190.827793</td>\n",
       "      <td>21.3</td>\n",
       "      <td>2007-05-08</td>\n",
       "    </tr>\n",
       "    <tr>\n",
       "      <th>22</th>\n",
       "      <td>2007-12-01</td>\n",
       "      <td>104.536314</td>\n",
       "      <td>18.383907</td>\n",
       "      <td>182.835445</td>\n",
       "      <td>17.3</td>\n",
       "      <td>2007-11-24</td>\n",
       "    </tr>\n",
       "    <tr>\n",
       "      <th>23</th>\n",
       "      <td>2008-07-01</td>\n",
       "      <td>104.340880</td>\n",
       "      <td>22.199477</td>\n",
       "      <td>179.722258</td>\n",
       "      <td>0.6</td>\n",
       "      <td>2008-06-11</td>\n",
       "    </tr>\n",
       "    <tr>\n",
       "      <th>24</th>\n",
       "      <td>2009-01-01</td>\n",
       "      <td>98.965081</td>\n",
       "      <td>18.833801</td>\n",
       "      <td>180.654377</td>\n",
       "      <td>1.3</td>\n",
       "      <td>2008-12-28</td>\n",
       "    </tr>\n",
       "    <tr>\n",
       "      <th>25</th>\n",
       "      <td>2009-08-01</td>\n",
       "      <td>104.428279</td>\n",
       "      <td>18.443674</td>\n",
       "      <td>188.900356</td>\n",
       "      <td>0.0</td>\n",
       "      <td>2009-07-16</td>\n",
       "    </tr>\n",
       "    <tr>\n",
       "      <th>26</th>\n",
       "      <td>2010-03-01</td>\n",
       "      <td>99.735269</td>\n",
       "      <td>16.720482</td>\n",
       "      <td>180.378082</td>\n",
       "      <td>24.0</td>\n",
       "      <td>2010-02-01</td>\n",
       "    </tr>\n",
       "    <tr>\n",
       "      <th>27</th>\n",
       "      <td>2010-09-01</td>\n",
       "      <td>100.616654</td>\n",
       "      <td>14.224548</td>\n",
       "      <td>182.551715</td>\n",
       "      <td>36.4</td>\n",
       "      <td>2010-08-20</td>\n",
       "    </tr>\n",
       "    <tr>\n",
       "      <th>28</th>\n",
       "      <td>2011-04-01</td>\n",
       "      <td>96.821060</td>\n",
       "      <td>13.285813</td>\n",
       "      <td>181.764758</td>\n",
       "      <td>76.1</td>\n",
       "      <td>2011-03-08</td>\n",
       "    </tr>\n",
       "    <tr>\n",
       "      <th>29</th>\n",
       "      <td>2011-10-01</td>\n",
       "      <td>100.039037</td>\n",
       "      <td>13.153234</td>\n",
       "      <td>183.032044</td>\n",
       "      <td>125.7</td>\n",
       "      <td>2011-09-24</td>\n",
       "    </tr>\n",
       "    <tr>\n",
       "      <th>30</th>\n",
       "      <td>2012-05-01</td>\n",
       "      <td>98.198616</td>\n",
       "      <td>17.266712</td>\n",
       "      <td>182.868452</td>\n",
       "      <td>96.5</td>\n",
       "      <td>2012-04-11</td>\n",
       "    </tr>\n",
       "    <tr>\n",
       "      <th>31</th>\n",
       "      <td>2012-11-01</td>\n",
       "      <td>96.242367</td>\n",
       "      <td>12.779033</td>\n",
       "      <td>178.323736</td>\n",
       "      <td>87.6</td>\n",
       "      <td>2012-10-28</td>\n",
       "    </tr>\n",
       "    <tr>\n",
       "      <th>32</th>\n",
       "      <td>2013-06-01</td>\n",
       "      <td>98.453487</td>\n",
       "      <td>16.985313</td>\n",
       "      <td>180.936442</td>\n",
       "      <td>76.7</td>\n",
       "      <td>2013-05-16</td>\n",
       "    </tr>\n",
       "    <tr>\n",
       "      <th>33</th>\n",
       "      <td>2014-01-01</td>\n",
       "      <td>94.910816</td>\n",
       "      <td>11.117694</td>\n",
       "      <td>178.761666</td>\n",
       "      <td>117.0</td>\n",
       "      <td>2013-12-02</td>\n",
       "    </tr>\n",
       "    <tr>\n",
       "      <th>34</th>\n",
       "      <td>2014-07-01</td>\n",
       "      <td>99.330057</td>\n",
       "      <td>15.921514</td>\n",
       "      <td>181.911593</td>\n",
       "      <td>100.2</td>\n",
       "      <td>2014-06-20</td>\n",
       "    </tr>\n",
       "    <tr>\n",
       "      <th>35</th>\n",
       "      <td>2015-02-01</td>\n",
       "      <td>99.064775</td>\n",
       "      <td>15.416843</td>\n",
       "      <td>180.764955</td>\n",
       "      <td>66.7</td>\n",
       "      <td>2015-01-06</td>\n",
       "    </tr>\n",
       "    <tr>\n",
       "      <th>36</th>\n",
       "      <td>2015-08-01</td>\n",
       "      <td>101.846471</td>\n",
       "      <td>18.549056</td>\n",
       "      <td>186.923789</td>\n",
       "      <td>64.4</td>\n",
       "      <td>2015-07-25</td>\n",
       "    </tr>\n",
       "    <tr>\n",
       "      <th>37</th>\n",
       "      <td>2016-03-01</td>\n",
       "      <td>96.486192</td>\n",
       "      <td>15.826180</td>\n",
       "      <td>180.709948</td>\n",
       "      <td>54.1</td>\n",
       "      <td>2016-02-10</td>\n",
       "    </tr>\n",
       "    <tr>\n",
       "      <th>38</th>\n",
       "      <td>2016-09-01</td>\n",
       "      <td>98.350198</td>\n",
       "      <td>16.052227</td>\n",
       "      <td>180.457888</td>\n",
       "      <td>44.6</td>\n",
       "      <td>2016-08-28</td>\n",
       "    </tr>\n",
       "    <tr>\n",
       "      <th>39</th>\n",
       "      <td>2017-04-01</td>\n",
       "      <td>95.146526</td>\n",
       "      <td>14.306429</td>\n",
       "      <td>177.410454</td>\n",
       "      <td>32.3</td>\n",
       "      <td>2017-03-16</td>\n",
       "    </tr>\n",
       "    <tr>\n",
       "      <th>40</th>\n",
       "      <td>2017-11-01</td>\n",
       "      <td>92.936040</td>\n",
       "      <td>7.778308</td>\n",
       "      <td>181.492297</td>\n",
       "      <td>5.7</td>\n",
       "      <td>2017-10-02</td>\n",
       "    </tr>\n",
       "  </tbody>\n",
       "</table>\n",
       "</div>"
      ],
      "text/plain": [
       "           ds        yhat  yhat_lower  yhat_upper      y     cutoff\n",
       "0  1995-12-01  107.948602   22.163286  199.567416   14.9 1995-11-07\n",
       "1  1996-06-01  107.124258   14.237534  191.069645   16.5 1996-05-25\n",
       "2  1997-01-01  102.887939   22.254188  187.122468    7.4 1996-12-11\n",
       "3  1997-07-01  105.881481   27.710695  193.983907   12.9 1997-06-29\n",
       "4  1998-02-01  106.334226   23.741553  182.163038   50.2 1998-01-15\n",
       "5  1998-09-01  105.364193   20.609454  189.811037  132.0 1998-08-03\n",
       "6  1999-03-01  104.181553   23.946207  189.302660  103.5 1999-02-19\n",
       "7  1999-10-01  106.338343   20.625261  190.026411  168.7 1999-09-07\n",
       "8  2000-04-01  104.077677   15.048985  186.609441  191.5 2000-03-25\n",
       "9  2000-11-01  103.675667   21.646199  183.767636  158.1 2000-10-11\n",
       "10 2001-05-01  105.780063   12.759610  194.033338  142.1 2001-04-29\n",
       "11 2001-12-01  107.255039   21.032499  193.711003  213.4 2001-11-15\n",
       "12 2002-07-01  109.544012   27.456553  193.338204  161.0 2002-06-03\n",
       "13 2003-01-01  106.083056   23.888581  187.669823  133.5 2002-12-20\n",
       "14 2003-08-01  113.379075   26.932563  196.074649  115.4 2003-07-08\n",
       "15 2004-02-01  111.535107   27.457554  198.331155   74.6 2004-01-24\n",
       "16 2004-09-01  110.160585   25.834207  198.955616   48.8 2004-08-11\n",
       "17 2005-03-01  108.005245   25.903270  190.670100   39.6 2005-02-27\n",
       "18 2005-10-01  109.668816   23.812142  186.823660   13.2 2005-09-15\n",
       "19 2006-05-01  105.436305   22.285413  193.476197   37.2 2006-04-03\n",
       "20 2006-11-01  102.346189   15.517304  186.281195   35.7 2006-10-20\n",
       "21 2007-06-01  106.337339   20.580926  190.827793   21.3 2007-05-08\n",
       "22 2007-12-01  104.536314   18.383907  182.835445   17.3 2007-11-24\n",
       "23 2008-07-01  104.340880   22.199477  179.722258    0.6 2008-06-11\n",
       "24 2009-01-01   98.965081   18.833801  180.654377    1.3 2008-12-28\n",
       "25 2009-08-01  104.428279   18.443674  188.900356    0.0 2009-07-16\n",
       "26 2010-03-01   99.735269   16.720482  180.378082   24.0 2010-02-01\n",
       "27 2010-09-01  100.616654   14.224548  182.551715   36.4 2010-08-20\n",
       "28 2011-04-01   96.821060   13.285813  181.764758   76.1 2011-03-08\n",
       "29 2011-10-01  100.039037   13.153234  183.032044  125.7 2011-09-24\n",
       "30 2012-05-01   98.198616   17.266712  182.868452   96.5 2012-04-11\n",
       "31 2012-11-01   96.242367   12.779033  178.323736   87.6 2012-10-28\n",
       "32 2013-06-01   98.453487   16.985313  180.936442   76.7 2013-05-16\n",
       "33 2014-01-01   94.910816   11.117694  178.761666  117.0 2013-12-02\n",
       "34 2014-07-01   99.330057   15.921514  181.911593  100.2 2014-06-20\n",
       "35 2015-02-01   99.064775   15.416843  180.764955   66.7 2015-01-06\n",
       "36 2015-08-01  101.846471   18.549056  186.923789   64.4 2015-07-25\n",
       "37 2016-03-01   96.486192   15.826180  180.709948   54.1 2016-02-10\n",
       "38 2016-09-01   98.350198   16.052227  180.457888   44.6 2016-08-28\n",
       "39 2017-04-01   95.146526   14.306429  177.410454   32.3 2017-03-16\n",
       "40 2017-11-01   92.936040    7.778308  181.492297    5.7 2017-10-02"
      ]
     },
     "execution_count": 53,
     "metadata": {},
     "output_type": "execute_result"
    }
   ],
   "source": [
    "from fbprophet.diagnostics import cross_validation\n",
    "y_cv = cross_validation(ml, initial = '90000 days', period = '200 days', horizon = '30 days')\n",
    "y_cv "
   ]
  },
  {
   "cell_type": "code",
   "execution_count": 25,
   "metadata": {
    "pycharm": {
     "name": "#%%\n"
    }
   },
   "outputs": [
    {
     "name": "stderr",
     "output_type": "stream",
     "text": [
      "INFO:fbprophet:Making 41 forecasts with cutoffs between 1995-11-07 00:00:00 and 2017-10-02 00:00:00\n"
     ]
    },
    {
     "data": {
      "application/vnd.jupyter.widget-view+json": {
       "model_id": "ddf6741b38cc44a69c2e09380b57f87f",
       "version_major": 2,
       "version_minor": 0
      },
      "text/plain": [
       "  0%|          | 0/41 [00:00<?, ?it/s]"
      ]
     },
     "metadata": {},
     "output_type": "display_data"
    }
   ],
   "source": []
  },
  {
   "cell_type": "code",
   "execution_count": 14,
   "metadata": {
    "pycharm": {
     "name": "#%%\n"
    }
   },
   "outputs": [
    {
     "data": {
      "text/html": [
       "<div>\n",
       "<style scoped>\n",
       "    .dataframe tbody tr th:only-of-type {\n",
       "        vertical-align: middle;\n",
       "    }\n",
       "\n",
       "    .dataframe tbody tr th {\n",
       "        vertical-align: top;\n",
       "    }\n",
       "\n",
       "    .dataframe thead th {\n",
       "        text-align: right;\n",
       "    }\n",
       "</style>\n",
       "<table border=\"1\" class=\"dataframe\">\n",
       "  <thead>\n",
       "    <tr style=\"text-align: right;\">\n",
       "      <th></th>\n",
       "      <th>ds</th>\n",
       "      <th>yhat</th>\n",
       "      <th>yhat_lower</th>\n",
       "      <th>yhat_upper</th>\n",
       "      <th>y</th>\n",
       "      <th>cutoff</th>\n",
       "    </tr>\n",
       "  </thead>\n",
       "  <tbody>\n",
       "    <tr>\n",
       "      <th>0</th>\n",
       "      <td>1995-12-01</td>\n",
       "      <td>107.948602</td>\n",
       "      <td>21.589929</td>\n",
       "      <td>190.747645</td>\n",
       "      <td>14.9</td>\n",
       "      <td>1995-11-27</td>\n",
       "    </tr>\n",
       "    <tr>\n",
       "      <th>1</th>\n",
       "      <td>1996-07-01</td>\n",
       "      <td>107.326275</td>\n",
       "      <td>25.113473</td>\n",
       "      <td>188.175179</td>\n",
       "      <td>11.8</td>\n",
       "      <td>1996-06-24</td>\n",
       "    </tr>\n",
       "    <tr>\n",
       "      <th>2</th>\n",
       "      <td>1997-02-01</td>\n",
       "      <td>107.274643</td>\n",
       "      <td>21.037365</td>\n",
       "      <td>190.232273</td>\n",
       "      <td>11.0</td>\n",
       "      <td>1997-01-20</td>\n",
       "    </tr>\n",
       "    <tr>\n",
       "      <th>3</th>\n",
       "      <td>1997-09-01</td>\n",
       "      <td>105.935675</td>\n",
       "      <td>20.403942</td>\n",
       "      <td>192.437353</td>\n",
       "      <td>59.7</td>\n",
       "      <td>1997-08-18</td>\n",
       "    </tr>\n",
       "    <tr>\n",
       "      <th>4</th>\n",
       "      <td>1998-04-01</td>\n",
       "      <td>102.822166</td>\n",
       "      <td>19.509457</td>\n",
       "      <td>183.287640</td>\n",
       "      <td>70.6</td>\n",
       "      <td>1998-03-16</td>\n",
       "    </tr>\n",
       "    <tr>\n",
       "      <th>5</th>\n",
       "      <td>1998-11-01</td>\n",
       "      <td>99.224529</td>\n",
       "      <td>16.580860</td>\n",
       "      <td>177.971489</td>\n",
       "      <td>97.3</td>\n",
       "      <td>1998-10-12</td>\n",
       "    </tr>\n",
       "    <tr>\n",
       "      <th>6</th>\n",
       "      <td>1999-06-01</td>\n",
       "      <td>104.089227</td>\n",
       "      <td>21.454223</td>\n",
       "      <td>193.047415</td>\n",
       "      <td>207.2</td>\n",
       "      <td>1999-05-10</td>\n",
       "    </tr>\n",
       "    <tr>\n",
       "      <th>7</th>\n",
       "      <td>2000-01-01</td>\n",
       "      <td>102.143142</td>\n",
       "      <td>14.284737</td>\n",
       "      <td>184.641207</td>\n",
       "      <td>133.1</td>\n",
       "      <td>1999-12-06</td>\n",
       "    </tr>\n",
       "    <tr>\n",
       "      <th>8</th>\n",
       "      <td>2000-08-01</td>\n",
       "      <td>108.333902</td>\n",
       "      <td>23.523164</td>\n",
       "      <td>188.699815</td>\n",
       "      <td>180.5</td>\n",
       "      <td>2000-07-03</td>\n",
       "    </tr>\n",
       "    <tr>\n",
       "      <th>9</th>\n",
       "      <td>2001-02-01</td>\n",
       "      <td>107.593767</td>\n",
       "      <td>24.856659</td>\n",
       "      <td>194.289001</td>\n",
       "      <td>121.5</td>\n",
       "      <td>2001-01-29</td>\n",
       "    </tr>\n",
       "    <tr>\n",
       "      <th>10</th>\n",
       "      <td>2001-09-01</td>\n",
       "      <td>107.863948</td>\n",
       "      <td>21.181445</td>\n",
       "      <td>185.218088</td>\n",
       "      <td>238.2</td>\n",
       "      <td>2001-08-27</td>\n",
       "    </tr>\n",
       "    <tr>\n",
       "      <th>11</th>\n",
       "      <td>2002-04-01</td>\n",
       "      <td>106.475280</td>\n",
       "      <td>19.587018</td>\n",
       "      <td>191.126465</td>\n",
       "      <td>186.9</td>\n",
       "      <td>2002-03-25</td>\n",
       "    </tr>\n",
       "    <tr>\n",
       "      <th>12</th>\n",
       "      <td>2002-11-01</td>\n",
       "      <td>104.628708</td>\n",
       "      <td>19.922413</td>\n",
       "      <td>188.293374</td>\n",
       "      <td>147.2</td>\n",
       "      <td>2002-10-21</td>\n",
       "    </tr>\n",
       "    <tr>\n",
       "      <th>13</th>\n",
       "      <td>2003-06-01</td>\n",
       "      <td>109.887841</td>\n",
       "      <td>30.936731</td>\n",
       "      <td>198.386475</td>\n",
       "      <td>118.7</td>\n",
       "      <td>2003-05-19</td>\n",
       "    </tr>\n",
       "    <tr>\n",
       "      <th>14</th>\n",
       "      <td>2004-01-01</td>\n",
       "      <td>106.648786</td>\n",
       "      <td>19.863020</td>\n",
       "      <td>190.934925</td>\n",
       "      <td>60.6</td>\n",
       "      <td>2003-12-15</td>\n",
       "    </tr>\n",
       "    <tr>\n",
       "      <th>15</th>\n",
       "      <td>2004-08-01</td>\n",
       "      <td>111.616435</td>\n",
       "      <td>19.792959</td>\n",
       "      <td>189.860233</td>\n",
       "      <td>69.7</td>\n",
       "      <td>2004-07-12</td>\n",
       "    </tr>\n",
       "    <tr>\n",
       "      <th>16</th>\n",
       "      <td>2005-03-01</td>\n",
       "      <td>108.005245</td>\n",
       "      <td>25.532164</td>\n",
       "      <td>187.360138</td>\n",
       "      <td>39.6</td>\n",
       "      <td>2005-02-07</td>\n",
       "    </tr>\n",
       "    <tr>\n",
       "      <th>17</th>\n",
       "      <td>2005-10-01</td>\n",
       "      <td>109.668816</td>\n",
       "      <td>28.113982</td>\n",
       "      <td>191.862716</td>\n",
       "      <td>13.2</td>\n",
       "      <td>2005-09-05</td>\n",
       "    </tr>\n",
       "    <tr>\n",
       "      <th>18</th>\n",
       "      <td>2006-05-01</td>\n",
       "      <td>105.436305</td>\n",
       "      <td>16.895400</td>\n",
       "      <td>187.693164</td>\n",
       "      <td>37.2</td>\n",
       "      <td>2006-04-03</td>\n",
       "    </tr>\n",
       "    <tr>\n",
       "      <th>19</th>\n",
       "      <td>2006-11-01</td>\n",
       "      <td>102.346189</td>\n",
       "      <td>21.266840</td>\n",
       "      <td>176.358371</td>\n",
       "      <td>35.7</td>\n",
       "      <td>2006-10-30</td>\n",
       "    </tr>\n",
       "    <tr>\n",
       "      <th>20</th>\n",
       "      <td>2007-06-01</td>\n",
       "      <td>106.337339</td>\n",
       "      <td>19.754976</td>\n",
       "      <td>185.475617</td>\n",
       "      <td>21.3</td>\n",
       "      <td>2007-05-28</td>\n",
       "    </tr>\n",
       "    <tr>\n",
       "      <th>21</th>\n",
       "      <td>2008-01-01</td>\n",
       "      <td>101.718203</td>\n",
       "      <td>22.632182</td>\n",
       "      <td>193.205271</td>\n",
       "      <td>4.1</td>\n",
       "      <td>2007-12-24</td>\n",
       "    </tr>\n",
       "    <tr>\n",
       "      <th>22</th>\n",
       "      <td>2008-08-01</td>\n",
       "      <td>105.727693</td>\n",
       "      <td>21.856297</td>\n",
       "      <td>191.963116</td>\n",
       "      <td>0.3</td>\n",
       "      <td>2008-07-21</td>\n",
       "    </tr>\n",
       "    <tr>\n",
       "      <th>23</th>\n",
       "      <td>2009-03-01</td>\n",
       "      <td>101.238817</td>\n",
       "      <td>17.917780</td>\n",
       "      <td>183.878562</td>\n",
       "      <td>0.6</td>\n",
       "      <td>2009-02-16</td>\n",
       "    </tr>\n",
       "    <tr>\n",
       "      <th>24</th>\n",
       "      <td>2009-10-01</td>\n",
       "      <td>102.396687</td>\n",
       "      <td>20.579841</td>\n",
       "      <td>184.097693</td>\n",
       "      <td>7.7</td>\n",
       "      <td>2009-09-14</td>\n",
       "    </tr>\n",
       "    <tr>\n",
       "      <th>25</th>\n",
       "      <td>2010-05-01</td>\n",
       "      <td>98.436084</td>\n",
       "      <td>15.185402</td>\n",
       "      <td>180.203496</td>\n",
       "      <td>13.9</td>\n",
       "      <td>2010-04-12</td>\n",
       "    </tr>\n",
       "    <tr>\n",
       "      <th>26</th>\n",
       "      <td>2010-12-01</td>\n",
       "      <td>99.064788</td>\n",
       "      <td>14.229119</td>\n",
       "      <td>185.525414</td>\n",
       "      <td>24.5</td>\n",
       "      <td>2010-11-08</td>\n",
       "    </tr>\n",
       "    <tr>\n",
       "      <th>27</th>\n",
       "      <td>2011-07-01</td>\n",
       "      <td>100.310198</td>\n",
       "      <td>12.132414</td>\n",
       "      <td>182.195187</td>\n",
       "      <td>64.5</td>\n",
       "      <td>2011-06-06</td>\n",
       "    </tr>\n",
       "    <tr>\n",
       "      <th>28</th>\n",
       "      <td>2012-02-01</td>\n",
       "      <td>100.028699</td>\n",
       "      <td>12.734007</td>\n",
       "      <td>184.625075</td>\n",
       "      <td>47.8</td>\n",
       "      <td>2012-01-02</td>\n",
       "    </tr>\n",
       "    <tr>\n",
       "      <th>29</th>\n",
       "      <td>2012-08-01</td>\n",
       "      <td>100.665455</td>\n",
       "      <td>8.633015</td>\n",
       "      <td>178.574786</td>\n",
       "      <td>94.8</td>\n",
       "      <td>2012-07-30</td>\n",
       "    </tr>\n",
       "    <tr>\n",
       "      <th>30</th>\n",
       "      <td>2013-03-01</td>\n",
       "      <td>97.422522</td>\n",
       "      <td>14.830295</td>\n",
       "      <td>178.254249</td>\n",
       "      <td>78.3</td>\n",
       "      <td>2013-02-25</td>\n",
       "    </tr>\n",
       "    <tr>\n",
       "      <th>31</th>\n",
       "      <td>2013-10-01</td>\n",
       "      <td>99.439041</td>\n",
       "      <td>9.249455</td>\n",
       "      <td>180.896450</td>\n",
       "      <td>114.4</td>\n",
       "      <td>2013-09-23</td>\n",
       "    </tr>\n",
       "    <tr>\n",
       "      <th>32</th>\n",
       "      <td>2014-05-01</td>\n",
       "      <td>96.564504</td>\n",
       "      <td>18.773445</td>\n",
       "      <td>180.846855</td>\n",
       "      <td>112.5</td>\n",
       "      <td>2014-04-21</td>\n",
       "    </tr>\n",
       "    <tr>\n",
       "      <th>33</th>\n",
       "      <td>2014-12-01</td>\n",
       "      <td>97.981309</td>\n",
       "      <td>11.056927</td>\n",
       "      <td>178.760031</td>\n",
       "      <td>112.9</td>\n",
       "      <td>2014-11-17</td>\n",
       "    </tr>\n",
       "    <tr>\n",
       "      <th>34</th>\n",
       "      <td>2015-07-01</td>\n",
       "      <td>99.587684</td>\n",
       "      <td>14.437494</td>\n",
       "      <td>177.865897</td>\n",
       "      <td>65.8</td>\n",
       "      <td>2015-06-15</td>\n",
       "    </tr>\n",
       "    <tr>\n",
       "      <th>35</th>\n",
       "      <td>2016-02-01</td>\n",
       "      <td>98.844940</td>\n",
       "      <td>14.551066</td>\n",
       "      <td>177.372625</td>\n",
       "      <td>56.4</td>\n",
       "      <td>2016-01-11</td>\n",
       "    </tr>\n",
       "    <tr>\n",
       "      <th>36</th>\n",
       "      <td>2016-09-01</td>\n",
       "      <td>98.350198</td>\n",
       "      <td>12.910286</td>\n",
       "      <td>182.948617</td>\n",
       "      <td>44.6</td>\n",
       "      <td>2016-08-08</td>\n",
       "    </tr>\n",
       "    <tr>\n",
       "      <th>37</th>\n",
       "      <td>2017-04-01</td>\n",
       "      <td>95.146526</td>\n",
       "      <td>10.359623</td>\n",
       "      <td>175.681406</td>\n",
       "      <td>32.3</td>\n",
       "      <td>2017-03-06</td>\n",
       "    </tr>\n",
       "    <tr>\n",
       "      <th>38</th>\n",
       "      <td>2017-11-01</td>\n",
       "      <td>92.936040</td>\n",
       "      <td>8.422525</td>\n",
       "      <td>173.254892</td>\n",
       "      <td>5.7</td>\n",
       "      <td>2017-10-02</td>\n",
       "    </tr>\n",
       "  </tbody>\n",
       "</table>\n",
       "</div>"
      ],
      "text/plain": [
       "           ds        yhat  yhat_lower  yhat_upper      y     cutoff\n",
       "0  1995-12-01  107.948602   21.589929  190.747645   14.9 1995-11-27\n",
       "1  1996-07-01  107.326275   25.113473  188.175179   11.8 1996-06-24\n",
       "2  1997-02-01  107.274643   21.037365  190.232273   11.0 1997-01-20\n",
       "3  1997-09-01  105.935675   20.403942  192.437353   59.7 1997-08-18\n",
       "4  1998-04-01  102.822166   19.509457  183.287640   70.6 1998-03-16\n",
       "5  1998-11-01   99.224529   16.580860  177.971489   97.3 1998-10-12\n",
       "6  1999-06-01  104.089227   21.454223  193.047415  207.2 1999-05-10\n",
       "7  2000-01-01  102.143142   14.284737  184.641207  133.1 1999-12-06\n",
       "8  2000-08-01  108.333902   23.523164  188.699815  180.5 2000-07-03\n",
       "9  2001-02-01  107.593767   24.856659  194.289001  121.5 2001-01-29\n",
       "10 2001-09-01  107.863948   21.181445  185.218088  238.2 2001-08-27\n",
       "11 2002-04-01  106.475280   19.587018  191.126465  186.9 2002-03-25\n",
       "12 2002-11-01  104.628708   19.922413  188.293374  147.2 2002-10-21\n",
       "13 2003-06-01  109.887841   30.936731  198.386475  118.7 2003-05-19\n",
       "14 2004-01-01  106.648786   19.863020  190.934925   60.6 2003-12-15\n",
       "15 2004-08-01  111.616435   19.792959  189.860233   69.7 2004-07-12\n",
       "16 2005-03-01  108.005245   25.532164  187.360138   39.6 2005-02-07\n",
       "17 2005-10-01  109.668816   28.113982  191.862716   13.2 2005-09-05\n",
       "18 2006-05-01  105.436305   16.895400  187.693164   37.2 2006-04-03\n",
       "19 2006-11-01  102.346189   21.266840  176.358371   35.7 2006-10-30\n",
       "20 2007-06-01  106.337339   19.754976  185.475617   21.3 2007-05-28\n",
       "21 2008-01-01  101.718203   22.632182  193.205271    4.1 2007-12-24\n",
       "22 2008-08-01  105.727693   21.856297  191.963116    0.3 2008-07-21\n",
       "23 2009-03-01  101.238817   17.917780  183.878562    0.6 2009-02-16\n",
       "24 2009-10-01  102.396687   20.579841  184.097693    7.7 2009-09-14\n",
       "25 2010-05-01   98.436084   15.185402  180.203496   13.9 2010-04-12\n",
       "26 2010-12-01   99.064788   14.229119  185.525414   24.5 2010-11-08\n",
       "27 2011-07-01  100.310198   12.132414  182.195187   64.5 2011-06-06\n",
       "28 2012-02-01  100.028699   12.734007  184.625075   47.8 2012-01-02\n",
       "29 2012-08-01  100.665455    8.633015  178.574786   94.8 2012-07-30\n",
       "30 2013-03-01   97.422522   14.830295  178.254249   78.3 2013-02-25\n",
       "31 2013-10-01   99.439041    9.249455  180.896450  114.4 2013-09-23\n",
       "32 2014-05-01   96.564504   18.773445  180.846855  112.5 2014-04-21\n",
       "33 2014-12-01   97.981309   11.056927  178.760031  112.9 2014-11-17\n",
       "34 2015-07-01   99.587684   14.437494  177.865897   65.8 2015-06-15\n",
       "35 2016-02-01   98.844940   14.551066  177.372625   56.4 2016-01-11\n",
       "36 2016-09-01   98.350198   12.910286  182.948617   44.6 2016-08-08\n",
       "37 2017-04-01   95.146526   10.359623  175.681406   32.3 2017-03-06\n",
       "38 2017-11-01   92.936040    8.422525  173.254892    5.7 2017-10-02"
      ]
     },
     "execution_count": 14,
     "metadata": {},
     "output_type": "execute_result"
    }
   ],
   "source": [
    "from fbprophet.diagnostics import performance_metrics\n",
    "\n",
    "\n",
    "yy = performance_metrics(y_cv )\n",
    "yy"
   ]
  },
  {
   "cell_type": "code",
   "execution_count": 47,
   "metadata": {
    "pycharm": {
     "name": "#%%\n"
    }
   },
   "outputs": [
    {
     "data": {
      "text/plain": [
       "-0.2950469826702993"
      ]
     },
     "execution_count": 47,
     "metadata": {},
     "output_type": "execute_result"
    }
   ],
   "source": [
    "# calcultae the Rsquare\n",
    "R2 = r2_score(y_cv['y'], y_cv['yhat'])\n",
    "R2"
   ]
  },
  {
   "cell_type": "code",
   "execution_count": null,
   "metadata": {
    "pycharm": {
     "name": "#%%\n"
    }
   },
   "outputs": [],
   "source": []
  },
  {
   "cell_type": "code",
   "execution_count": null,
   "metadata": {
    "pycharm": {
     "name": "#%%\n"
    }
   },
   "outputs": [],
   "source": []
  },
  {
   "cell_type": "code",
   "execution_count": null,
   "metadata": {
    "pycharm": {
     "name": "#%%\n"
    }
   },
   "outputs": [],
   "source": []
  },
  {
   "cell_type": "code",
   "execution_count": null,
   "metadata": {
    "pycharm": {
     "name": "#%%\n"
    }
   },
   "outputs": [],
   "source": []
  },
  {
   "cell_type": "code",
   "execution_count": null,
   "metadata": {
    "pycharm": {
     "name": "#%%\n"
    }
   },
   "outputs": [],
   "source": []
  },
  {
   "cell_type": "code",
   "execution_count": null,
   "metadata": {
    "pycharm": {
     "name": "#%%\n"
    }
   },
   "outputs": [],
   "source": []
  },
  {
   "cell_type": "markdown",
   "metadata": {
    "pycharm": {
     "name": "#%% md\n"
    }
   },
   "source": [
    "# LINEAR 6 MONTHS"
   ]
  },
  {
   "cell_type": "code",
   "execution_count": null,
   "metadata": {
    "pycharm": {
     "name": "#%%\n"
    }
   },
   "outputs": [],
   "source": []
  },
  {
   "cell_type": "code",
   "execution_count": 54,
   "metadata": {
    "pycharm": {
     "name": "#%%\n"
    }
   },
   "outputs": [
    {
     "name": "stderr",
     "output_type": "stream",
     "text": [
      "INFO:fbprophet:Disabling weekly seasonality. Run prophet with weekly_seasonality=True to override this.\n",
      "INFO:fbprophet:Disabling daily seasonality. Run prophet with daily_seasonality=True to override this.\n"
     ]
    }
   ],
   "source": [
    "\n",
    "# fitting the model \n",
    "m_6 = Prophet(n_changepoints= 20,\n",
    "                changepoint_range= 0.25,\n",
    "                yearly_seasonality= True,\n",
    "               changepoint_prior_scale= 0.9,\n",
    "                seasonality_mode= \"additive\"\n",
    "               )\n",
    "\n",
    "ml_6 = m_6.fit(train)"
   ]
  },
  {
   "cell_type": "code",
   "execution_count": 38,
   "metadata": {
    "pycharm": {
     "name": "#%%\n"
    }
   },
   "outputs": [
    {
     "data": {
      "text/html": [
       "<div>\n",
       "<style scoped>\n",
       "    .dataframe tbody tr th:only-of-type {\n",
       "        vertical-align: middle;\n",
       "    }\n",
       "\n",
       "    .dataframe tbody tr th {\n",
       "        vertical-align: top;\n",
       "    }\n",
       "\n",
       "    .dataframe thead th {\n",
       "        text-align: right;\n",
       "    }\n",
       "</style>\n",
       "<table border=\"1\" class=\"dataframe\">\n",
       "  <thead>\n",
       "    <tr style=\"text-align: right;\">\n",
       "      <th></th>\n",
       "      <th>ds</th>\n",
       "      <th>trend</th>\n",
       "      <th>yhat_lower</th>\n",
       "      <th>yhat_upper</th>\n",
       "      <th>trend_lower</th>\n",
       "      <th>trend_upper</th>\n",
       "      <th>additive_terms</th>\n",
       "      <th>additive_terms_lower</th>\n",
       "      <th>additive_terms_upper</th>\n",
       "      <th>yearly</th>\n",
       "      <th>yearly_lower</th>\n",
       "      <th>yearly_upper</th>\n",
       "      <th>multiplicative_terms</th>\n",
       "      <th>multiplicative_terms_lower</th>\n",
       "      <th>multiplicative_terms_upper</th>\n",
       "      <th>yhat</th>\n",
       "    </tr>\n",
       "  </thead>\n",
       "  <tbody>\n",
       "    <tr>\n",
       "      <th>0</th>\n",
       "      <td>1749-01-01</td>\n",
       "      <td>97.320049</td>\n",
       "      <td>9.621835</td>\n",
       "      <td>178.230214</td>\n",
       "      <td>97.320049</td>\n",
       "      <td>97.320049</td>\n",
       "      <td>-4.393434</td>\n",
       "      <td>-4.393434</td>\n",
       "      <td>-4.393434</td>\n",
       "      <td>-4.393434</td>\n",
       "      <td>-4.393434</td>\n",
       "      <td>-4.393434</td>\n",
       "      <td>0.0</td>\n",
       "      <td>0.0</td>\n",
       "      <td>0.0</td>\n",
       "      <td>92.926615</td>\n",
       "    </tr>\n",
       "    <tr>\n",
       "      <th>1</th>\n",
       "      <td>1749-02-01</td>\n",
       "      <td>96.889523</td>\n",
       "      <td>14.029688</td>\n",
       "      <td>181.925494</td>\n",
       "      <td>96.889523</td>\n",
       "      <td>96.889523</td>\n",
       "      <td>-2.051197</td>\n",
       "      <td>-2.051197</td>\n",
       "      <td>-2.051197</td>\n",
       "      <td>-2.051197</td>\n",
       "      <td>-2.051197</td>\n",
       "      <td>-2.051197</td>\n",
       "      <td>0.0</td>\n",
       "      <td>0.0</td>\n",
       "      <td>0.0</td>\n",
       "      <td>94.838327</td>\n",
       "    </tr>\n",
       "    <tr>\n",
       "      <th>2</th>\n",
       "      <td>1749-03-01</td>\n",
       "      <td>96.500662</td>\n",
       "      <td>13.167464</td>\n",
       "      <td>178.607744</td>\n",
       "      <td>96.500662</td>\n",
       "      <td>96.500662</td>\n",
       "      <td>-3.591143</td>\n",
       "      <td>-3.591143</td>\n",
       "      <td>-3.591143</td>\n",
       "      <td>-3.591143</td>\n",
       "      <td>-3.591143</td>\n",
       "      <td>-3.591143</td>\n",
       "      <td>0.0</td>\n",
       "      <td>0.0</td>\n",
       "      <td>0.0</td>\n",
       "      <td>92.909518</td>\n",
       "    </tr>\n",
       "    <tr>\n",
       "      <th>3</th>\n",
       "      <td>1749-04-01</td>\n",
       "      <td>96.070136</td>\n",
       "      <td>17.595597</td>\n",
       "      <td>177.217970</td>\n",
       "      <td>96.070136</td>\n",
       "      <td>96.070136</td>\n",
       "      <td>-0.139798</td>\n",
       "      <td>-0.139798</td>\n",
       "      <td>-0.139798</td>\n",
       "      <td>-0.139798</td>\n",
       "      <td>-0.139798</td>\n",
       "      <td>-0.139798</td>\n",
       "      <td>0.0</td>\n",
       "      <td>0.0</td>\n",
       "      <td>0.0</td>\n",
       "      <td>95.930338</td>\n",
       "    </tr>\n",
       "    <tr>\n",
       "      <th>4</th>\n",
       "      <td>1749-05-01</td>\n",
       "      <td>95.653499</td>\n",
       "      <td>13.257728</td>\n",
       "      <td>182.679401</td>\n",
       "      <td>95.653499</td>\n",
       "      <td>95.653499</td>\n",
       "      <td>4.915987</td>\n",
       "      <td>4.915987</td>\n",
       "      <td>4.915987</td>\n",
       "      <td>4.915987</td>\n",
       "      <td>4.915987</td>\n",
       "      <td>4.915987</td>\n",
       "      <td>0.0</td>\n",
       "      <td>0.0</td>\n",
       "      <td>0.0</td>\n",
       "      <td>100.569486</td>\n",
       "    </tr>\n",
       "  </tbody>\n",
       "</table>\n",
       "</div>"
      ],
      "text/plain": [
       "          ds      trend  yhat_lower  yhat_upper  trend_lower  trend_upper  \\\n",
       "0 1749-01-01  97.320049    9.621835  178.230214    97.320049    97.320049   \n",
       "1 1749-02-01  96.889523   14.029688  181.925494    96.889523    96.889523   \n",
       "2 1749-03-01  96.500662   13.167464  178.607744    96.500662    96.500662   \n",
       "3 1749-04-01  96.070136   17.595597  177.217970    96.070136    96.070136   \n",
       "4 1749-05-01  95.653499   13.257728  182.679401    95.653499    95.653499   \n",
       "\n",
       "   additive_terms  additive_terms_lower  additive_terms_upper    yearly  \\\n",
       "0       -4.393434             -4.393434             -4.393434 -4.393434   \n",
       "1       -2.051197             -2.051197             -2.051197 -2.051197   \n",
       "2       -3.591143             -3.591143             -3.591143 -3.591143   \n",
       "3       -0.139798             -0.139798             -0.139798 -0.139798   \n",
       "4        4.915987              4.915987              4.915987  4.915987   \n",
       "\n",
       "   yearly_lower  yearly_upper  multiplicative_terms  \\\n",
       "0     -4.393434     -4.393434                   0.0   \n",
       "1     -2.051197     -2.051197                   0.0   \n",
       "2     -3.591143     -3.591143                   0.0   \n",
       "3     -0.139798     -0.139798                   0.0   \n",
       "4      4.915987      4.915987                   0.0   \n",
       "\n",
       "   multiplicative_terms_lower  multiplicative_terms_upper        yhat  \n",
       "0                         0.0                         0.0   92.926615  \n",
       "1                         0.0                         0.0   94.838327  \n",
       "2                         0.0                         0.0   92.909518  \n",
       "3                         0.0                         0.0   95.930338  \n",
       "4                         0.0                         0.0  100.569486  "
      ]
     },
     "execution_count": 38,
     "metadata": {},
     "output_type": "execute_result"
    }
   ],
   "source": [
    "# prediction \n",
    "future_6 = m.make_future_dataframe(periods = 6, freq = 'MS'\n",
    "                                )\n",
    "forecast_6 = m_6.predict(future_6)\n",
    "forecast_6.head()"
   ]
  },
  {
   "cell_type": "code",
   "execution_count": null,
   "metadata": {
    "pycharm": {
     "name": "#%%\n"
    }
   },
   "outputs": [],
   "source": []
  },
  {
   "cell_type": "code",
   "execution_count": null,
   "metadata": {
    "pycharm": {
     "name": "#%%\n"
    }
   },
   "outputs": [],
   "source": []
  },
  {
   "cell_type": "code",
   "execution_count": null,
   "metadata": {
    "pycharm": {
     "name": "#%%\n"
    }
   },
   "outputs": [],
   "source": []
  },
  {
   "cell_type": "code",
   "execution_count": 39,
   "metadata": {
    "pycharm": {
     "name": "#%%\n"
    }
   },
   "outputs": [
    {
     "data": {
      "image/png": "[encoded data removed]",
      "text/plain": [
       "<Figure size 648x432 with 2 Axes>"
      ]
     },
     "execution_count": 39,
     "metadata": {},
     "output_type": "execute_result"
    },
    {
     "data": {
      "image/png": "[encoded data removed]",
      "text/plain": [
       "<Figure size 648x432 with 2 Axes>"
      ]
     },
     "metadata": {},
     "output_type": "display_data"
    }
   ],
   "source": [
    "# plot the trend, annual seasonality and weekly seasonality of the time series\n",
    "\n",
    "m_6.plot_components(forecast)"
   ]
  },
  {
   "cell_type": "code",
   "execution_count": 40,
   "metadata": {
    "pycharm": {
     "name": "#%%\n"
    }
   },
   "outputs": [
    {
     "name": "stderr",
     "output_type": "stream",
     "text": [
      "INFO:fbprophet:Making 41 forecasts with cutoffs between 1995-11-07 00:00:00 and 2017-10-02 00:00:00\n"
     ]
    },
    {
     "data": {
      "application/vnd.jupyter.widget-view+json": {
       "model_id": "eb5c27c35380440aa8acba8bfc9127c3",
       "version_major": 2,
       "version_minor": 0
      },
      "text/plain": [
       "  0%|          | 0/41 [00:00<?, ?it/s]"
      ]
     },
     "metadata": {},
     "output_type": "display_data"
    }
   ],
   "source": [
    "from fbprophet.diagnostics import performance_metrics\n",
    "\n",
    "\n",
    "y_cv_6 = cross_validation(ml_6, initial = '90000 days', period = '200 days', horizon = '30 days')\n",
    "\n",
    "\n",
    "\n",
    "yy_6 = performance_metrics(y_cv_6 )\n",
    "yy_6"
   ]
  },
  {
   "cell_type": "code",
   "execution_count": null,
   "metadata": {
    "pycharm": {
     "name": "#%%\n"
    }
   },
   "outputs": [],
   "source": []
  },
  {
   "cell_type": "code",
   "execution_count": 42,
   "metadata": {
    "pycharm": {
     "name": "#%%\n"
    }
   },
   "outputs": [
    {
     "name": "stderr",
     "output_type": "stream",
     "text": [
      "INFO:fbprophet:Skipping MAPE because y close to 0\n"
     ]
    },
    {
     "data": {
      "text/html": [
       "<div>\n",
       "<style scoped>\n",
       "    .dataframe tbody tr th:only-of-type {\n",
       "        vertical-align: middle;\n",
       "    }\n",
       "\n",
       "    .dataframe tbody tr th {\n",
       "        vertical-align: top;\n",
       "    }\n",
       "\n",
       "    .dataframe thead th {\n",
       "        text-align: right;\n",
       "    }\n",
       "</style>\n",
       "<table border=\"1\" class=\"dataframe\">\n",
       "  <thead>\n",
       "    <tr style=\"text-align: right;\">\n",
       "      <th></th>\n",
       "      <th>horizon</th>\n",
       "      <th>mse</th>\n",
       "      <th>rmse</th>\n",
       "      <th>mae</th>\n",
       "      <th>mdape</th>\n",
       "      <th>coverage</th>\n",
       "    </tr>\n",
       "  </thead>\n",
       "  <tbody>\n",
       "    <tr>\n",
       "      <th>0</th>\n",
       "      <td>4 days</td>\n",
       "      <td>4345.891522</td>\n",
       "      <td>65.923376</td>\n",
       "      <td>56.489967</td>\n",
       "      <td>0.730378</td>\n",
       "      <td>0.666667</td>\n",
       "    </tr>\n",
       "    <tr>\n",
       "      <th>1</th>\n",
       "      <td>7 days</td>\n",
       "      <td>5105.263313</td>\n",
       "      <td>71.451125</td>\n",
       "      <td>65.678066</td>\n",
       "      <td>0.581467</td>\n",
       "      <td>0.600000</td>\n",
       "    </tr>\n",
       "    <tr>\n",
       "      <th>2</th>\n",
       "      <td>8 days</td>\n",
       "      <td>4169.998010</td>\n",
       "      <td>64.575522</td>\n",
       "      <td>58.492326</td>\n",
       "      <td>0.538288</td>\n",
       "      <td>0.700000</td>\n",
       "    </tr>\n",
       "    <tr>\n",
       "      <th>3</th>\n",
       "      <td>10 days</td>\n",
       "      <td>2893.798310</td>\n",
       "      <td>53.794036</td>\n",
       "      <td>42.243198</td>\n",
       "      <td>0.475811</td>\n",
       "      <td>0.800000</td>\n",
       "    </tr>\n",
       "    <tr>\n",
       "      <th>4</th>\n",
       "      <td>11 days</td>\n",
       "      <td>1617.671682</td>\n",
       "      <td>40.220289</td>\n",
       "      <td>26.041167</td>\n",
       "      <td>0.251895</td>\n",
       "      <td>0.900000</td>\n",
       "    </tr>\n",
       "    <tr>\n",
       "      <th>5</th>\n",
       "      <td>12 days</td>\n",
       "      <td>2329.484696</td>\n",
       "      <td>48.264736</td>\n",
       "      <td>39.787433</td>\n",
       "      <td>0.984782</td>\n",
       "      <td>1.000000</td>\n",
       "    </tr>\n",
       "    <tr>\n",
       "      <th>6</th>\n",
       "      <td>16 days</td>\n",
       "      <td>7180.230147</td>\n",
       "      <td>84.736239</td>\n",
       "      <td>78.328414</td>\n",
       "      <td>1.945713</td>\n",
       "      <td>0.400000</td>\n",
       "    </tr>\n",
       "    <tr>\n",
       "      <th>7</th>\n",
       "      <td>17 days</td>\n",
       "      <td>6172.935452</td>\n",
       "      <td>78.568031</td>\n",
       "      <td>72.779867</td>\n",
       "      <td>1.531962</td>\n",
       "      <td>0.550000</td>\n",
       "    </tr>\n",
       "    <tr>\n",
       "      <th>8</th>\n",
       "      <td>20 days</td>\n",
       "      <td>3928.174007</td>\n",
       "      <td>62.675147</td>\n",
       "      <td>50.989979</td>\n",
       "      <td>0.950845</td>\n",
       "      <td>0.750000</td>\n",
       "    </tr>\n",
       "    <tr>\n",
       "      <th>9</th>\n",
       "      <td>21 days</td>\n",
       "      <td>5008.072709</td>\n",
       "      <td>70.767738</td>\n",
       "      <td>65.137022</td>\n",
       "      <td>0.800814</td>\n",
       "      <td>0.666667</td>\n",
       "    </tr>\n",
       "    <tr>\n",
       "      <th>10</th>\n",
       "      <td>24 days</td>\n",
       "      <td>4042.362799</td>\n",
       "      <td>63.579578</td>\n",
       "      <td>52.637916</td>\n",
       "      <td>0.369660</td>\n",
       "      <td>0.600000</td>\n",
       "    </tr>\n",
       "    <tr>\n",
       "      <th>11</th>\n",
       "      <td>26 days</td>\n",
       "      <td>3293.641768</td>\n",
       "      <td>57.390258</td>\n",
       "      <td>47.569631</td>\n",
       "      <td>0.320974</td>\n",
       "      <td>0.700000</td>\n",
       "    </tr>\n",
       "    <tr>\n",
       "      <th>12</th>\n",
       "      <td>28 days</td>\n",
       "      <td>3521.805427</td>\n",
       "      <td>59.344801</td>\n",
       "      <td>56.948084</td>\n",
       "      <td>1.159769</td>\n",
       "      <td>1.000000</td>\n",
       "    </tr>\n",
       "    <tr>\n",
       "      <th>13</th>\n",
       "      <td>29 days</td>\n",
       "      <td>3437.302317</td>\n",
       "      <td>58.628511</td>\n",
       "      <td>55.515842</td>\n",
       "      <td>1.076956</td>\n",
       "      <td>1.000000</td>\n",
       "    </tr>\n",
       "    <tr>\n",
       "      <th>14</th>\n",
       "      <td>30 days</td>\n",
       "      <td>3288.526495</td>\n",
       "      <td>57.345675</td>\n",
       "      <td>50.275888</td>\n",
       "      <td>0.260694</td>\n",
       "      <td>0.750000</td>\n",
       "    </tr>\n",
       "  </tbody>\n",
       "</table>\n",
       "</div>"
      ],
      "text/plain": [
       "   horizon          mse       rmse        mae     mdape  coverage\n",
       "0   4 days  4345.891522  65.923376  56.489967  0.730378  0.666667\n",
       "1   7 days  5105.263313  71.451125  65.678066  0.581467  0.600000\n",
       "2   8 days  4169.998010  64.575522  58.492326  0.538288  0.700000\n",
       "3  10 days  2893.798310  53.794036  42.243198  0.475811  0.800000\n",
       "4  11 days  1617.671682  40.220289  26.041167  0.251895  0.900000\n",
       "5  12 days  2329.484696  48.264736  39.787433  0.984782  1.000000\n",
       "6  16 days  7180.230147  84.736239  78.328414  1.945713  0.400000\n",
       "7  17 days  6172.935452  78.568031  72.779867  1.531962  0.550000\n",
       "8  20 days  3928.174007  62.675147  50.989979  0.950845  0.750000\n",
       "9  21 days  5008.072709  70.767738  65.137022  0.800814  0.666667\n",
       "10 24 days  4042.362799  63.579578  52.637916  0.369660  0.600000\n",
       "11 26 days  3293.641768  57.390258  47.569631  0.320974  0.700000\n",
       "12 28 days  3521.805427  59.344801  56.948084  1.159769  1.000000\n",
       "13 29 days  3437.302317  58.628511  55.515842  1.076956  1.000000\n",
       "14 30 days  3288.526495  57.345675  50.275888  0.260694  0.750000"
      ]
     },
     "execution_count": 42,
     "metadata": {},
     "output_type": "execute_result"
    }
   ],
   "source": [
    "from fbprophet.diagnostics import performance_metrics\n",
    "\n",
    "\n",
    "yy_6 = performance_metrics(y_cv_6 )\n",
    "yy_6"
   ]
  },
  {
   "cell_type": "code",
   "execution_count": 56,
   "metadata": {
    "pycharm": {
     "name": "#%%\n"
    }
   },
   "outputs": [
    {
     "data": {
      "text/plain": [
       "-0.2950469826702993"
      ]
     },
     "execution_count": 56,
     "metadata": {},
     "output_type": "execute_result"
    }
   ],
   "source": [
    "# calculate Rsquare\n",
    "R2 = r2_score(y_cv_6['y'], y_cv_6['yhat'])\n",
    "R2"
   ]
  },
  {
   "cell_type": "code",
   "execution_count": null,
   "metadata": {
    "pycharm": {
     "name": "#%%\n"
    }
   },
   "outputs": [],
   "source": []
  },
  {
   "cell_type": "code",
   "execution_count": null,
   "metadata": {
    "pycharm": {
     "name": "#%%\n"
    }
   },
   "outputs": [],
   "source": []
  },
  {
   "cell_type": "markdown",
   "metadata": {
    "pycharm": {
     "name": "#%% md\n"
    }
   },
   "source": [
    "# LINEAR 1 MONTHS"
   ]
  },
  {
   "cell_type": "code",
   "execution_count": null,
   "metadata": {
    "pycharm": {
     "name": "#%%\n"
    }
   },
   "outputs": [],
   "source": []
  },
  {
   "cell_type": "code",
   "execution_count": 43,
   "metadata": {
    "pycharm": {
     "name": "#%%\n"
    }
   },
   "outputs": [
    {
     "name": "stderr",
     "output_type": "stream",
     "text": [
      "INFO:fbprophet:Disabling weekly seasonality. Run prophet with weekly_seasonality=True to override this.\n",
      "INFO:fbprophet:Disabling daily seasonality. Run prophet with daily_seasonality=True to override this.\n"
     ]
    }
   ],
   "source": [
    "# fitting the model\n",
    "m_1 = Prophet(n_changepoints= 20,\n",
    "                changepoint_range= 0.25,\n",
    "                yearly_seasonality= True,\n",
    "               changepoint_prior_scale= 0.9,\n",
    "                seasonality_mode= \"additive\"\n",
    "               )\n",
    "\n",
    "ml_1 = m_1.fit(train)"
   ]
  },
  {
   "cell_type": "code",
   "execution_count": 44,
   "metadata": {
    "pycharm": {
     "name": "#%%\n"
    }
   },
   "outputs": [
    {
     "data": {
      "text/html": [
       "<div>\n",
       "<style scoped>\n",
       "    .dataframe tbody tr th:only-of-type {\n",
       "        vertical-align: middle;\n",
       "    }\n",
       "\n",
       "    .dataframe tbody tr th {\n",
       "        vertical-align: top;\n",
       "    }\n",
       "\n",
       "    .dataframe thead th {\n",
       "        text-align: right;\n",
       "    }\n",
       "</style>\n",
       "<table border=\"1\" class=\"dataframe\">\n",
       "  <thead>\n",
       "    <tr style=\"text-align: right;\">\n",
       "      <th></th>\n",
       "      <th>ds</th>\n",
       "      <th>trend</th>\n",
       "      <th>yhat_lower</th>\n",
       "      <th>yhat_upper</th>\n",
       "      <th>trend_lower</th>\n",
       "      <th>trend_upper</th>\n",
       "      <th>additive_terms</th>\n",
       "      <th>additive_terms_lower</th>\n",
       "      <th>additive_terms_upper</th>\n",
       "      <th>yearly</th>\n",
       "      <th>yearly_lower</th>\n",
       "      <th>yearly_upper</th>\n",
       "      <th>multiplicative_terms</th>\n",
       "      <th>multiplicative_terms_lower</th>\n",
       "      <th>multiplicative_terms_upper</th>\n",
       "      <th>yhat</th>\n",
       "    </tr>\n",
       "  </thead>\n",
       "  <tbody>\n",
       "    <tr>\n",
       "      <th>0</th>\n",
       "      <td>1749-01-01</td>\n",
       "      <td>97.320049</td>\n",
       "      <td>9.711026</td>\n",
       "      <td>174.624356</td>\n",
       "      <td>97.320049</td>\n",
       "      <td>97.320049</td>\n",
       "      <td>-4.393434</td>\n",
       "      <td>-4.393434</td>\n",
       "      <td>-4.393434</td>\n",
       "      <td>-4.393434</td>\n",
       "      <td>-4.393434</td>\n",
       "      <td>-4.393434</td>\n",
       "      <td>0.0</td>\n",
       "      <td>0.0</td>\n",
       "      <td>0.0</td>\n",
       "      <td>92.926615</td>\n",
       "    </tr>\n",
       "    <tr>\n",
       "      <th>1</th>\n",
       "      <td>1749-02-01</td>\n",
       "      <td>96.889523</td>\n",
       "      <td>10.163725</td>\n",
       "      <td>180.724383</td>\n",
       "      <td>96.889523</td>\n",
       "      <td>96.889523</td>\n",
       "      <td>-2.051197</td>\n",
       "      <td>-2.051197</td>\n",
       "      <td>-2.051197</td>\n",
       "      <td>-2.051197</td>\n",
       "      <td>-2.051197</td>\n",
       "      <td>-2.051197</td>\n",
       "      <td>0.0</td>\n",
       "      <td>0.0</td>\n",
       "      <td>0.0</td>\n",
       "      <td>94.838327</td>\n",
       "    </tr>\n",
       "    <tr>\n",
       "      <th>2</th>\n",
       "      <td>1749-03-01</td>\n",
       "      <td>96.500662</td>\n",
       "      <td>2.685055</td>\n",
       "      <td>179.061000</td>\n",
       "      <td>96.500662</td>\n",
       "      <td>96.500662</td>\n",
       "      <td>-3.591143</td>\n",
       "      <td>-3.591143</td>\n",
       "      <td>-3.591143</td>\n",
       "      <td>-3.591143</td>\n",
       "      <td>-3.591143</td>\n",
       "      <td>-3.591143</td>\n",
       "      <td>0.0</td>\n",
       "      <td>0.0</td>\n",
       "      <td>0.0</td>\n",
       "      <td>92.909518</td>\n",
       "    </tr>\n",
       "    <tr>\n",
       "      <th>3</th>\n",
       "      <td>1749-04-01</td>\n",
       "      <td>96.070136</td>\n",
       "      <td>7.378899</td>\n",
       "      <td>172.578162</td>\n",
       "      <td>96.070136</td>\n",
       "      <td>96.070136</td>\n",
       "      <td>-0.139798</td>\n",
       "      <td>-0.139798</td>\n",
       "      <td>-0.139798</td>\n",
       "      <td>-0.139798</td>\n",
       "      <td>-0.139798</td>\n",
       "      <td>-0.139798</td>\n",
       "      <td>0.0</td>\n",
       "      <td>0.0</td>\n",
       "      <td>0.0</td>\n",
       "      <td>95.930338</td>\n",
       "    </tr>\n",
       "    <tr>\n",
       "      <th>4</th>\n",
       "      <td>1749-05-01</td>\n",
       "      <td>95.653499</td>\n",
       "      <td>17.263238</td>\n",
       "      <td>185.302955</td>\n",
       "      <td>95.653499</td>\n",
       "      <td>95.653499</td>\n",
       "      <td>4.915987</td>\n",
       "      <td>4.915987</td>\n",
       "      <td>4.915987</td>\n",
       "      <td>4.915987</td>\n",
       "      <td>4.915987</td>\n",
       "      <td>4.915987</td>\n",
       "      <td>0.0</td>\n",
       "      <td>0.0</td>\n",
       "      <td>0.0</td>\n",
       "      <td>100.569486</td>\n",
       "    </tr>\n",
       "  </tbody>\n",
       "</table>\n",
       "</div>"
      ],
      "text/plain": [
       "          ds      trend  yhat_lower  yhat_upper  trend_lower  trend_upper  \\\n",
       "0 1749-01-01  97.320049    9.711026  174.624356    97.320049    97.320049   \n",
       "1 1749-02-01  96.889523   10.163725  180.724383    96.889523    96.889523   \n",
       "2 1749-03-01  96.500662    2.685055  179.061000    96.500662    96.500662   \n",
       "3 1749-04-01  96.070136    7.378899  172.578162    96.070136    96.070136   \n",
       "4 1749-05-01  95.653499   17.263238  185.302955    95.653499    95.653499   \n",
       "\n",
       "   additive_terms  additive_terms_lower  additive_terms_upper    yearly  \\\n",
       "0       -4.393434             -4.393434             -4.393434 -4.393434   \n",
       "1       -2.051197             -2.051197             -2.051197 -2.051197   \n",
       "2       -3.591143             -3.591143             -3.591143 -3.591143   \n",
       "3       -0.139798             -0.139798             -0.139798 -0.139798   \n",
       "4        4.915987              4.915987              4.915987  4.915987   \n",
       "\n",
       "   yearly_lower  yearly_upper  multiplicative_terms  \\\n",
       "0     -4.393434     -4.393434                   0.0   \n",
       "1     -2.051197     -2.051197                   0.0   \n",
       "2     -3.591143     -3.591143                   0.0   \n",
       "3     -0.139798     -0.139798                   0.0   \n",
       "4      4.915987      4.915987                   0.0   \n",
       "\n",
       "   multiplicative_terms_lower  multiplicative_terms_upper        yhat  \n",
       "0                         0.0                         0.0   92.926615  \n",
       "1                         0.0                         0.0   94.838327  \n",
       "2                         0.0                         0.0   92.909518  \n",
       "3                         0.0                         0.0   95.930338  \n",
       "4                         0.0                         0.0  100.569486  "
      ]
     },
     "execution_count": 44,
     "metadata": {},
     "output_type": "execute_result"
    }
   ],
   "source": [
    "# prediction\n",
    "\n",
    "future_1 = m.make_future_dataframe(periods = 1, freq = 'MS'\n",
    "                                )\n",
    "forecast_1 = m_1.predict(future_1)\n",
    "forecast_1.head()"
   ]
  },
  {
   "cell_type": "code",
   "execution_count": null,
   "metadata": {
    "pycharm": {
     "name": "#%%\n"
    }
   },
   "outputs": [],
   "source": []
  },
  {
   "cell_type": "code",
   "execution_count": 45,
   "metadata": {
    "pycharm": {
     "name": "#%%\n"
    }
   },
   "outputs": [
    {
     "data": {
      "image/png": "[encoded data removed]",
      "text/plain": [
       "<Figure size 648x432 with 2 Axes>"
      ]
     },
     "execution_count": 45,
     "metadata": {},
     "output_type": "execute_result"
    },
    {
     "data": {
      "image/png": "[encoded data removed]",
      "text/plain": [
       "<Figure size 648x432 with 2 Axes>"
      ]
     },
     "metadata": {},
     "output_type": "display_data"
    }
   ],
   "source": [
    "# plot the trend, annual seasonality and weekly seasonality of the time series\n",
    "m_1.plot_components(forecast)"
   ]
  },
  {
   "cell_type": "markdown",
   "metadata": {
    "pycharm": {
     "name": "#%% md\n"
    }
   },
   "source": [
    "# CROSS VALIDATION FOR EVALUATING_MODEL"
   ]
  },
  {
   "cell_type": "code",
   "execution_count": 46,
   "metadata": {
    "pycharm": {
     "name": "#%%\n"
    }
   },
   "outputs": [
    {
     "name": "stderr",
     "output_type": "stream",
     "text": [
      "INFO:fbprophet:Making 41 forecasts with cutoffs between 1995-11-07 00:00:00 and 2017-10-02 00:00:00\n"
     ]
    },
    {
     "data": {
      "application/vnd.jupyter.widget-view+json": {
       "model_id": "c3c717d0a7664fe28fae0b9e610253d4",
       "version_major": 2,
       "version_minor": 0
      },
      "text/plain": [
       "  0%|          | 0/41 [00:00<?, ?it/s]"
      ]
     },
     "metadata": {},
     "output_type": "display_data"
    }
   ],
   "source": [
    "# cross validation\n",
    "y_cv_1 = cross_validation(ml_1, initial = '90000 days', period = '200 days', horizon = '30 days')"
   ]
  },
  {
   "cell_type": "code",
   "execution_count": null,
   "metadata": {
    "pycharm": {
     "name": "#%%\n"
    }
   },
   "outputs": [],
   "source": []
  },
  {
   "cell_type": "code",
   "execution_count": 55,
   "metadata": {
    "pycharm": {
     "name": "#%%\n"
    }
   },
   "outputs": [
    {
     "name": "stderr",
     "output_type": "stream",
     "text": [
      "INFO:fbprophet:Skipping MAPE because y close to 0\n"
     ]
    },
    {
     "data": {
      "text/html": [
       "<div>\n",
       "<style scoped>\n",
       "    .dataframe tbody tr th:only-of-type {\n",
       "        vertical-align: middle;\n",
       "    }\n",
       "\n",
       "    .dataframe tbody tr th {\n",
       "        vertical-align: top;\n",
       "    }\n",
       "\n",
       "    .dataframe thead th {\n",
       "        text-align: right;\n",
       "    }\n",
       "</style>\n",
       "<table border=\"1\" class=\"dataframe\">\n",
       "  <thead>\n",
       "    <tr style=\"text-align: right;\">\n",
       "      <th></th>\n",
       "      <th>horizon</th>\n",
       "      <th>mse</th>\n",
       "      <th>rmse</th>\n",
       "      <th>mae</th>\n",
       "      <th>mdape</th>\n",
       "      <th>coverage</th>\n",
       "    </tr>\n",
       "  </thead>\n",
       "  <tbody>\n",
       "    <tr>\n",
       "      <th>0</th>\n",
       "      <td>4 days</td>\n",
       "      <td>4345.891522</td>\n",
       "      <td>65.923376</td>\n",
       "      <td>56.489967</td>\n",
       "      <td>0.730378</td>\n",
       "      <td>0.666667</td>\n",
       "    </tr>\n",
       "    <tr>\n",
       "      <th>1</th>\n",
       "      <td>7 days</td>\n",
       "      <td>5105.263313</td>\n",
       "      <td>71.451125</td>\n",
       "      <td>65.678066</td>\n",
       "      <td>0.581467</td>\n",
       "      <td>0.400000</td>\n",
       "    </tr>\n",
       "    <tr>\n",
       "      <th>2</th>\n",
       "      <td>8 days</td>\n",
       "      <td>4169.998010</td>\n",
       "      <td>64.575522</td>\n",
       "      <td>58.492326</td>\n",
       "      <td>0.538288</td>\n",
       "      <td>0.550000</td>\n",
       "    </tr>\n",
       "    <tr>\n",
       "      <th>3</th>\n",
       "      <td>10 days</td>\n",
       "      <td>2893.798310</td>\n",
       "      <td>53.794036</td>\n",
       "      <td>42.243198</td>\n",
       "      <td>0.475811</td>\n",
       "      <td>0.700000</td>\n",
       "    </tr>\n",
       "    <tr>\n",
       "      <th>4</th>\n",
       "      <td>11 days</td>\n",
       "      <td>1617.671682</td>\n",
       "      <td>40.220289</td>\n",
       "      <td>26.041167</td>\n",
       "      <td>0.251895</td>\n",
       "      <td>0.850000</td>\n",
       "    </tr>\n",
       "    <tr>\n",
       "      <th>5</th>\n",
       "      <td>12 days</td>\n",
       "      <td>2329.484696</td>\n",
       "      <td>48.264736</td>\n",
       "      <td>39.787433</td>\n",
       "      <td>0.984782</td>\n",
       "      <td>1.000000</td>\n",
       "    </tr>\n",
       "    <tr>\n",
       "      <th>6</th>\n",
       "      <td>16 days</td>\n",
       "      <td>7180.230147</td>\n",
       "      <td>84.736239</td>\n",
       "      <td>78.328414</td>\n",
       "      <td>1.945713</td>\n",
       "      <td>0.400000</td>\n",
       "    </tr>\n",
       "    <tr>\n",
       "      <th>7</th>\n",
       "      <td>17 days</td>\n",
       "      <td>6172.935452</td>\n",
       "      <td>78.568031</td>\n",
       "      <td>72.779867</td>\n",
       "      <td>1.531962</td>\n",
       "      <td>0.550000</td>\n",
       "    </tr>\n",
       "    <tr>\n",
       "      <th>8</th>\n",
       "      <td>20 days</td>\n",
       "      <td>3928.174007</td>\n",
       "      <td>62.675147</td>\n",
       "      <td>50.989979</td>\n",
       "      <td>0.950845</td>\n",
       "      <td>0.750000</td>\n",
       "    </tr>\n",
       "    <tr>\n",
       "      <th>9</th>\n",
       "      <td>21 days</td>\n",
       "      <td>5008.072709</td>\n",
       "      <td>70.767738</td>\n",
       "      <td>65.137022</td>\n",
       "      <td>0.800814</td>\n",
       "      <td>0.666667</td>\n",
       "    </tr>\n",
       "    <tr>\n",
       "      <th>10</th>\n",
       "      <td>24 days</td>\n",
       "      <td>4042.362799</td>\n",
       "      <td>63.579578</td>\n",
       "      <td>52.637916</td>\n",
       "      <td>0.369660</td>\n",
       "      <td>0.800000</td>\n",
       "    </tr>\n",
       "    <tr>\n",
       "      <th>11</th>\n",
       "      <td>26 days</td>\n",
       "      <td>3293.641768</td>\n",
       "      <td>57.390258</td>\n",
       "      <td>47.569631</td>\n",
       "      <td>0.320974</td>\n",
       "      <td>0.850000</td>\n",
       "    </tr>\n",
       "    <tr>\n",
       "      <th>12</th>\n",
       "      <td>28 days</td>\n",
       "      <td>3521.805427</td>\n",
       "      <td>59.344801</td>\n",
       "      <td>56.948084</td>\n",
       "      <td>1.159769</td>\n",
       "      <td>1.000000</td>\n",
       "    </tr>\n",
       "    <tr>\n",
       "      <th>13</th>\n",
       "      <td>29 days</td>\n",
       "      <td>3437.302317</td>\n",
       "      <td>58.628511</td>\n",
       "      <td>55.515842</td>\n",
       "      <td>1.076956</td>\n",
       "      <td>1.000000</td>\n",
       "    </tr>\n",
       "    <tr>\n",
       "      <th>14</th>\n",
       "      <td>30 days</td>\n",
       "      <td>3288.526495</td>\n",
       "      <td>57.345675</td>\n",
       "      <td>50.275888</td>\n",
       "      <td>0.260694</td>\n",
       "      <td>0.750000</td>\n",
       "    </tr>\n",
       "  </tbody>\n",
       "</table>\n",
       "</div>"
      ],
      "text/plain": [
       "   horizon          mse       rmse        mae     mdape  coverage\n",
       "0   4 days  4345.891522  65.923376  56.489967  0.730378  0.666667\n",
       "1   7 days  5105.263313  71.451125  65.678066  0.581467  0.400000\n",
       "2   8 days  4169.998010  64.575522  58.492326  0.538288  0.550000\n",
       "3  10 days  2893.798310  53.794036  42.243198  0.475811  0.700000\n",
       "4  11 days  1617.671682  40.220289  26.041167  0.251895  0.850000\n",
       "5  12 days  2329.484696  48.264736  39.787433  0.984782  1.000000\n",
       "6  16 days  7180.230147  84.736239  78.328414  1.945713  0.400000\n",
       "7  17 days  6172.935452  78.568031  72.779867  1.531962  0.550000\n",
       "8  20 days  3928.174007  62.675147  50.989979  0.950845  0.750000\n",
       "9  21 days  5008.072709  70.767738  65.137022  0.800814  0.666667\n",
       "10 24 days  4042.362799  63.579578  52.637916  0.369660  0.800000\n",
       "11 26 days  3293.641768  57.390258  47.569631  0.320974  0.850000\n",
       "12 28 days  3521.805427  59.344801  56.948084  1.159769  1.000000\n",
       "13 29 days  3437.302317  58.628511  55.515842  1.076956  1.000000\n",
       "14 30 days  3288.526495  57.345675  50.275888  0.260694  0.750000"
      ]
     },
     "execution_count": 55,
     "metadata": {},
     "output_type": "execute_result"
    }
   ],
   "source": [
    "# calculate rmse, mae with the cross validation\n",
    "\n",
    "from fbprophet.diagnostics import performance_metrics\n",
    "yy_1 = performance_metrics(y_cv_1)\n",
    "yy_1"
   ]
  },
  {
   "cell_type": "code",
   "execution_count": 57,
   "metadata": {
    "pycharm": {
     "name": "#%%\n"
    }
   },
   "outputs": [
    {
     "data": {
      "text/plain": [
       "-0.2950469826702993"
      ]
     },
     "execution_count": 57,
     "metadata": {},
     "output_type": "execute_result"
    }
   ],
   "source": [
    "# calculate Rsquare\n",
    "R2 = r2_score(y_cv_1['y'], y_cv_1['yhat'])\n",
    "R2"
   ]
  },
  {
   "cell_type": "code",
   "execution_count": null,
   "metadata": {
    "pycharm": {
     "name": "#%%\n"
    }
   },
   "outputs": [],
   "source": []
  },
  {
   "cell_type": "code",
   "execution_count": null,
   "metadata": {
    "pycharm": {
     "name": "#%%\n"
    }
   },
   "outputs": [],
   "source": []
  },
  {
   "cell_type": "code",
   "execution_count": null,
   "metadata": {
    "pycharm": {
     "name": "#%%\n"
    }
   },
   "outputs": [],
   "source": []
  },
  {
   "cell_type": "code",
   "execution_count": null,
   "metadata": {
    "pycharm": {
     "name": "#%%\n"
    }
   },
   "outputs": [],
   "source": []
  },
  {
   "cell_type": "code",
   "execution_count": null,
   "metadata": {
    "pycharm": {
     "name": "#%%\n"
    }
   },
   "outputs": [],
   "source": []
  },
  {
   "cell_type": "code",
   "execution_count": null,
   "metadata": {
    "pycharm": {
     "name": "#%%\n"
    }
   },
   "outputs": [],
   "source": []
  },
  {
   "cell_type": "code",
   "execution_count": null,
   "metadata": {
    "pycharm": {
     "name": "#%%\n"
    }
   },
   "outputs": [],
   "source": []
  },
  {
   "cell_type": "code",
   "execution_count": null,
   "metadata": {
    "pycharm": {
     "name": "#%%\n"
    }
   },
   "outputs": [],
   "source": []
  },
  {
   "cell_type": "code",
   "execution_count": null,
   "metadata": {
    "pycharm": {
     "name": "#%%\n"
    }
   },
   "outputs": [],
   "source": []
  },
  {
   "cell_type": "code",
   "execution_count": null,
   "metadata": {
    "pycharm": {
     "name": "#%%\n"
    }
   },
   "outputs": [],
   "source": []
  },
  {
   "cell_type": "code",
   "execution_count": null,
   "metadata": {
    "pycharm": {
     "name": "#%%\n"
    }
   },
   "outputs": [],
   "source": []
  },
  {
   "cell_type": "code",
   "execution_count": null,
   "metadata": {
    "pycharm": {
     "name": "#%%\n"
    }
   },
   "outputs": [],
   "source": []
  },
  {
   "cell_type": "code",
   "execution_count": null,
   "metadata": {
    "pycharm": {
     "name": "#%%\n"
    }
   },
   "outputs": [],
   "source": []
  },
  {
   "cell_type": "code",
   "execution_count": null,
   "metadata": {
    "pycharm": {
     "name": "#%%\n"
    }
   },
   "outputs": [],
   "source": []
  },
  {
   "cell_type": "code",
   "execution_count": null,
   "metadata": {
    "pycharm": {
     "name": "#%%\n"
    }
   },
   "outputs": [],
   "source": []
  },
  {
   "cell_type": "code",
   "execution_count": null,
   "metadata": {
    "pycharm": {
     "name": "#%%\n"
    }
   },
   "outputs": [],
   "source": []
  },
  {
   "cell_type": "code",
   "execution_count": null,
   "metadata": {
    "pycharm": {
     "name": "#%%\n"
    }
   },
   "outputs": [],
   "source": []
  },
  {
   "cell_type": "code",
   "execution_count": null,
   "metadata": {
    "pycharm": {
     "name": "#%%\n"
    }
   },
   "outputs": [],
   "source": []
  },
  {
   "cell_type": "code",
   "execution_count": null,
   "metadata": {
    "pycharm": {
     "name": "#%%\n"
    }
   },
   "outputs": [],
   "source": []
  },
  {
   "cell_type": "code",
   "execution_count": null,
   "metadata": {
    "pycharm": {
     "name": "#%%\n"
    }
   },
   "outputs": [],
   "source": []
  },
  {
   "cell_type": "code",
   "execution_count": null,
   "metadata": {
    "pycharm": {
     "name": "#%%\n"
    }
   },
   "outputs": [],
   "source": []
  },
  {
   "cell_type": "code",
   "execution_count": null,
   "metadata": {
    "pycharm": {
     "name": "#%%\n"
    }
   },
   "outputs": [],
   "source": []
  },
  {
   "cell_type": "code",
   "execution_count": null,
   "metadata": {
    "pycharm": {
     "name": "#%%\n"
    }
   },
   "outputs": [],
   "source": []
  },
  {
   "cell_type": "code",
   "execution_count": null,
   "metadata": {
    "pycharm": {
     "name": "#%%\n"
    }
   },
   "outputs": [],
   "source": []
  },
  {
   "cell_type": "code",
   "execution_count": null,
   "metadata": {
    "pycharm": {
     "name": "#%%\n"
    }
   },
   "outputs": [],
   "source": []
  },
  {
   "cell_type": "code",
   "execution_count": null,
   "metadata": {
    "pycharm": {
     "name": "#%%\n"
    }
   },
   "outputs": [],
   "source": []
  },
  {
   "cell_type": "code",
   "execution_count": null,
   "metadata": {
    "pycharm": {
     "name": "#%%\n"
    }
   },
   "outputs": [],
   "source": []
  },
  {
   "cell_type": "code",
   "execution_count": null,
   "metadata": {
    "pycharm": {
     "name": "#%%\n"
    }
   },
   "outputs": [],
   "source": []
  },
  {
   "cell_type": "code",
   "execution_count": null,
   "metadata": {
    "pycharm": {
     "name": "#%%\n"
    }
   },
   "outputs": [],
   "source": []
  },
  {
   "cell_type": "code",
   "execution_count": null,
   "metadata": {
    "pycharm": {
     "name": "#%%\n"
    }
   },
   "outputs": [],
   "source": []
  },
  {
   "cell_type": "code",
   "execution_count": null,
   "metadata": {
    "pycharm": {
     "name": "#%%\n"
    }
   },
   "outputs": [],
   "source": []
  },
  {
   "cell_type": "code",
   "execution_count": null,
   "metadata": {
    "pycharm": {
     "name": "#%%\n"
    }
   },
   "outputs": [],
   "source": []
  },
  {
   "cell_type": "code",
   "execution_count": null,
   "metadata": {
    "pycharm": {
     "name": "#%%\n"
    }
   },
   "outputs": [],
   "source": []
  },
  {
   "cell_type": "code",
   "execution_count": null,
   "metadata": {
    "pycharm": {
     "name": "#%%\n"
    }
   },
   "outputs": [],
   "source": []
  },
  {
   "cell_type": "code",
   "execution_count": null,
   "metadata": {
    "pycharm": {
     "name": "#%%\n"
    }
   },
   "outputs": [],
   "source": []
  },
  {
   "cell_type": "code",
   "execution_count": null,
   "metadata": {
    "pycharm": {
     "name": "#%%\n"
    }
   },
   "outputs": [],
   "source": []
  },
  {
   "cell_type": "code",
   "execution_count": null,
   "metadata": {
    "pycharm": {
     "name": "#%%\n"
    }
   },
   "outputs": [],
   "source": []
  },
  {
   "cell_type": "code",
   "execution_count": null,
   "metadata": {
    "pycharm": {
     "name": "#%%\n"
    }
   },
   "outputs": [],
   "source": []
  },
  {
   "cell_type": "code",
   "execution_count": null,
   "metadata": {
    "pycharm": {
     "name": "#%%\n"
    }
   },
   "outputs": [],
   "source": []
  },
  {
   "cell_type": "code",
   "execution_count": null,
   "metadata": {
    "pycharm": {
     "name": "#%%\n"
    }
   },
   "outputs": [],
   "source": []
  },
  {
   "cell_type": "code",
   "execution_count": null,
   "metadata": {
    "pycharm": {
     "name": "#%%\n"
    }
   },
   "outputs": [],
   "source": []
  }
 ],
 "metadata": {
  "kernelspec": {
   "display_name": "Python 3",
   "language": "python",
   "name": "python3"
  },
  "language_info": {
   "codemirror_mode": {
    "name": "ipython",
    "version": 3
   },
   "file_extension": ".py",
   "mimetype": "text/x-python",
   "name": "python",
   "nbconvert_exporter": "python",
   "pygments_lexer": "ipython3",
   "version": "3.8.2"
  }
 },
 "nbformat": 4,
 "nbformat_minor": 4
}