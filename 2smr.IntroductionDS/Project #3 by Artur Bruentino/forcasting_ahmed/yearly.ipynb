{
 "cells": [
  {
   "cell_type": "code",
   "execution_count": null,
   "id": "consistent-testament",
   "metadata": {
    "pycharm": {
     "name": "#%%\n"
    }
   },
   "outputs": [],
   "source": []
  },
  {
   "cell_type": "code",
   "execution_count": null,
   "id": "sunrise-grill",
   "metadata": {
    "pycharm": {
     "name": "#%%\n"
    }
   },
   "outputs": [],
   "source": []
  },
  {
   "cell_type": "code",
   "execution_count": null,
   "id": "tutorial-stable",
   "metadata": {
    "pycharm": {
     "name": "#%%\n"
    }
   },
   "outputs": [],
   "source": []
  },
  {
   "cell_type": "markdown",
   "id": "split-martin",
   "metadata": {
    "pycharm": {
     "name": "#%% md\n"
    }
   },
   "source": [
    "# LINEAR 10 YEARS"
   ]
  },
  {
   "cell_type": "code",
   "execution_count": null,
   "id": "greenhouse-farming",
   "metadata": {
    "pycharm": {
     "name": "#%%\n"
    }
   },
   "outputs": [],
   "source": []
  },
  {
   "cell_type": "code",
   "execution_count": 1,
   "id": "based-maximum",
   "metadata": {
    "pycharm": {
     "name": "#%%\n"
    }
   },
   "outputs": [],
   "source": [
    "import pandas as pd\n",
    "from datetime import datetime\n",
    "from fbprophet import Prophet\n",
    "from matplotlib import pyplot\n",
    "from sklearn.metrics import mean_absolute_error\n",
    "from sklearn.metrics import mean_squared_error\n",
    "from sklearn.metrics import mean_absolute_percentage_error\n",
    "from sklearn.metrics import r2_score"
   ]
  },
  {
   "cell_type": "code",
   "execution_count": 26,
   "id": "adolescent-center",
   "metadata": {
    "pycharm": {
     "name": "#%%\n"
    }
   },
   "outputs": [],
   "source": [
    "# load a file\n",
    "year = pd.read_csv(\"./SN_y_tot_V2.0.csv\", sep = \";\", names = [\"Date_in_fraction_of_year\",\n",
    "                                                             \"sunspot_number\",\n",
    "                                                             \n",
    "                                                             \"Daily_standard_deviation\",\n",
    "                                                              \"Number_of_observations\",\n",
    "                                                             \"provisional_indicator\"\n",
    "                                                             ])"
   ]
  },
  {
   "cell_type": "code",
   "execution_count": 27,
   "id": "modular-documentation",
   "metadata": {
    "pycharm": {
     "name": "#%%\n"
    }
   },
   "outputs": [
    {
     "data": {
      "text/html": [
       "<div>\n",
       "<style scoped>\n",
       "    .dataframe tbody tr th:only-of-type {\n",
       "        vertical-align: middle;\n",
       "    }\n",
       "\n",
       "    .dataframe tbody tr th {\n",
       "        vertical-align: top;\n",
       "    }\n",
       "\n",
       "    .dataframe thead th {\n",
       "        text-align: right;\n",
       "    }\n",
       "</style>\n",
       "<table border=\"1\" class=\"dataframe\">\n",
       "  <thead>\n",
       "    <tr style=\"text-align: right;\">\n",
       "      <th></th>\n",
       "      <th>Date_in_fraction_of_year</th>\n",
       "      <th>sunspot_number</th>\n",
       "      <th>Daily_standard_deviation</th>\n",
       "      <th>Number_of_observations</th>\n",
       "      <th>provisional_indicator</th>\n",
       "    </tr>\n",
       "  </thead>\n",
       "  <tbody>\n",
       "    <tr>\n",
       "      <th>0</th>\n",
       "      <td>1700.5</td>\n",
       "      <td>8.3</td>\n",
       "      <td>-1.0</td>\n",
       "      <td>-1</td>\n",
       "      <td>1</td>\n",
       "    </tr>\n",
       "    <tr>\n",
       "      <th>1</th>\n",
       "      <td>1701.5</td>\n",
       "      <td>18.3</td>\n",
       "      <td>-1.0</td>\n",
       "      <td>-1</td>\n",
       "      <td>1</td>\n",
       "    </tr>\n",
       "    <tr>\n",
       "      <th>2</th>\n",
       "      <td>1702.5</td>\n",
       "      <td>26.7</td>\n",
       "      <td>-1.0</td>\n",
       "      <td>-1</td>\n",
       "      <td>1</td>\n",
       "    </tr>\n",
       "    <tr>\n",
       "      <th>3</th>\n",
       "      <td>1703.5</td>\n",
       "      <td>38.3</td>\n",
       "      <td>-1.0</td>\n",
       "      <td>-1</td>\n",
       "      <td>1</td>\n",
       "    </tr>\n",
       "    <tr>\n",
       "      <th>4</th>\n",
       "      <td>1704.5</td>\n",
       "      <td>60.0</td>\n",
       "      <td>-1.0</td>\n",
       "      <td>-1</td>\n",
       "      <td>1</td>\n",
       "    </tr>\n",
       "  </tbody>\n",
       "</table>\n",
       "</div>"
      ],
      "text/plain": [
       "   Date_in_fraction_of_year  sunspot_number  Daily_standard_deviation  \\\n",
       "0                    1700.5             8.3                      -1.0   \n",
       "1                    1701.5            18.3                      -1.0   \n",
       "2                    1702.5            26.7                      -1.0   \n",
       "3                    1703.5            38.3                      -1.0   \n",
       "4                    1704.5            60.0                      -1.0   \n",
       "\n",
       "   Number_of_observations  provisional_indicator  \n",
       "0                      -1                      1  \n",
       "1                      -1                      1  \n",
       "2                      -1                      1  \n",
       "3                      -1                      1  \n",
       "4                      -1                      1  "
      ]
     },
     "execution_count": 27,
     "metadata": {},
     "output_type": "execute_result"
    }
   ],
   "source": [
    "year.head()"
   ]
  },
  {
   "cell_type": "code",
   "execution_count": 28,
   "id": "naked-passing",
   "metadata": {
    "pycharm": {
     "name": "#%%\n"
    }
   },
   "outputs": [
    {
     "data": {
      "text/plain": [
       "Date_in_fraction_of_year    float64\n",
       "sunspot_number              float64\n",
       "Daily_standard_deviation    float64\n",
       "Number_of_observations        int64\n",
       "provisional_indicator         int64\n",
       "dtype: object"
      ]
     },
     "execution_count": 28,
     "metadata": {},
     "output_type": "execute_result"
    }
   ],
   "source": [
    "# Know the type of columns\n",
    "year.dtypes"
   ]
  },
  {
   "cell_type": "code",
   "execution_count": null,
   "id": "dangerous-surveillance",
   "metadata": {
    "pycharm": {
     "name": "#%%\n"
    }
   },
   "outputs": [],
   "source": []
  },
  {
   "cell_type": "code",
   "execution_count": 29,
   "id": "jewish-circle",
   "metadata": {
    "pycharm": {
     "name": "#%%\n"
    }
   },
   "outputs": [],
   "source": [
    "# change the type of the column Date_in_fraction_of_year in int64 for having the correct date and cast the column\n",
    "year.Date_in_fraction_of_year = year.Date_in_fraction_of_year.astype(str).str.slice(stop = 4)"
   ]
  },
  {
   "cell_type": "code",
   "execution_count": null,
   "id": "endangered-quest",
   "metadata": {
    "pycharm": {
     "name": "#%%\n"
    }
   },
   "outputs": [],
   "source": [
    "\n"
   ]
  },
  {
   "cell_type": "code",
   "execution_count": null,
   "id": "valuable-clerk",
   "metadata": {
    "pycharm": {
     "name": "#%%\n"
    }
   },
   "outputs": [],
   "source": [
    "#"
   ]
  },
  {
   "cell_type": "code",
   "execution_count": 31,
   "id": "christian-miracle",
   "metadata": {
    "pycharm": {
     "name": "#%%\n"
    }
   },
   "outputs": [
    {
     "name": "stderr",
     "output_type": "stream",
     "text": [
      "<ipython-input-31-d07f82c153ab>:4: SettingWithCopyWarning: \n",
      "A value is trying to be set on a copy of a slice from a DataFrame.\n",
      "Try using .loc[row_indexer,col_indexer] = value instead\n",
      "\n",
      "See the caveats in the documentation: https://pandas.pydata.org/pandas-docs/stable/user_guide/indexing.html#returning-a-view-versus-a-copy\n",
      "  year_f['ds'] = pd.to_datetime(year_f['ds']).dt.date # transform the column in the type of datetime\n"
     ]
    }
   ],
   "source": [
    "year_f = year[[\"Date_in_fraction_of_year\",\"sunspot_number\"]]\n",
    "\n",
    "year_f.columns = ['ds', 'y']  # give the name who recognized  the prophet model\n",
    "year_f['ds'] = pd.to_datetime(year_f['ds']).dt.date # transform the column in the type of datetime"
   ]
  },
  {
   "cell_type": "code",
   "execution_count": 32,
   "id": "documentary-medline",
   "metadata": {
    "pycharm": {
     "name": "#%%\n"
    }
   },
   "outputs": [],
   "source": [
    "# we are going to divide the data\n",
    "\n",
    "train = year_f.drop( year_f.index[-40:])\n",
    "\n",
    "test =   year_f.drop( year_f.index[0:281])"
   ]
  },
  {
   "cell_type": "code",
   "execution_count": null,
   "id": "expensive-divide",
   "metadata": {
    "pycharm": {
     "name": "#%%\n"
    }
   },
   "outputs": [],
   "source": []
  },
  {
   "cell_type": "code",
   "execution_count": 33,
   "id": "nervous-arbor",
   "metadata": {
    "pycharm": {
     "name": "#%%\n"
    }
   },
   "outputs": [
    {
     "name": "stderr",
     "output_type": "stream",
     "text": [
      "INFO:fbprophet:Disabling weekly seasonality. Run prophet with weekly_seasonality=True to override this.\n",
      "INFO:fbprophet:Disabling daily seasonality. Run prophet with daily_seasonality=True to override this.\n"
     ]
    }
   ],
   "source": [
    "# fitting the model\n",
    "\n",
    "m = Prophet(n_changepoints= 20,\n",
    "                changepoint_range= 0.25,\n",
    "                yearly_seasonality= True,\n",
    "               changepoint_prior_scale= 0.9,\n",
    "                seasonality_mode= \"additive\"\n",
    "               )\n",
    "\n",
    "ml = m.fit(train)\n"
   ]
  },
  {
   "cell_type": "code",
   "execution_count": 34,
   "id": "interior-commons",
   "metadata": {
    "pycharm": {
     "name": "#%%\n"
    }
   },
   "outputs": [
    {
     "data": {
      "text/html": [
       "<div>\n",
       "<style scoped>\n",
       "    .dataframe tbody tr th:only-of-type {\n",
       "        vertical-align: middle;\n",
       "    }\n",
       "\n",
       "    .dataframe tbody tr th {\n",
       "        vertical-align: top;\n",
       "    }\n",
       "\n",
       "    .dataframe thead th {\n",
       "        text-align: right;\n",
       "    }\n",
       "</style>\n",
       "<table border=\"1\" class=\"dataframe\">\n",
       "  <thead>\n",
       "    <tr style=\"text-align: right;\">\n",
       "      <th></th>\n",
       "      <th>ds</th>\n",
       "      <th>trend</th>\n",
       "      <th>yhat_lower</th>\n",
       "      <th>yhat_upper</th>\n",
       "      <th>trend_lower</th>\n",
       "      <th>trend_upper</th>\n",
       "      <th>additive_terms</th>\n",
       "      <th>additive_terms_lower</th>\n",
       "      <th>additive_terms_upper</th>\n",
       "      <th>yearly</th>\n",
       "      <th>yearly_lower</th>\n",
       "      <th>yearly_upper</th>\n",
       "      <th>multiplicative_terms</th>\n",
       "      <th>multiplicative_terms_lower</th>\n",
       "      <th>multiplicative_terms_upper</th>\n",
       "      <th>yhat</th>\n",
       "    </tr>\n",
       "  </thead>\n",
       "  <tbody>\n",
       "    <tr>\n",
       "      <th>0</th>\n",
       "      <td>1700-01-01</td>\n",
       "      <td>159.085484</td>\n",
       "      <td>-22.763530</td>\n",
       "      <td>131.381275</td>\n",
       "      <td>159.085484</td>\n",
       "      <td>159.085484</td>\n",
       "      <td>-103.481078</td>\n",
       "      <td>-103.481078</td>\n",
       "      <td>-103.481078</td>\n",
       "      <td>-103.481078</td>\n",
       "      <td>-103.481078</td>\n",
       "      <td>-103.481078</td>\n",
       "      <td>0.0</td>\n",
       "      <td>0.0</td>\n",
       "      <td>0.0</td>\n",
       "      <td>55.604407</td>\n",
       "    </tr>\n",
       "    <tr>\n",
       "      <th>1</th>\n",
       "      <td>1701-01-01</td>\n",
       "      <td>160.267753</td>\n",
       "      <td>-32.942886</td>\n",
       "      <td>124.543637</td>\n",
       "      <td>160.267753</td>\n",
       "      <td>160.267753</td>\n",
       "      <td>-113.259580</td>\n",
       "      <td>-113.259580</td>\n",
       "      <td>-113.259580</td>\n",
       "      <td>-113.259580</td>\n",
       "      <td>-113.259580</td>\n",
       "      <td>-113.259580</td>\n",
       "      <td>0.0</td>\n",
       "      <td>0.0</td>\n",
       "      <td>0.0</td>\n",
       "      <td>47.008173</td>\n",
       "    </tr>\n",
       "    <tr>\n",
       "      <th>2</th>\n",
       "      <td>1702-01-01</td>\n",
       "      <td>161.450022</td>\n",
       "      <td>-37.994650</td>\n",
       "      <td>117.532994</td>\n",
       "      <td>161.450022</td>\n",
       "      <td>161.450022</td>\n",
       "      <td>-122.138328</td>\n",
       "      <td>-122.138328</td>\n",
       "      <td>-122.138328</td>\n",
       "      <td>-122.138328</td>\n",
       "      <td>-122.138328</td>\n",
       "      <td>-122.138328</td>\n",
       "      <td>0.0</td>\n",
       "      <td>0.0</td>\n",
       "      <td>0.0</td>\n",
       "      <td>39.311694</td>\n",
       "    </tr>\n",
       "    <tr>\n",
       "      <th>3</th>\n",
       "      <td>1703-01-01</td>\n",
       "      <td>162.632291</td>\n",
       "      <td>-52.126152</td>\n",
       "      <td>111.547648</td>\n",
       "      <td>162.632291</td>\n",
       "      <td>162.632291</td>\n",
       "      <td>-130.103927</td>\n",
       "      <td>-130.103927</td>\n",
       "      <td>-130.103927</td>\n",
       "      <td>-130.103927</td>\n",
       "      <td>-130.103927</td>\n",
       "      <td>-130.103927</td>\n",
       "      <td>0.0</td>\n",
       "      <td>0.0</td>\n",
       "      <td>0.0</td>\n",
       "      <td>32.528364</td>\n",
       "    </tr>\n",
       "    <tr>\n",
       "      <th>4</th>\n",
       "      <td>1704-01-01</td>\n",
       "      <td>163.814560</td>\n",
       "      <td>-48.379154</td>\n",
       "      <td>108.677717</td>\n",
       "      <td>163.814560</td>\n",
       "      <td>163.814560</td>\n",
       "      <td>-137.144542</td>\n",
       "      <td>-137.144542</td>\n",
       "      <td>-137.144542</td>\n",
       "      <td>-137.144542</td>\n",
       "      <td>-137.144542</td>\n",
       "      <td>-137.144542</td>\n",
       "      <td>0.0</td>\n",
       "      <td>0.0</td>\n",
       "      <td>0.0</td>\n",
       "      <td>26.670018</td>\n",
       "    </tr>\n",
       "  </tbody>\n",
       "</table>\n",
       "</div>"
      ],
      "text/plain": [
       "          ds       trend  yhat_lower  yhat_upper  trend_lower  trend_upper  \\\n",
       "0 1700-01-01  159.085484  -22.763530  131.381275   159.085484   159.085484   \n",
       "1 1701-01-01  160.267753  -32.942886  124.543637   160.267753   160.267753   \n",
       "2 1702-01-01  161.450022  -37.994650  117.532994   161.450022   161.450022   \n",
       "3 1703-01-01  162.632291  -52.126152  111.547648   162.632291   162.632291   \n",
       "4 1704-01-01  163.814560  -48.379154  108.677717   163.814560   163.814560   \n",
       "\n",
       "   additive_terms  additive_terms_lower  additive_terms_upper      yearly  \\\n",
       "0     -103.481078           -103.481078           -103.481078 -103.481078   \n",
       "1     -113.259580           -113.259580           -113.259580 -113.259580   \n",
       "2     -122.138328           -122.138328           -122.138328 -122.138328   \n",
       "3     -130.103927           -130.103927           -130.103927 -130.103927   \n",
       "4     -137.144542           -137.144542           -137.144542 -137.144542   \n",
       "\n",
       "   yearly_lower  yearly_upper  multiplicative_terms  \\\n",
       "0   -103.481078   -103.481078                   0.0   \n",
       "1   -113.259580   -113.259580                   0.0   \n",
       "2   -122.138328   -122.138328                   0.0   \n",
       "3   -130.103927   -130.103927                   0.0   \n",
       "4   -137.144542   -137.144542                   0.0   \n",
       "\n",
       "   multiplicative_terms_lower  multiplicative_terms_upper       yhat  \n",
       "0                         0.0                         0.0  55.604407  \n",
       "1                         0.0                         0.0  47.008173  \n",
       "2                         0.0                         0.0  39.311694  \n",
       "3                         0.0                         0.0  32.528364  \n",
       "4                         0.0                         0.0  26.670018  "
      ]
     },
     "execution_count": 34,
     "metadata": {},
     "output_type": "execute_result"
    }
   ],
   "source": [
    "# prediction\n",
    "\n",
    "future = m.make_future_dataframe(periods = 10, freq = 'Y'\n",
    "                                )\n",
    "forecast = m.predict(future)\n",
    "forecast.head()"
   ]
  },
  {
   "cell_type": "code",
   "execution_count": null,
   "id": "traditional-terrorism",
   "metadata": {
    "pycharm": {
     "name": "#%%\n"
    }
   },
   "outputs": [],
   "source": []
  },
  {
   "cell_type": "code",
   "execution_count": null,
   "id": "essential-series",
   "metadata": {
    "pycharm": {
     "name": "#%%\n"
    }
   },
   "outputs": [],
   "source": [
    "\n",
    "\n"
   ]
  },
  {
   "cell_type": "code",
   "execution_count": null,
   "id": "armed-french",
   "metadata": {
    "pycharm": {
     "name": "#%%\n"
    }
   },
   "outputs": [],
   "source": []
  },
  {
   "cell_type": "code",
   "execution_count": null,
   "id": "complimentary-spray",
   "metadata": {
    "pycharm": {
     "name": "#%%\n"
    }
   },
   "outputs": [],
   "source": []
  },
  {
   "cell_type": "markdown",
   "id": "funded-section",
   "metadata": {
    "pycharm": {
     "name": "#%% md\n"
    }
   },
   "source": [
    "# CROSS_VALIDATION 10 Years"
   ]
  },
  {
   "cell_type": "code",
   "execution_count": 37,
   "id": "scenic-stanford",
   "metadata": {
    "pycharm": {
     "name": "#%%\n"
    }
   },
   "outputs": [
    {
     "name": "stderr",
     "output_type": "stream",
     "text": [
      "INFO:fbprophet:Making 57 forecasts with cutoffs between 1946-10-21 00:00:00 and 1979-01-01 00:00:00\n"
     ]
    },
    {
     "data": {
      "application/vnd.jupyter.widget-view+json": {
       "model_id": "05127c1fe5104a8fb3c1003298489820",
       "version_major": 2,
       "version_minor": 0
      },
      "text/plain": [
       "  0%|          | 0/57 [00:00<?, ?it/s]"
      ]
     },
     "metadata": {},
     "output_type": "display_data"
    }
   ],
   "source": [
    "\n",
    "from fbprophet.diagnostics import cross_validation\n",
    "y_cv = cross_validation(ml, initial = '90000 days', period = '210 days', horizon = '365 days')\n"
   ]
  },
  {
   "cell_type": "code",
   "execution_count": 38,
   "id": "athletic-stopping",
   "metadata": {
    "pycharm": {
     "name": "#%%\n"
    }
   },
   "outputs": [
    {
     "data": {
      "text/html": [
       "<div>\n",
       "<style scoped>\n",
       "    .dataframe tbody tr th:only-of-type {\n",
       "        vertical-align: middle;\n",
       "    }\n",
       "\n",
       "    .dataframe tbody tr th {\n",
       "        vertical-align: top;\n",
       "    }\n",
       "\n",
       "    .dataframe thead th {\n",
       "        text-align: right;\n",
       "    }\n",
       "</style>\n",
       "<table border=\"1\" class=\"dataframe\">\n",
       "  <thead>\n",
       "    <tr style=\"text-align: right;\">\n",
       "      <th></th>\n",
       "      <th>horizon</th>\n",
       "      <th>mse</th>\n",
       "      <th>rmse</th>\n",
       "      <th>mae</th>\n",
       "      <th>mape</th>\n",
       "      <th>mdape</th>\n",
       "      <th>coverage</th>\n",
       "    </tr>\n",
       "  </thead>\n",
       "  <tbody>\n",
       "    <tr>\n",
       "      <th>0</th>\n",
       "      <td>27 days</td>\n",
       "      <td>4553.714538</td>\n",
       "      <td>67.481216</td>\n",
       "      <td>53.992017</td>\n",
       "      <td>0.978743</td>\n",
       "      <td>0.626521</td>\n",
       "      <td>0.8</td>\n",
       "    </tr>\n",
       "    <tr>\n",
       "      <th>1</th>\n",
       "      <td>36 days</td>\n",
       "      <td>4895.960815</td>\n",
       "      <td>69.971143</td>\n",
       "      <td>57.931762</td>\n",
       "      <td>1.096563</td>\n",
       "      <td>0.626521</td>\n",
       "      <td>0.8</td>\n",
       "    </tr>\n",
       "    <tr>\n",
       "      <th>2</th>\n",
       "      <td>45 days</td>\n",
       "      <td>7587.412122</td>\n",
       "      <td>87.105753</td>\n",
       "      <td>70.857872</td>\n",
       "      <td>0.579607</td>\n",
       "      <td>0.606061</td>\n",
       "      <td>0.6</td>\n",
       "    </tr>\n",
       "    <tr>\n",
       "      <th>3</th>\n",
       "      <td>54 days</td>\n",
       "      <td>4788.642371</td>\n",
       "      <td>69.200017</td>\n",
       "      <td>51.683994</td>\n",
       "      <td>0.546736</td>\n",
       "      <td>0.462163</td>\n",
       "      <td>0.8</td>\n",
       "    </tr>\n",
       "    <tr>\n",
       "      <th>4</th>\n",
       "      <td>55 days</td>\n",
       "      <td>5079.825626</td>\n",
       "      <td>71.272895</td>\n",
       "      <td>59.219885</td>\n",
       "      <td>0.603978</td>\n",
       "      <td>0.462163</td>\n",
       "      <td>0.8</td>\n",
       "    </tr>\n",
       "    <tr>\n",
       "      <th>5</th>\n",
       "      <td>63 days</td>\n",
       "      <td>4766.147708</td>\n",
       "      <td>69.037292</td>\n",
       "      <td>54.026096</td>\n",
       "      <td>0.574015</td>\n",
       "      <td>0.462163</td>\n",
       "      <td>0.8</td>\n",
       "    </tr>\n",
       "    <tr>\n",
       "      <th>6</th>\n",
       "      <td>64 days</td>\n",
       "      <td>4649.299337</td>\n",
       "      <td>68.185771</td>\n",
       "      <td>52.866554</td>\n",
       "      <td>0.499960</td>\n",
       "      <td>0.462163</td>\n",
       "      <td>0.8</td>\n",
       "    </tr>\n",
       "    <tr>\n",
       "      <th>7</th>\n",
       "      <td>72 days</td>\n",
       "      <td>5028.155931</td>\n",
       "      <td>70.909491</td>\n",
       "      <td>54.221437</td>\n",
       "      <td>0.512142</td>\n",
       "      <td>0.462163</td>\n",
       "      <td>0.8</td>\n",
       "    </tr>\n",
       "    <tr>\n",
       "      <th>8</th>\n",
       "      <td>73 days</td>\n",
       "      <td>5455.629330</td>\n",
       "      <td>73.862232</td>\n",
       "      <td>59.727922</td>\n",
       "      <td>0.490766</td>\n",
       "      <td>0.355282</td>\n",
       "      <td>0.8</td>\n",
       "    </tr>\n",
       "    <tr>\n",
       "      <th>9</th>\n",
       "      <td>82 days</td>\n",
       "      <td>5291.598440</td>\n",
       "      <td>72.743374</td>\n",
       "      <td>57.139801</td>\n",
       "      <td>0.508013</td>\n",
       "      <td>0.377528</td>\n",
       "      <td>0.8</td>\n",
       "    </tr>\n",
       "    <tr>\n",
       "      <th>10</th>\n",
       "      <td>91 days</td>\n",
       "      <td>5585.123086</td>\n",
       "      <td>74.733681</td>\n",
       "      <td>62.096997</td>\n",
       "      <td>0.630291</td>\n",
       "      <td>0.666972</td>\n",
       "      <td>0.8</td>\n",
       "    </tr>\n",
       "    <tr>\n",
       "      <th>11</th>\n",
       "      <td>100 days</td>\n",
       "      <td>11162.319330</td>\n",
       "      <td>105.651878</td>\n",
       "      <td>87.321960</td>\n",
       "      <td>0.569935</td>\n",
       "      <td>0.663399</td>\n",
       "      <td>0.6</td>\n",
       "    </tr>\n",
       "    <tr>\n",
       "      <th>12</th>\n",
       "      <td>109 days</td>\n",
       "      <td>8227.042979</td>\n",
       "      <td>90.703048</td>\n",
       "      <td>73.952450</td>\n",
       "      <td>2.750215</td>\n",
       "      <td>0.663399</td>\n",
       "      <td>0.8</td>\n",
       "    </tr>\n",
       "    <tr>\n",
       "      <th>13</th>\n",
       "      <td>110 days</td>\n",
       "      <td>8345.254158</td>\n",
       "      <td>91.352363</td>\n",
       "      <td>75.022121</td>\n",
       "      <td>2.973968</td>\n",
       "      <td>0.786496</td>\n",
       "      <td>0.8</td>\n",
       "    </tr>\n",
       "    <tr>\n",
       "      <th>14</th>\n",
       "      <td>118 days</td>\n",
       "      <td>8472.819136</td>\n",
       "      <td>92.047918</td>\n",
       "      <td>77.116459</td>\n",
       "      <td>2.958497</td>\n",
       "      <td>0.786496</td>\n",
       "      <td>0.8</td>\n",
       "    </tr>\n",
       "    <tr>\n",
       "      <th>15</th>\n",
       "      <td>119 days</td>\n",
       "      <td>8540.146454</td>\n",
       "      <td>92.412913</td>\n",
       "      <td>77.883018</td>\n",
       "      <td>2.970631</td>\n",
       "      <td>0.847166</td>\n",
       "      <td>0.8</td>\n",
       "    </tr>\n",
       "    <tr>\n",
       "      <th>16</th>\n",
       "      <td>128 days</td>\n",
       "      <td>3079.244664</td>\n",
       "      <td>55.490942</td>\n",
       "      <td>53.812397</td>\n",
       "      <td>2.909248</td>\n",
       "      <td>0.847166</td>\n",
       "      <td>1.0</td>\n",
       "    </tr>\n",
       "    <tr>\n",
       "      <th>17</th>\n",
       "      <td>137 days</td>\n",
       "      <td>3039.915250</td>\n",
       "      <td>55.135426</td>\n",
       "      <td>53.552631</td>\n",
       "      <td>1.277868</td>\n",
       "      <td>0.847166</td>\n",
       "      <td>1.0</td>\n",
       "    </tr>\n",
       "    <tr>\n",
       "      <th>18</th>\n",
       "      <td>146 days</td>\n",
       "      <td>2463.487461</td>\n",
       "      <td>49.633532</td>\n",
       "      <td>46.319779</td>\n",
       "      <td>1.040037</td>\n",
       "      <td>0.356482</td>\n",
       "      <td>1.0</td>\n",
       "    </tr>\n",
       "    <tr>\n",
       "      <th>19</th>\n",
       "      <td>155 days</td>\n",
       "      <td>8896.835359</td>\n",
       "      <td>94.323037</td>\n",
       "      <td>75.755183</td>\n",
       "      <td>1.115812</td>\n",
       "      <td>0.679048</td>\n",
       "      <td>0.8</td>\n",
       "    </tr>\n",
       "    <tr>\n",
       "      <th>20</th>\n",
       "      <td>164 days</td>\n",
       "      <td>9916.290708</td>\n",
       "      <td>99.580574</td>\n",
       "      <td>84.253474</td>\n",
       "      <td>2.351149</td>\n",
       "      <td>3.402071</td>\n",
       "      <td>0.6</td>\n",
       "    </tr>\n",
       "    <tr>\n",
       "      <th>21</th>\n",
       "      <td>173 days</td>\n",
       "      <td>10951.316306</td>\n",
       "      <td>104.648537</td>\n",
       "      <td>86.741543</td>\n",
       "      <td>1.729552</td>\n",
       "      <td>0.679048</td>\n",
       "      <td>0.4</td>\n",
       "    </tr>\n",
       "    <tr>\n",
       "      <th>22</th>\n",
       "      <td>182 days</td>\n",
       "      <td>5023.277991</td>\n",
       "      <td>70.875087</td>\n",
       "      <td>62.497445</td>\n",
       "      <td>1.675938</td>\n",
       "      <td>0.556742</td>\n",
       "      <td>0.6</td>\n",
       "    </tr>\n",
       "    <tr>\n",
       "      <th>23</th>\n",
       "      <td>191 days</td>\n",
       "      <td>5116.293391</td>\n",
       "      <td>71.528270</td>\n",
       "      <td>63.147686</td>\n",
       "      <td>1.925132</td>\n",
       "      <td>0.556742</td>\n",
       "      <td>0.7</td>\n",
       "    </tr>\n",
       "    <tr>\n",
       "      <th>24</th>\n",
       "      <td>200 days</td>\n",
       "      <td>5141.464448</td>\n",
       "      <td>71.704006</td>\n",
       "      <td>63.332464</td>\n",
       "      <td>1.277306</td>\n",
       "      <td>0.451036</td>\n",
       "      <td>0.8</td>\n",
       "    </tr>\n",
       "    <tr>\n",
       "      <th>25</th>\n",
       "      <td>209 days</td>\n",
       "      <td>7070.761835</td>\n",
       "      <td>84.087822</td>\n",
       "      <td>77.135023</td>\n",
       "      <td>1.341679</td>\n",
       "      <td>0.451036</td>\n",
       "      <td>0.7</td>\n",
       "    </tr>\n",
       "    <tr>\n",
       "      <th>26</th>\n",
       "      <td>210 days</td>\n",
       "      <td>9242.931305</td>\n",
       "      <td>96.140165</td>\n",
       "      <td>91.900974</td>\n",
       "      <td>1.399569</td>\n",
       "      <td>0.583639</td>\n",
       "      <td>0.6</td>\n",
       "    </tr>\n",
       "    <tr>\n",
       "      <th>27</th>\n",
       "      <td>218 days</td>\n",
       "      <td>8708.458392</td>\n",
       "      <td>93.319121</td>\n",
       "      <td>86.288697</td>\n",
       "      <td>1.466642</td>\n",
       "      <td>0.616054</td>\n",
       "      <td>0.6</td>\n",
       "    </tr>\n",
       "    <tr>\n",
       "      <th>28</th>\n",
       "      <td>219 days</td>\n",
       "      <td>8642.885446</td>\n",
       "      <td>92.967120</td>\n",
       "      <td>85.839062</td>\n",
       "      <td>1.117583</td>\n",
       "      <td>0.616054</td>\n",
       "      <td>0.6</td>\n",
       "    </tr>\n",
       "    <tr>\n",
       "      <th>29</th>\n",
       "      <td>227 days</td>\n",
       "      <td>10538.548594</td>\n",
       "      <td>102.657433</td>\n",
       "      <td>95.679847</td>\n",
       "      <td>1.152680</td>\n",
       "      <td>0.626521</td>\n",
       "      <td>0.4</td>\n",
       "    </tr>\n",
       "    <tr>\n",
       "      <th>30</th>\n",
       "      <td>228 days</td>\n",
       "      <td>7481.123193</td>\n",
       "      <td>86.493486</td>\n",
       "      <td>71.047444</td>\n",
       "      <td>1.030486</td>\n",
       "      <td>0.626521</td>\n",
       "      <td>0.6</td>\n",
       "    </tr>\n",
       "    <tr>\n",
       "      <th>31</th>\n",
       "      <td>237 days</td>\n",
       "      <td>4553.714538</td>\n",
       "      <td>67.481216</td>\n",
       "      <td>53.992017</td>\n",
       "      <td>0.978743</td>\n",
       "      <td>0.626521</td>\n",
       "      <td>0.8</td>\n",
       "    </tr>\n",
       "    <tr>\n",
       "      <th>32</th>\n",
       "      <td>246 days</td>\n",
       "      <td>4895.960815</td>\n",
       "      <td>69.971143</td>\n",
       "      <td>57.931762</td>\n",
       "      <td>1.096563</td>\n",
       "      <td>0.626521</td>\n",
       "      <td>0.8</td>\n",
       "    </tr>\n",
       "    <tr>\n",
       "      <th>33</th>\n",
       "      <td>255 days</td>\n",
       "      <td>7587.412122</td>\n",
       "      <td>87.105753</td>\n",
       "      <td>70.857872</td>\n",
       "      <td>0.579607</td>\n",
       "      <td>0.606061</td>\n",
       "      <td>0.6</td>\n",
       "    </tr>\n",
       "    <tr>\n",
       "      <th>34</th>\n",
       "      <td>264 days</td>\n",
       "      <td>4788.642371</td>\n",
       "      <td>69.200017</td>\n",
       "      <td>51.683994</td>\n",
       "      <td>0.546736</td>\n",
       "      <td>0.462163</td>\n",
       "      <td>0.8</td>\n",
       "    </tr>\n",
       "    <tr>\n",
       "      <th>35</th>\n",
       "      <td>265 days</td>\n",
       "      <td>5079.825626</td>\n",
       "      <td>71.272895</td>\n",
       "      <td>59.219885</td>\n",
       "      <td>0.603978</td>\n",
       "      <td>0.462163</td>\n",
       "      <td>0.8</td>\n",
       "    </tr>\n",
       "    <tr>\n",
       "      <th>36</th>\n",
       "      <td>273 days</td>\n",
       "      <td>4766.147708</td>\n",
       "      <td>69.037292</td>\n",
       "      <td>54.026096</td>\n",
       "      <td>0.574015</td>\n",
       "      <td>0.462163</td>\n",
       "      <td>0.8</td>\n",
       "    </tr>\n",
       "    <tr>\n",
       "      <th>37</th>\n",
       "      <td>274 days</td>\n",
       "      <td>4649.299337</td>\n",
       "      <td>68.185771</td>\n",
       "      <td>52.866554</td>\n",
       "      <td>0.499960</td>\n",
       "      <td>0.462163</td>\n",
       "      <td>0.8</td>\n",
       "    </tr>\n",
       "    <tr>\n",
       "      <th>38</th>\n",
       "      <td>283 days</td>\n",
       "      <td>1479.943427</td>\n",
       "      <td>38.470033</td>\n",
       "      <td>36.098011</td>\n",
       "      <td>0.449804</td>\n",
       "      <td>0.355282</td>\n",
       "      <td>1.0</td>\n",
       "    </tr>\n",
       "    <tr>\n",
       "      <th>39</th>\n",
       "      <td>292 days</td>\n",
       "      <td>1481.649041</td>\n",
       "      <td>38.492195</td>\n",
       "      <td>36.131941</td>\n",
       "      <td>0.432877</td>\n",
       "      <td>0.355282</td>\n",
       "      <td>1.0</td>\n",
       "    </tr>\n",
       "    <tr>\n",
       "      <th>40</th>\n",
       "      <td>301 days</td>\n",
       "      <td>1543.201343</td>\n",
       "      <td>39.283601</td>\n",
       "      <td>36.899825</td>\n",
       "      <td>0.531918</td>\n",
       "      <td>0.377528</td>\n",
       "      <td>1.0</td>\n",
       "    </tr>\n",
       "    <tr>\n",
       "      <th>41</th>\n",
       "      <td>310 days</td>\n",
       "      <td>7512.138594</td>\n",
       "      <td>86.672594</td>\n",
       "      <td>68.179549</td>\n",
       "      <td>0.629577</td>\n",
       "      <td>0.663399</td>\n",
       "      <td>0.8</td>\n",
       "    </tr>\n",
       "    <tr>\n",
       "      <th>42</th>\n",
       "      <td>319 days</td>\n",
       "      <td>8227.042979</td>\n",
       "      <td>90.703048</td>\n",
       "      <td>73.952450</td>\n",
       "      <td>2.750215</td>\n",
       "      <td>0.663399</td>\n",
       "      <td>0.6</td>\n",
       "    </tr>\n",
       "    <tr>\n",
       "      <th>43</th>\n",
       "      <td>320 days</td>\n",
       "      <td>8345.254158</td>\n",
       "      <td>91.352363</td>\n",
       "      <td>75.022121</td>\n",
       "      <td>2.973968</td>\n",
       "      <td>0.786496</td>\n",
       "      <td>0.6</td>\n",
       "    </tr>\n",
       "    <tr>\n",
       "      <th>44</th>\n",
       "      <td>328 days</td>\n",
       "      <td>8472.819136</td>\n",
       "      <td>92.047918</td>\n",
       "      <td>77.116459</td>\n",
       "      <td>2.958497</td>\n",
       "      <td>0.786496</td>\n",
       "      <td>0.6</td>\n",
       "    </tr>\n",
       "    <tr>\n",
       "      <th>45</th>\n",
       "      <td>329 days</td>\n",
       "      <td>8540.146454</td>\n",
       "      <td>92.412913</td>\n",
       "      <td>77.883018</td>\n",
       "      <td>2.970631</td>\n",
       "      <td>0.847166</td>\n",
       "      <td>0.6</td>\n",
       "    </tr>\n",
       "    <tr>\n",
       "      <th>46</th>\n",
       "      <td>338 days</td>\n",
       "      <td>3079.244664</td>\n",
       "      <td>55.490942</td>\n",
       "      <td>53.812397</td>\n",
       "      <td>2.909248</td>\n",
       "      <td>0.847166</td>\n",
       "      <td>0.8</td>\n",
       "    </tr>\n",
       "    <tr>\n",
       "      <th>47</th>\n",
       "      <td>347 days</td>\n",
       "      <td>3039.915250</td>\n",
       "      <td>55.135426</td>\n",
       "      <td>53.552631</td>\n",
       "      <td>1.277868</td>\n",
       "      <td>0.847166</td>\n",
       "      <td>0.8</td>\n",
       "    </tr>\n",
       "    <tr>\n",
       "      <th>48</th>\n",
       "      <td>356 days</td>\n",
       "      <td>2463.487461</td>\n",
       "      <td>49.633532</td>\n",
       "      <td>46.319779</td>\n",
       "      <td>1.040037</td>\n",
       "      <td>0.356482</td>\n",
       "      <td>0.8</td>\n",
       "    </tr>\n",
       "    <tr>\n",
       "      <th>49</th>\n",
       "      <td>365 days</td>\n",
       "      <td>11576.867994</td>\n",
       "      <td>107.595855</td>\n",
       "      <td>91.489210</td>\n",
       "      <td>1.060131</td>\n",
       "      <td>0.568761</td>\n",
       "      <td>0.4</td>\n",
       "    </tr>\n",
       "  </tbody>\n",
       "</table>\n",
       "</div>"
      ],
      "text/plain": [
       "    horizon           mse        rmse        mae      mape     mdape  coverage\n",
       "0   27 days   4553.714538   67.481216  53.992017  0.978743  0.626521       0.8\n",
       "1   36 days   4895.960815   69.971143  57.931762  1.096563  0.626521       0.8\n",
       "2   45 days   7587.412122   87.105753  70.857872  0.579607  0.606061       0.6\n",
       "3   54 days   4788.642371   69.200017  51.683994  0.546736  0.462163       0.8\n",
       "4   55 days   5079.825626   71.272895  59.219885  0.603978  0.462163       0.8\n",
       "5   63 days   4766.147708   69.037292  54.026096  0.574015  0.462163       0.8\n",
       "6   64 days   4649.299337   68.185771  52.866554  0.499960  0.462163       0.8\n",
       "7   72 days   5028.155931   70.909491  54.221437  0.512142  0.462163       0.8\n",
       "8   73 days   5455.629330   73.862232  59.727922  0.490766  0.355282       0.8\n",
       "9   82 days   5291.598440   72.743374  57.139801  0.508013  0.377528       0.8\n",
       "10  91 days   5585.123086   74.733681  62.096997  0.630291  0.666972       0.8\n",
       "11 100 days  11162.319330  105.651878  87.321960  0.569935  0.663399       0.6\n",
       "12 109 days   8227.042979   90.703048  73.952450  2.750215  0.663399       0.8\n",
       "13 110 days   8345.254158   91.352363  75.022121  2.973968  0.786496       0.8\n",
       "14 118 days   8472.819136   92.047918  77.116459  2.958497  0.786496       0.8\n",
       "15 119 days   8540.146454   92.412913  77.883018  2.970631  0.847166       0.8\n",
       "16 128 days   3079.244664   55.490942  53.812397  2.909248  0.847166       1.0\n",
       "17 137 days   3039.915250   55.135426  53.552631  1.277868  0.847166       1.0\n",
       "18 146 days   2463.487461   49.633532  46.319779  1.040037  0.356482       1.0\n",
       "19 155 days   8896.835359   94.323037  75.755183  1.115812  0.679048       0.8\n",
       "20 164 days   9916.290708   99.580574  84.253474  2.351149  3.402071       0.6\n",
       "21 173 days  10951.316306  104.648537  86.741543  1.729552  0.679048       0.4\n",
       "22 182 days   5023.277991   70.875087  62.497445  1.675938  0.556742       0.6\n",
       "23 191 days   5116.293391   71.528270  63.147686  1.925132  0.556742       0.7\n",
       "24 200 days   5141.464448   71.704006  63.332464  1.277306  0.451036       0.8\n",
       "25 209 days   7070.761835   84.087822  77.135023  1.341679  0.451036       0.7\n",
       "26 210 days   9242.931305   96.140165  91.900974  1.399569  0.583639       0.6\n",
       "27 218 days   8708.458392   93.319121  86.288697  1.466642  0.616054       0.6\n",
       "28 219 days   8642.885446   92.967120  85.839062  1.117583  0.616054       0.6\n",
       "29 227 days  10538.548594  102.657433  95.679847  1.152680  0.626521       0.4\n",
       "30 228 days   7481.123193   86.493486  71.047444  1.030486  0.626521       0.6\n",
       "31 237 days   4553.714538   67.481216  53.992017  0.978743  0.626521       0.8\n",
       "32 246 days   4895.960815   69.971143  57.931762  1.096563  0.626521       0.8\n",
       "33 255 days   7587.412122   87.105753  70.857872  0.579607  0.606061       0.6\n",
       "34 264 days   4788.642371   69.200017  51.683994  0.546736  0.462163       0.8\n",
       "35 265 days   5079.825626   71.272895  59.219885  0.603978  0.462163       0.8\n",
       "36 273 days   4766.147708   69.037292  54.026096  0.574015  0.462163       0.8\n",
       "37 274 days   4649.299337   68.185771  52.866554  0.499960  0.462163       0.8\n",
       "38 283 days   1479.943427   38.470033  36.098011  0.449804  0.355282       1.0\n",
       "39 292 days   1481.649041   38.492195  36.131941  0.432877  0.355282       1.0\n",
       "40 301 days   1543.201343   39.283601  36.899825  0.531918  0.377528       1.0\n",
       "41 310 days   7512.138594   86.672594  68.179549  0.629577  0.663399       0.8\n",
       "42 319 days   8227.042979   90.703048  73.952450  2.750215  0.663399       0.6\n",
       "43 320 days   8345.254158   91.352363  75.022121  2.973968  0.786496       0.6\n",
       "44 328 days   8472.819136   92.047918  77.116459  2.958497  0.786496       0.6\n",
       "45 329 days   8540.146454   92.412913  77.883018  2.970631  0.847166       0.6\n",
       "46 338 days   3079.244664   55.490942  53.812397  2.909248  0.847166       0.8\n",
       "47 347 days   3039.915250   55.135426  53.552631  1.277868  0.847166       0.8\n",
       "48 356 days   2463.487461   49.633532  46.319779  1.040037  0.356482       0.8\n",
       "49 365 days  11576.867994  107.595855  91.489210  1.060131  0.568761       0.4"
      ]
     },
     "execution_count": 38,
     "metadata": {},
     "output_type": "execute_result"
    }
   ],
   "source": [
    "# calculate rmse, mae with the cross validation\n",
    "\n",
    "from fbprophet.diagnostics import performance_metrics\n",
    "\n",
    "yy = performance_metrics(y_cv)\n",
    "yy"
   ]
  },
  {
   "cell_type": "code",
   "execution_count": 39,
   "id": "molecular-clinton",
   "metadata": {
    "pycharm": {
     "name": "#%%\n"
    }
   },
   "outputs": [
    {
     "data": {
      "text/plain": [
       "-0.1297922385010164"
      ]
     },
     "execution_count": 39,
     "metadata": {},
     "output_type": "execute_result"
    }
   ],
   "source": [
    "# calculate Rsquare\n",
    "\n",
    "R2 = r2_score(y_cv['y'], y_cv['yhat'])\n",
    "R2\n"
   ]
  },
  {
   "cell_type": "code",
   "execution_count": null,
   "id": "dress-aruba",
   "metadata": {
    "pycharm": {
     "name": "#%%\n"
    }
   },
   "outputs": [],
   "source": []
  },
  {
   "cell_type": "code",
   "execution_count": null,
   "id": "grateful-poker",
   "metadata": {
    "pycharm": {
     "name": "#%%\n"
    }
   },
   "outputs": [],
   "source": []
  },
  {
   "cell_type": "markdown",
   "id": "dated-natural",
   "metadata": {
    "pycharm": {
     "name": "#%% md\n"
    }
   },
   "source": [
    "# LINEAR 20 YEAR"
   ]
  },
  {
   "cell_type": "code",
   "execution_count": null,
   "id": "welsh-extent",
   "metadata": {
    "pycharm": {
     "name": "#%%\n"
    }
   },
   "outputs": [],
   "source": []
  },
  {
   "cell_type": "code",
   "execution_count": 63,
   "id": "wanted-honduras",
   "metadata": {
    "pycharm": {
     "name": "#%%\n"
    }
   },
   "outputs": [
    {
     "data": {
      "text/plain": [
       "(271, 2)"
      ]
     },
     "execution_count": 63,
     "metadata": {},
     "output_type": "execute_result"
    }
   ],
   "source": [
    "train.iloc[0:271,:].shape"
   ]
  },
  {
   "cell_type": "code",
   "execution_count": 64,
   "id": "informal-occasion",
   "metadata": {
    "pycharm": {
     "name": "#%%\n"
    }
   },
   "outputs": [
    {
     "name": "stderr",
     "output_type": "stream",
     "text": [
      "INFO:fbprophet:Disabling weekly seasonality. Run prophet with weekly_seasonality=True to override this.\n",
      "INFO:fbprophet:Disabling daily seasonality. Run prophet with daily_seasonality=True to override this.\n"
     ]
    }
   ],
   "source": [
    "m_20 = Prophet(n_changepoints= 15,\n",
    "                changepoint_range= 0.25,\n",
    "                yearly_seasonality= True,\n",
    "               changepoint_prior_scale= 0.9,\n",
    "                seasonality_mode= \"additive\"\n",
    "               )\n",
    "\n",
    "ml_20 = m_20.fit(train.iloc[0:271,:])"
   ]
  },
  {
   "cell_type": "code",
   "execution_count": 65,
   "id": "characteristic-raising",
   "metadata": {
    "pycharm": {
     "name": "#%%\n"
    }
   },
   "outputs": [],
   "source": [
    "future_20 = ml_20.make_future_dataframe(periods = 20, freq = 'Y')"
   ]
  },
  {
   "cell_type": "code",
   "execution_count": 66,
   "id": "worth-honolulu",
   "metadata": {
    "pycharm": {
     "name": "#%%\n"
    }
   },
   "outputs": [
    {
     "data": {
      "text/html": [
       "<div>\n",
       "<style scoped>\n",
       "    .dataframe tbody tr th:only-of-type {\n",
       "        vertical-align: middle;\n",
       "    }\n",
       "\n",
       "    .dataframe tbody tr th {\n",
       "        vertical-align: top;\n",
       "    }\n",
       "\n",
       "    .dataframe thead th {\n",
       "        text-align: right;\n",
       "    }\n",
       "</style>\n",
       "<table border=\"1\" class=\"dataframe\">\n",
       "  <thead>\n",
       "    <tr style=\"text-align: right;\">\n",
       "      <th></th>\n",
       "      <th>ds</th>\n",
       "      <th>trend</th>\n",
       "      <th>yhat_lower</th>\n",
       "      <th>yhat_upper</th>\n",
       "      <th>trend_lower</th>\n",
       "      <th>trend_upper</th>\n",
       "      <th>additive_terms</th>\n",
       "      <th>additive_terms_lower</th>\n",
       "      <th>additive_terms_upper</th>\n",
       "      <th>yearly</th>\n",
       "      <th>yearly_lower</th>\n",
       "      <th>yearly_upper</th>\n",
       "      <th>multiplicative_terms</th>\n",
       "      <th>multiplicative_terms_lower</th>\n",
       "      <th>multiplicative_terms_upper</th>\n",
       "      <th>yhat</th>\n",
       "    </tr>\n",
       "  </thead>\n",
       "  <tbody>\n",
       "    <tr>\n",
       "      <th>0</th>\n",
       "      <td>1700-01-01</td>\n",
       "      <td>115.924888</td>\n",
       "      <td>-21.017571</td>\n",
       "      <td>125.181185</td>\n",
       "      <td>115.924888</td>\n",
       "      <td>115.924888</td>\n",
       "      <td>-60.515015</td>\n",
       "      <td>-60.515015</td>\n",
       "      <td>-60.515015</td>\n",
       "      <td>-60.515015</td>\n",
       "      <td>-60.515015</td>\n",
       "      <td>-60.515015</td>\n",
       "      <td>0.0</td>\n",
       "      <td>0.0</td>\n",
       "      <td>0.0</td>\n",
       "      <td>55.409873</td>\n",
       "    </tr>\n",
       "    <tr>\n",
       "      <th>1</th>\n",
       "      <td>1701-01-01</td>\n",
       "      <td>116.974172</td>\n",
       "      <td>-21.890741</td>\n",
       "      <td>126.419173</td>\n",
       "      <td>116.974172</td>\n",
       "      <td>116.974172</td>\n",
       "      <td>-69.060864</td>\n",
       "      <td>-69.060864</td>\n",
       "      <td>-69.060864</td>\n",
       "      <td>-69.060864</td>\n",
       "      <td>-69.060864</td>\n",
       "      <td>-69.060864</td>\n",
       "      <td>0.0</td>\n",
       "      <td>0.0</td>\n",
       "      <td>0.0</td>\n",
       "      <td>47.913308</td>\n",
       "    </tr>\n",
       "    <tr>\n",
       "      <th>2</th>\n",
       "      <td>1702-01-01</td>\n",
       "      <td>118.023455</td>\n",
       "      <td>-35.936398</td>\n",
       "      <td>111.596386</td>\n",
       "      <td>118.023455</td>\n",
       "      <td>118.023455</td>\n",
       "      <td>-76.973935</td>\n",
       "      <td>-76.973935</td>\n",
       "      <td>-76.973935</td>\n",
       "      <td>-76.973935</td>\n",
       "      <td>-76.973935</td>\n",
       "      <td>-76.973935</td>\n",
       "      <td>0.0</td>\n",
       "      <td>0.0</td>\n",
       "      <td>0.0</td>\n",
       "      <td>41.049520</td>\n",
       "    </tr>\n",
       "    <tr>\n",
       "      <th>3</th>\n",
       "      <td>1703-01-01</td>\n",
       "      <td>119.072739</td>\n",
       "      <td>-41.765859</td>\n",
       "      <td>109.654668</td>\n",
       "      <td>119.072739</td>\n",
       "      <td>119.072739</td>\n",
       "      <td>-84.242735</td>\n",
       "      <td>-84.242735</td>\n",
       "      <td>-84.242735</td>\n",
       "      <td>-84.242735</td>\n",
       "      <td>-84.242735</td>\n",
       "      <td>-84.242735</td>\n",
       "      <td>0.0</td>\n",
       "      <td>0.0</td>\n",
       "      <td>0.0</td>\n",
       "      <td>34.830003</td>\n",
       "    </tr>\n",
       "    <tr>\n",
       "      <th>4</th>\n",
       "      <td>1704-01-01</td>\n",
       "      <td>120.122022</td>\n",
       "      <td>-47.449994</td>\n",
       "      <td>107.050881</td>\n",
       "      <td>120.122022</td>\n",
       "      <td>120.122022</td>\n",
       "      <td>-90.856877</td>\n",
       "      <td>-90.856877</td>\n",
       "      <td>-90.856877</td>\n",
       "      <td>-90.856877</td>\n",
       "      <td>-90.856877</td>\n",
       "      <td>-90.856877</td>\n",
       "      <td>0.0</td>\n",
       "      <td>0.0</td>\n",
       "      <td>0.0</td>\n",
       "      <td>29.265145</td>\n",
       "    </tr>\n",
       "  </tbody>\n",
       "</table>\n",
       "</div>"
      ],
      "text/plain": [
       "          ds       trend  yhat_lower  yhat_upper  trend_lower  trend_upper  \\\n",
       "0 1700-01-01  115.924888  -21.017571  125.181185   115.924888   115.924888   \n",
       "1 1701-01-01  116.974172  -21.890741  126.419173   116.974172   116.974172   \n",
       "2 1702-01-01  118.023455  -35.936398  111.596386   118.023455   118.023455   \n",
       "3 1703-01-01  119.072739  -41.765859  109.654668   119.072739   119.072739   \n",
       "4 1704-01-01  120.122022  -47.449994  107.050881   120.122022   120.122022   \n",
       "\n",
       "   additive_terms  additive_terms_lower  additive_terms_upper     yearly  \\\n",
       "0      -60.515015            -60.515015            -60.515015 -60.515015   \n",
       "1      -69.060864            -69.060864            -69.060864 -69.060864   \n",
       "2      -76.973935            -76.973935            -76.973935 -76.973935   \n",
       "3      -84.242735            -84.242735            -84.242735 -84.242735   \n",
       "4      -90.856877            -90.856877            -90.856877 -90.856877   \n",
       "\n",
       "   yearly_lower  yearly_upper  multiplicative_terms  \\\n",
       "0    -60.515015    -60.515015                   0.0   \n",
       "1    -69.060864    -69.060864                   0.0   \n",
       "2    -76.973935    -76.973935                   0.0   \n",
       "3    -84.242735    -84.242735                   0.0   \n",
       "4    -90.856877    -90.856877                   0.0   \n",
       "\n",
       "   multiplicative_terms_lower  multiplicative_terms_upper       yhat  \n",
       "0                         0.0                         0.0  55.409873  \n",
       "1                         0.0                         0.0  47.913308  \n",
       "2                         0.0                         0.0  41.049520  \n",
       "3                         0.0                         0.0  34.830003  \n",
       "4                         0.0                         0.0  29.265145  "
      ]
     },
     "execution_count": 66,
     "metadata": {},
     "output_type": "execute_result"
    }
   ],
   "source": [
    "forecast_20 = ml_20.predict(future_20)\n",
    "forecast_20.head()"
   ]
  },
  {
   "cell_type": "code",
   "execution_count": null,
   "id": "discrete-reputation",
   "metadata": {
    "pycharm": {
     "name": "#%%\n"
    }
   },
   "outputs": [],
   "source": [
    "\n"
   ]
  },
  {
   "cell_type": "code",
   "execution_count": null,
   "id": "continuing-geology",
   "metadata": {
    "pycharm": {
     "name": "#%%\n"
    }
   },
   "outputs": [],
   "source": []
  },
  {
   "cell_type": "markdown",
   "id": "christian-monday",
   "metadata": {
    "pycharm": {
     "name": "#%% md\n"
    }
   },
   "source": [
    "# CROSS VALIDATION "
   ]
  },
  {
   "cell_type": "code",
   "execution_count": 68,
   "id": "oriented-theater",
   "metadata": {
    "pycharm": {
     "name": "#%%\n"
    }
   },
   "outputs": [
    {
     "name": "stderr",
     "output_type": "stream",
     "text": [
      "INFO:fbprophet:Making 42 forecasts with cutoffs between 1946-07-21 00:00:00 and 1969-01-01 00:00:00\n"
     ]
    },
    {
     "data": {
      "application/vnd.jupyter.widget-view+json": {
       "model_id": "a60e488b8ea74bd59866a1ef4165fba5",
       "version_major": 2,
       "version_minor": 0
      },
      "text/plain": [
       "  0%|          | 0/42 [00:00<?, ?it/s]"
      ]
     },
     "metadata": {},
     "output_type": "display_data"
    }
   ],
   "source": [
    "# cross validation for evaluate the model\n",
    "\n",
    "y_cv_20 = cross_validation(ml_20, initial = '90000 days', period = '200 days', horizon = '365 days')"
   ]
  },
  {
   "cell_type": "code",
   "execution_count": 69,
   "id": "fatal-faith",
   "metadata": {
    "pycharm": {
     "name": "#%%\n"
    }
   },
   "outputs": [
    {
     "data": {
      "text/html": [
       "<div>\n",
       "<style scoped>\n",
       "    .dataframe tbody tr th:only-of-type {\n",
       "        vertical-align: middle;\n",
       "    }\n",
       "\n",
       "    .dataframe tbody tr th {\n",
       "        vertical-align: top;\n",
       "    }\n",
       "\n",
       "    .dataframe thead th {\n",
       "        text-align: right;\n",
       "    }\n",
       "</style>\n",
       "<table border=\"1\" class=\"dataframe\">\n",
       "  <thead>\n",
       "    <tr style=\"text-align: right;\">\n",
       "      <th></th>\n",
       "      <th>horizon</th>\n",
       "      <th>mse</th>\n",
       "      <th>rmse</th>\n",
       "      <th>mae</th>\n",
       "      <th>mape</th>\n",
       "      <th>mdape</th>\n",
       "      <th>coverage</th>\n",
       "    </tr>\n",
       "  </thead>\n",
       "  <tbody>\n",
       "    <tr>\n",
       "      <th>0</th>\n",
       "      <td>34 days</td>\n",
       "      <td>10153.667482</td>\n",
       "      <td>100.765408</td>\n",
       "      <td>78.960552</td>\n",
       "      <td>0.659471</td>\n",
       "      <td>0.540163</td>\n",
       "      <td>0.75</td>\n",
       "    </tr>\n",
       "    <tr>\n",
       "      <th>1</th>\n",
       "      <td>43 days</td>\n",
       "      <td>9858.455167</td>\n",
       "      <td>99.289754</td>\n",
       "      <td>75.953138</td>\n",
       "      <td>0.515880</td>\n",
       "      <td>0.540163</td>\n",
       "      <td>0.75</td>\n",
       "    </tr>\n",
       "    <tr>\n",
       "      <th>2</th>\n",
       "      <td>51 days</td>\n",
       "      <td>5307.397693</td>\n",
       "      <td>72.851889</td>\n",
       "      <td>61.180396</td>\n",
       "      <td>0.500526</td>\n",
       "      <td>0.509454</td>\n",
       "      <td>0.75</td>\n",
       "    </tr>\n",
       "    <tr>\n",
       "      <th>3</th>\n",
       "      <td>60 days</td>\n",
       "      <td>5533.768361</td>\n",
       "      <td>74.389303</td>\n",
       "      <td>65.523940</td>\n",
       "      <td>0.529402</td>\n",
       "      <td>0.509454</td>\n",
       "      <td>0.75</td>\n",
       "    </tr>\n",
       "    <tr>\n",
       "      <th>4</th>\n",
       "      <td>69 days</td>\n",
       "      <td>5104.980511</td>\n",
       "      <td>71.449146</td>\n",
       "      <td>61.357894</td>\n",
       "      <td>0.510878</td>\n",
       "      <td>0.472405</td>\n",
       "      <td>0.75</td>\n",
       "    </tr>\n",
       "    <tr>\n",
       "      <th>5</th>\n",
       "      <td>78 days</td>\n",
       "      <td>4760.180448</td>\n",
       "      <td>68.994061</td>\n",
       "      <td>56.042752</td>\n",
       "      <td>0.380611</td>\n",
       "      <td>0.308377</td>\n",
       "      <td>0.75</td>\n",
       "    </tr>\n",
       "    <tr>\n",
       "      <th>6</th>\n",
       "      <td>86 days</td>\n",
       "      <td>1047.570556</td>\n",
       "      <td>32.366195</td>\n",
       "      <td>31.281032</td>\n",
       "      <td>0.342899</td>\n",
       "      <td>0.308377</td>\n",
       "      <td>1.00</td>\n",
       "    </tr>\n",
       "    <tr>\n",
       "      <th>7</th>\n",
       "      <td>95 days</td>\n",
       "      <td>3610.393467</td>\n",
       "      <td>60.086550</td>\n",
       "      <td>49.355822</td>\n",
       "      <td>0.410175</td>\n",
       "      <td>0.396982</td>\n",
       "      <td>0.75</td>\n",
       "    </tr>\n",
       "    <tr>\n",
       "      <th>8</th>\n",
       "      <td>104 days</td>\n",
       "      <td>3307.846937</td>\n",
       "      <td>57.513885</td>\n",
       "      <td>44.947169</td>\n",
       "      <td>0.424459</td>\n",
       "      <td>0.425551</td>\n",
       "      <td>0.75</td>\n",
       "    </tr>\n",
       "    <tr>\n",
       "      <th>9</th>\n",
       "      <td>112 days</td>\n",
       "      <td>4386.734736</td>\n",
       "      <td>66.232430</td>\n",
       "      <td>56.800138</td>\n",
       "      <td>0.461939</td>\n",
       "      <td>0.452381</td>\n",
       "      <td>0.75</td>\n",
       "    </tr>\n",
       "    <tr>\n",
       "      <th>10</th>\n",
       "      <td>121 days</td>\n",
       "      <td>5694.128991</td>\n",
       "      <td>75.459453</td>\n",
       "      <td>69.604614</td>\n",
       "      <td>3.248413</td>\n",
       "      <td>0.498326</td>\n",
       "      <td>0.50</td>\n",
       "    </tr>\n",
       "    <tr>\n",
       "      <th>11</th>\n",
       "      <td>129 days</td>\n",
       "      <td>6447.083901</td>\n",
       "      <td>80.293735</td>\n",
       "      <td>72.916675</td>\n",
       "      <td>3.263902</td>\n",
       "      <td>0.529304</td>\n",
       "      <td>0.50</td>\n",
       "    </tr>\n",
       "    <tr>\n",
       "      <th>12</th>\n",
       "      <td>139 days</td>\n",
       "      <td>7653.421698</td>\n",
       "      <td>87.483837</td>\n",
       "      <td>85.041738</td>\n",
       "      <td>4.009345</td>\n",
       "      <td>1.993361</td>\n",
       "      <td>0.25</td>\n",
       "    </tr>\n",
       "    <tr>\n",
       "      <th>13</th>\n",
       "      <td>147 days</td>\n",
       "      <td>11084.914669</td>\n",
       "      <td>105.284921</td>\n",
       "      <td>101.756723</td>\n",
       "      <td>4.051643</td>\n",
       "      <td>1.993361</td>\n",
       "      <td>0.00</td>\n",
       "    </tr>\n",
       "    <tr>\n",
       "      <th>14</th>\n",
       "      <td>156 days</td>\n",
       "      <td>10780.758571</td>\n",
       "      <td>103.830432</td>\n",
       "      <td>99.658048</td>\n",
       "      <td>1.996896</td>\n",
       "      <td>1.993361</td>\n",
       "      <td>0.00</td>\n",
       "    </tr>\n",
       "    <tr>\n",
       "      <th>15</th>\n",
       "      <td>164 days</td>\n",
       "      <td>12268.905260</td>\n",
       "      <td>110.765090</td>\n",
       "      <td>105.312066</td>\n",
       "      <td>2.007481</td>\n",
       "      <td>2.014532</td>\n",
       "      <td>0.00</td>\n",
       "    </tr>\n",
       "    <tr>\n",
       "      <th>16</th>\n",
       "      <td>173 days</td>\n",
       "      <td>12466.985853</td>\n",
       "      <td>111.655658</td>\n",
       "      <td>106.605320</td>\n",
       "      <td>2.486100</td>\n",
       "      <td>2.030982</td>\n",
       "      <td>0.00</td>\n",
       "    </tr>\n",
       "    <tr>\n",
       "      <th>17</th>\n",
       "      <td>182 days</td>\n",
       "      <td>15384.757634</td>\n",
       "      <td>124.035308</td>\n",
       "      <td>116.022823</td>\n",
       "      <td>2.500950</td>\n",
       "      <td>2.030982</td>\n",
       "      <td>0.00</td>\n",
       "    </tr>\n",
       "    <tr>\n",
       "      <th>18</th>\n",
       "      <td>190 days</td>\n",
       "      <td>14475.499001</td>\n",
       "      <td>120.314168</td>\n",
       "      <td>106.953383</td>\n",
       "      <td>1.829579</td>\n",
       "      <td>0.688241</td>\n",
       "      <td>0.25</td>\n",
       "    </tr>\n",
       "    <tr>\n",
       "      <th>19</th>\n",
       "      <td>200 days</td>\n",
       "      <td>10089.933638</td>\n",
       "      <td>100.448662</td>\n",
       "      <td>84.644157</td>\n",
       "      <td>1.752987</td>\n",
       "      <td>0.687389</td>\n",
       "      <td>0.50</td>\n",
       "    </tr>\n",
       "    <tr>\n",
       "      <th>20</th>\n",
       "      <td>208 days</td>\n",
       "      <td>9281.890808</td>\n",
       "      <td>96.342570</td>\n",
       "      <td>78.625859</td>\n",
       "      <td>0.778717</td>\n",
       "      <td>0.687389</td>\n",
       "      <td>0.75</td>\n",
       "    </tr>\n",
       "    <tr>\n",
       "      <th>21</th>\n",
       "      <td>217 days</td>\n",
       "      <td>10160.377378</td>\n",
       "      <td>100.798697</td>\n",
       "      <td>81.084345</td>\n",
       "      <td>0.783162</td>\n",
       "      <td>0.696279</td>\n",
       "      <td>0.75</td>\n",
       "    </tr>\n",
       "    <tr>\n",
       "      <th>22</th>\n",
       "      <td>225 days</td>\n",
       "      <td>9979.997377</td>\n",
       "      <td>99.899937</td>\n",
       "      <td>77.429964</td>\n",
       "      <td>0.649626</td>\n",
       "      <td>0.520474</td>\n",
       "      <td>0.75</td>\n",
       "    </tr>\n",
       "    <tr>\n",
       "      <th>23</th>\n",
       "      <td>234 days</td>\n",
       "      <td>10153.667482</td>\n",
       "      <td>100.765408</td>\n",
       "      <td>78.960552</td>\n",
       "      <td>0.659471</td>\n",
       "      <td>0.540163</td>\n",
       "      <td>0.75</td>\n",
       "    </tr>\n",
       "    <tr>\n",
       "      <th>24</th>\n",
       "      <td>243 days</td>\n",
       "      <td>9858.455167</td>\n",
       "      <td>99.289754</td>\n",
       "      <td>75.953138</td>\n",
       "      <td>0.515880</td>\n",
       "      <td>0.540163</td>\n",
       "      <td>0.75</td>\n",
       "    </tr>\n",
       "    <tr>\n",
       "      <th>25</th>\n",
       "      <td>251 days</td>\n",
       "      <td>5307.397693</td>\n",
       "      <td>72.851889</td>\n",
       "      <td>61.180396</td>\n",
       "      <td>0.500526</td>\n",
       "      <td>0.509454</td>\n",
       "      <td>0.75</td>\n",
       "    </tr>\n",
       "    <tr>\n",
       "      <th>26</th>\n",
       "      <td>260 days</td>\n",
       "      <td>5533.768361</td>\n",
       "      <td>74.389303</td>\n",
       "      <td>65.523940</td>\n",
       "      <td>0.529402</td>\n",
       "      <td>0.509454</td>\n",
       "      <td>0.75</td>\n",
       "    </tr>\n",
       "    <tr>\n",
       "      <th>27</th>\n",
       "      <td>269 days</td>\n",
       "      <td>5104.980511</td>\n",
       "      <td>71.449146</td>\n",
       "      <td>61.357894</td>\n",
       "      <td>0.510878</td>\n",
       "      <td>0.472405</td>\n",
       "      <td>0.75</td>\n",
       "    </tr>\n",
       "    <tr>\n",
       "      <th>28</th>\n",
       "      <td>278 days</td>\n",
       "      <td>4760.180448</td>\n",
       "      <td>68.994061</td>\n",
       "      <td>56.042752</td>\n",
       "      <td>0.380611</td>\n",
       "      <td>0.308377</td>\n",
       "      <td>0.75</td>\n",
       "    </tr>\n",
       "    <tr>\n",
       "      <th>29</th>\n",
       "      <td>286 days</td>\n",
       "      <td>1047.570556</td>\n",
       "      <td>32.366195</td>\n",
       "      <td>31.281032</td>\n",
       "      <td>0.342899</td>\n",
       "      <td>0.308377</td>\n",
       "      <td>1.00</td>\n",
       "    </tr>\n",
       "    <tr>\n",
       "      <th>30</th>\n",
       "      <td>295 days</td>\n",
       "      <td>3610.393467</td>\n",
       "      <td>60.086550</td>\n",
       "      <td>49.355822</td>\n",
       "      <td>0.410175</td>\n",
       "      <td>0.396982</td>\n",
       "      <td>0.75</td>\n",
       "    </tr>\n",
       "    <tr>\n",
       "      <th>31</th>\n",
       "      <td>304 days</td>\n",
       "      <td>3307.846937</td>\n",
       "      <td>57.513885</td>\n",
       "      <td>44.947169</td>\n",
       "      <td>0.424459</td>\n",
       "      <td>0.425551</td>\n",
       "      <td>0.75</td>\n",
       "    </tr>\n",
       "    <tr>\n",
       "      <th>32</th>\n",
       "      <td>312 days</td>\n",
       "      <td>4386.734736</td>\n",
       "      <td>66.232430</td>\n",
       "      <td>56.800138</td>\n",
       "      <td>0.461939</td>\n",
       "      <td>0.452381</td>\n",
       "      <td>0.75</td>\n",
       "    </tr>\n",
       "    <tr>\n",
       "      <th>33</th>\n",
       "      <td>321 days</td>\n",
       "      <td>5694.128991</td>\n",
       "      <td>75.459453</td>\n",
       "      <td>69.604614</td>\n",
       "      <td>3.248413</td>\n",
       "      <td>0.498326</td>\n",
       "      <td>0.50</td>\n",
       "    </tr>\n",
       "    <tr>\n",
       "      <th>34</th>\n",
       "      <td>329 days</td>\n",
       "      <td>6447.083901</td>\n",
       "      <td>80.293735</td>\n",
       "      <td>72.916675</td>\n",
       "      <td>3.263902</td>\n",
       "      <td>0.529304</td>\n",
       "      <td>0.50</td>\n",
       "    </tr>\n",
       "    <tr>\n",
       "      <th>35</th>\n",
       "      <td>339 days</td>\n",
       "      <td>7653.421698</td>\n",
       "      <td>87.483837</td>\n",
       "      <td>85.041738</td>\n",
       "      <td>4.009345</td>\n",
       "      <td>1.993361</td>\n",
       "      <td>0.25</td>\n",
       "    </tr>\n",
       "    <tr>\n",
       "      <th>36</th>\n",
       "      <td>347 days</td>\n",
       "      <td>11084.914669</td>\n",
       "      <td>105.284921</td>\n",
       "      <td>101.756723</td>\n",
       "      <td>4.051643</td>\n",
       "      <td>1.993361</td>\n",
       "      <td>0.00</td>\n",
       "    </tr>\n",
       "    <tr>\n",
       "      <th>37</th>\n",
       "      <td>356 days</td>\n",
       "      <td>10780.758571</td>\n",
       "      <td>103.830432</td>\n",
       "      <td>99.658048</td>\n",
       "      <td>1.996896</td>\n",
       "      <td>1.993361</td>\n",
       "      <td>0.00</td>\n",
       "    </tr>\n",
       "    <tr>\n",
       "      <th>38</th>\n",
       "      <td>365 days</td>\n",
       "      <td>7857.360094</td>\n",
       "      <td>88.641751</td>\n",
       "      <td>82.758593</td>\n",
       "      <td>1.930088</td>\n",
       "      <td>1.983981</td>\n",
       "      <td>0.25</td>\n",
       "    </tr>\n",
       "  </tbody>\n",
       "</table>\n",
       "</div>"
      ],
      "text/plain": [
       "    horizon           mse        rmse         mae      mape     mdape  \\\n",
       "0   34 days  10153.667482  100.765408   78.960552  0.659471  0.540163   \n",
       "1   43 days   9858.455167   99.289754   75.953138  0.515880  0.540163   \n",
       "2   51 days   5307.397693   72.851889   61.180396  0.500526  0.509454   \n",
       "3   60 days   5533.768361   74.389303   65.523940  0.529402  0.509454   \n",
       "4   69 days   5104.980511   71.449146   61.357894  0.510878  0.472405   \n",
       "5   78 days   4760.180448   68.994061   56.042752  0.380611  0.308377   \n",
       "6   86 days   1047.570556   32.366195   31.281032  0.342899  0.308377   \n",
       "7   95 days   3610.393467   60.086550   49.355822  0.410175  0.396982   \n",
       "8  104 days   3307.846937   57.513885   44.947169  0.424459  0.425551   \n",
       "9  112 days   4386.734736   66.232430   56.800138  0.461939  0.452381   \n",
       "10 121 days   5694.128991   75.459453   69.604614  3.248413  0.498326   \n",
       "11 129 days   6447.083901   80.293735   72.916675  3.263902  0.529304   \n",
       "12 139 days   7653.421698   87.483837   85.041738  4.009345  1.993361   \n",
       "13 147 days  11084.914669  105.284921  101.756723  4.051643  1.993361   \n",
       "14 156 days  10780.758571  103.830432   99.658048  1.996896  1.993361   \n",
       "15 164 days  12268.905260  110.765090  105.312066  2.007481  2.014532   \n",
       "16 173 days  12466.985853  111.655658  106.605320  2.486100  2.030982   \n",
       "17 182 days  15384.757634  124.035308  116.022823  2.500950  2.030982   \n",
       "18 190 days  14475.499001  120.314168  106.953383  1.829579  0.688241   \n",
       "19 200 days  10089.933638  100.448662   84.644157  1.752987  0.687389   \n",
       "20 208 days   9281.890808   96.342570   78.625859  0.778717  0.687389   \n",
       "21 217 days  10160.377378  100.798697   81.084345  0.783162  0.696279   \n",
       "22 225 days   9979.997377   99.899937   77.429964  0.649626  0.520474   \n",
       "23 234 days  10153.667482  100.765408   78.960552  0.659471  0.540163   \n",
       "24 243 days   9858.455167   99.289754   75.953138  0.515880  0.540163   \n",
       "25 251 days   5307.397693   72.851889   61.180396  0.500526  0.509454   \n",
       "26 260 days   5533.768361   74.389303   65.523940  0.529402  0.509454   \n",
       "27 269 days   5104.980511   71.449146   61.357894  0.510878  0.472405   \n",
       "28 278 days   4760.180448   68.994061   56.042752  0.380611  0.308377   \n",
       "29 286 days   1047.570556   32.366195   31.281032  0.342899  0.308377   \n",
       "30 295 days   3610.393467   60.086550   49.355822  0.410175  0.396982   \n",
       "31 304 days   3307.846937   57.513885   44.947169  0.424459  0.425551   \n",
       "32 312 days   4386.734736   66.232430   56.800138  0.461939  0.452381   \n",
       "33 321 days   5694.128991   75.459453   69.604614  3.248413  0.498326   \n",
       "34 329 days   6447.083901   80.293735   72.916675  3.263902  0.529304   \n",
       "35 339 days   7653.421698   87.483837   85.041738  4.009345  1.993361   \n",
       "36 347 days  11084.914669  105.284921  101.756723  4.051643  1.993361   \n",
       "37 356 days  10780.758571  103.830432   99.658048  1.996896  1.993361   \n",
       "38 365 days   7857.360094   88.641751   82.758593  1.930088  1.983981   \n",
       "\n",
       "    coverage  \n",
       "0       0.75  \n",
       "1       0.75  \n",
       "2       0.75  \n",
       "3       0.75  \n",
       "4       0.75  \n",
       "5       0.75  \n",
       "6       1.00  \n",
       "7       0.75  \n",
       "8       0.75  \n",
       "9       0.75  \n",
       "10      0.50  \n",
       "11      0.50  \n",
       "12      0.25  \n",
       "13      0.00  \n",
       "14      0.00  \n",
       "15      0.00  \n",
       "16      0.00  \n",
       "17      0.00  \n",
       "18      0.25  \n",
       "19      0.50  \n",
       "20      0.75  \n",
       "21      0.75  \n",
       "22      0.75  \n",
       "23      0.75  \n",
       "24      0.75  \n",
       "25      0.75  \n",
       "26      0.75  \n",
       "27      0.75  \n",
       "28      0.75  \n",
       "29      1.00  \n",
       "30      0.75  \n",
       "31      0.75  \n",
       "32      0.75  \n",
       "33      0.50  \n",
       "34      0.50  \n",
       "35      0.25  \n",
       "36      0.00  \n",
       "37      0.00  \n",
       "38      0.25  "
      ]
     },
     "execution_count": 69,
     "metadata": {},
     "output_type": "execute_result"
    }
   ],
   "source": [
    "# calculate rmse, mae\n",
    "\n",
    "yy_20 = performance_metrics(y_cv_20 )\n",
    "yy_20"
   ]
  },
  {
   "cell_type": "code",
   "execution_count": 78,
   "id": "surrounded-construction",
   "metadata": {
    "pycharm": {
     "name": "#%%\n"
    }
   },
   "outputs": [
    {
     "data": {
      "text/plain": [
       "-0.23681074653531153"
      ]
     },
     "execution_count": 78,
     "metadata": {},
     "output_type": "execute_result"
    }
   ],
   "source": [
    "\n",
    "# calculate Rsquare\n",
    "R2 = r2_score(y_cv_20['y'], y_cv_20['yhat'])\n",
    "R2"
   ]
  },
  {
   "cell_type": "code",
   "execution_count": null,
   "id": "religious-recall",
   "metadata": {
    "pycharm": {
     "name": "#%%\n"
    }
   },
   "outputs": [],
   "source": []
  },
  {
   "cell_type": "code",
   "execution_count": null,
   "id": "automatic-marker",
   "metadata": {
    "pycharm": {
     "name": "#%%\n"
    }
   },
   "outputs": [],
   "source": []
  },
  {
   "cell_type": "markdown",
   "id": "final-breakfast",
   "metadata": {
    "pycharm": {
     "name": "#%% md\n"
    }
   },
   "source": [
    "# LINEAR 1 YEAR"
   ]
  },
  {
   "cell_type": "code",
   "execution_count": null,
   "id": "structured-authority",
   "metadata": {
    "pycharm": {
     "name": "#%%\n"
    }
   },
   "outputs": [],
   "source": []
  },
  {
   "cell_type": "code",
   "execution_count": 70,
   "id": "sophisticated-unknown",
   "metadata": {
    "pycharm": {
     "name": "#%%\n"
    }
   },
   "outputs": [
    {
     "name": "stderr",
     "output_type": "stream",
     "text": [
      "INFO:fbprophet:Disabling weekly seasonality. Run prophet with weekly_seasonality=True to override this.\n",
      "INFO:fbprophet:Disabling daily seasonality. Run prophet with daily_seasonality=True to override this.\n"
     ]
    }
   ],
   "source": [
    "m_1 = Prophet(n_changepoints= 35,\n",
    "                changepoint_range= 0.19,\n",
    "                yearly_seasonality= True,\n",
    "               changepoint_prior_scale= 0.9,\n",
    "                seasonality_mode= \"additive\")\n",
    "\n",
    "ml_1 = m_1.fit(train)"
   ]
  },
  {
   "cell_type": "code",
   "execution_count": 71,
   "id": "afraid-sierra",
   "metadata": {
    "pycharm": {
     "name": "#%%\n"
    }
   },
   "outputs": [
    {
     "data": {
      "text/html": [
       "<div>\n",
       "<style scoped>\n",
       "    .dataframe tbody tr th:only-of-type {\n",
       "        vertical-align: middle;\n",
       "    }\n",
       "\n",
       "    .dataframe tbody tr th {\n",
       "        vertical-align: top;\n",
       "    }\n",
       "\n",
       "    .dataframe thead th {\n",
       "        text-align: right;\n",
       "    }\n",
       "</style>\n",
       "<table border=\"1\" class=\"dataframe\">\n",
       "  <thead>\n",
       "    <tr style=\"text-align: right;\">\n",
       "      <th></th>\n",
       "      <th>ds</th>\n",
       "      <th>trend</th>\n",
       "      <th>yhat_lower</th>\n",
       "      <th>yhat_upper</th>\n",
       "      <th>trend_lower</th>\n",
       "      <th>trend_upper</th>\n",
       "      <th>additive_terms</th>\n",
       "      <th>additive_terms_lower</th>\n",
       "      <th>additive_terms_upper</th>\n",
       "      <th>yearly</th>\n",
       "      <th>yearly_lower</th>\n",
       "      <th>yearly_upper</th>\n",
       "      <th>multiplicative_terms</th>\n",
       "      <th>multiplicative_terms_lower</th>\n",
       "      <th>multiplicative_terms_upper</th>\n",
       "      <th>yhat</th>\n",
       "    </tr>\n",
       "  </thead>\n",
       "  <tbody>\n",
       "    <tr>\n",
       "      <th>0</th>\n",
       "      <td>1700-01-01</td>\n",
       "      <td>169.701738</td>\n",
       "      <td>-18.206876</td>\n",
       "      <td>130.054232</td>\n",
       "      <td>169.701738</td>\n",
       "      <td>169.701738</td>\n",
       "      <td>-114.689548</td>\n",
       "      <td>-114.689548</td>\n",
       "      <td>-114.689548</td>\n",
       "      <td>-114.689548</td>\n",
       "      <td>-114.689548</td>\n",
       "      <td>-114.689548</td>\n",
       "      <td>0.0</td>\n",
       "      <td>0.0</td>\n",
       "      <td>0.0</td>\n",
       "      <td>55.012191</td>\n",
       "    </tr>\n",
       "    <tr>\n",
       "      <th>1</th>\n",
       "      <td>1701-01-01</td>\n",
       "      <td>170.928277</td>\n",
       "      <td>-32.737855</td>\n",
       "      <td>121.655867</td>\n",
       "      <td>170.928277</td>\n",
       "      <td>170.928277</td>\n",
       "      <td>-124.790386</td>\n",
       "      <td>-124.790386</td>\n",
       "      <td>-124.790386</td>\n",
       "      <td>-124.790386</td>\n",
       "      <td>-124.790386</td>\n",
       "      <td>-124.790386</td>\n",
       "      <td>0.0</td>\n",
       "      <td>0.0</td>\n",
       "      <td>0.0</td>\n",
       "      <td>46.137891</td>\n",
       "    </tr>\n",
       "    <tr>\n",
       "      <th>2</th>\n",
       "      <td>1702-01-01</td>\n",
       "      <td>172.154816</td>\n",
       "      <td>-31.996259</td>\n",
       "      <td>119.522401</td>\n",
       "      <td>172.154816</td>\n",
       "      <td>172.154816</td>\n",
       "      <td>-133.925884</td>\n",
       "      <td>-133.925884</td>\n",
       "      <td>-133.925884</td>\n",
       "      <td>-133.925884</td>\n",
       "      <td>-133.925884</td>\n",
       "      <td>-133.925884</td>\n",
       "      <td>0.0</td>\n",
       "      <td>0.0</td>\n",
       "      <td>0.0</td>\n",
       "      <td>38.228932</td>\n",
       "    </tr>\n",
       "    <tr>\n",
       "      <th>3</th>\n",
       "      <td>1703-01-01</td>\n",
       "      <td>173.381355</td>\n",
       "      <td>-44.815293</td>\n",
       "      <td>104.212248</td>\n",
       "      <td>173.381355</td>\n",
       "      <td>173.381355</td>\n",
       "      <td>-142.082172</td>\n",
       "      <td>-142.082172</td>\n",
       "      <td>-142.082172</td>\n",
       "      <td>-142.082172</td>\n",
       "      <td>-142.082172</td>\n",
       "      <td>-142.082172</td>\n",
       "      <td>0.0</td>\n",
       "      <td>0.0</td>\n",
       "      <td>0.0</td>\n",
       "      <td>31.299183</td>\n",
       "    </tr>\n",
       "    <tr>\n",
       "      <th>4</th>\n",
       "      <td>1704-01-01</td>\n",
       "      <td>174.607894</td>\n",
       "      <td>-47.304707</td>\n",
       "      <td>99.173560</td>\n",
       "      <td>174.607894</td>\n",
       "      <td>174.607894</td>\n",
       "      <td>-149.247054</td>\n",
       "      <td>-149.247054</td>\n",
       "      <td>-149.247054</td>\n",
       "      <td>-149.247054</td>\n",
       "      <td>-149.247054</td>\n",
       "      <td>-149.247054</td>\n",
       "      <td>0.0</td>\n",
       "      <td>0.0</td>\n",
       "      <td>0.0</td>\n",
       "      <td>25.360841</td>\n",
       "    </tr>\n",
       "  </tbody>\n",
       "</table>\n",
       "</div>"
      ],
      "text/plain": [
       "          ds       trend  yhat_lower  yhat_upper  trend_lower  trend_upper  \\\n",
       "0 1700-01-01  169.701738  -18.206876  130.054232   169.701738   169.701738   \n",
       "1 1701-01-01  170.928277  -32.737855  121.655867   170.928277   170.928277   \n",
       "2 1702-01-01  172.154816  -31.996259  119.522401   172.154816   172.154816   \n",
       "3 1703-01-01  173.381355  -44.815293  104.212248   173.381355   173.381355   \n",
       "4 1704-01-01  174.607894  -47.304707   99.173560   174.607894   174.607894   \n",
       "\n",
       "   additive_terms  additive_terms_lower  additive_terms_upper      yearly  \\\n",
       "0     -114.689548           -114.689548           -114.689548 -114.689548   \n",
       "1     -124.790386           -124.790386           -124.790386 -124.790386   \n",
       "2     -133.925884           -133.925884           -133.925884 -133.925884   \n",
       "3     -142.082172           -142.082172           -142.082172 -142.082172   \n",
       "4     -149.247054           -149.247054           -149.247054 -149.247054   \n",
       "\n",
       "   yearly_lower  yearly_upper  multiplicative_terms  \\\n",
       "0   -114.689548   -114.689548                   0.0   \n",
       "1   -124.790386   -124.790386                   0.0   \n",
       "2   -133.925884   -133.925884                   0.0   \n",
       "3   -142.082172   -142.082172                   0.0   \n",
       "4   -149.247054   -149.247054                   0.0   \n",
       "\n",
       "   multiplicative_terms_lower  multiplicative_terms_upper       yhat  \n",
       "0                         0.0                         0.0  55.012191  \n",
       "1                         0.0                         0.0  46.137891  \n",
       "2                         0.0                         0.0  38.228932  \n",
       "3                         0.0                         0.0  31.299183  \n",
       "4                         0.0                         0.0  25.360841  "
      ]
     },
     "execution_count": 71,
     "metadata": {},
     "output_type": "execute_result"
    }
   ],
   "source": [
    "future_1 = ml_1.make_future_dataframe(periods = 1, freq = 'Y')\n",
    "forecast_1 = ml_1.predict(future_1)\n",
    "forecast_1.head()"
   ]
  },
  {
   "cell_type": "code",
   "execution_count": null,
   "id": "earlier-incidence",
   "metadata": {
    "pycharm": {
     "name": "#%%\n"
    }
   },
   "outputs": [],
   "source": []
  },
  {
   "cell_type": "markdown",
   "id": "italian-content",
   "metadata": {
    "pycharm": {
     "name": "#%% md\n"
    }
   },
   "source": [
    "# Cross validation"
   ]
  },
  {
   "cell_type": "code",
   "execution_count": 73,
   "id": "median-deadline",
   "metadata": {
    "pycharm": {
     "name": "#%%\n"
    }
   },
   "outputs": [
    {
     "name": "stderr",
     "output_type": "stream",
     "text": [
      "INFO:fbprophet:Making 10 forecasts with cutoffs between 1974-01-27 00:00:00 and 1979-01-01 00:00:00\n"
     ]
    },
    {
     "data": {
      "application/vnd.jupyter.widget-view+json": {
       "model_id": "14c0856093cf4c8c98b475a9aad41e11",
       "version_major": 2,
       "version_minor": 0
      },
      "text/plain": [
       "  0%|          | 0/10 [00:00<?, ?it/s]"
      ]
     },
     "metadata": {},
     "output_type": "display_data"
    }
   ],
   "source": [
    "# cross validation for evaluate the model\n",
    "\n",
    "#y_cv_20 = cross_validation(ml_20, initial = '90000 days', period = '200 days', horizon = '365 days')\n",
    "\n",
    "y_cv_1 = cross_validation(ml_1, initial = '100000 days', period = '200 days', horizon = '365 days')"
   ]
  },
  {
   "cell_type": "code",
   "execution_count": 75,
   "id": "ruled-progress",
   "metadata": {
    "pycharm": {
     "name": "#%%\n"
    }
   },
   "outputs": [
    {
     "data": {
      "text/html": [
       "<div>\n",
       "<style scoped>\n",
       "    .dataframe tbody tr th:only-of-type {\n",
       "        vertical-align: middle;\n",
       "    }\n",
       "\n",
       "    .dataframe tbody tr th {\n",
       "        vertical-align: top;\n",
       "    }\n",
       "\n",
       "    .dataframe thead th {\n",
       "        text-align: right;\n",
       "    }\n",
       "</style>\n",
       "<table border=\"1\" class=\"dataframe\">\n",
       "  <thead>\n",
       "    <tr style=\"text-align: right;\">\n",
       "      <th></th>\n",
       "      <th>ds</th>\n",
       "      <th>yhat</th>\n",
       "      <th>yhat_lower</th>\n",
       "      <th>yhat_upper</th>\n",
       "      <th>y</th>\n",
       "      <th>cutoff</th>\n",
       "    </tr>\n",
       "  </thead>\n",
       "  <tbody>\n",
       "    <tr>\n",
       "      <th>0</th>\n",
       "      <td>1975-01-01</td>\n",
       "      <td>93.679305</td>\n",
       "      <td>15.180242</td>\n",
       "      <td>166.451671</td>\n",
       "      <td>22.5</td>\n",
       "      <td>1974-01-27</td>\n",
       "    </tr>\n",
       "    <tr>\n",
       "      <th>1</th>\n",
       "      <td>1975-01-01</td>\n",
       "      <td>93.679305</td>\n",
       "      <td>13.930437</td>\n",
       "      <td>169.076701</td>\n",
       "      <td>22.5</td>\n",
       "      <td>1974-08-15</td>\n",
       "    </tr>\n",
       "    <tr>\n",
       "      <th>2</th>\n",
       "      <td>1976-01-01</td>\n",
       "      <td>93.435395</td>\n",
       "      <td>23.654742</td>\n",
       "      <td>165.347058</td>\n",
       "      <td>18.4</td>\n",
       "      <td>1975-03-03</td>\n",
       "    </tr>\n",
       "    <tr>\n",
       "      <th>3</th>\n",
       "      <td>1976-01-01</td>\n",
       "      <td>93.435395</td>\n",
       "      <td>12.863565</td>\n",
       "      <td>167.841987</td>\n",
       "      <td>18.4</td>\n",
       "      <td>1975-09-19</td>\n",
       "    </tr>\n",
       "    <tr>\n",
       "      <th>4</th>\n",
       "      <td>1977-01-01</td>\n",
       "      <td>96.988412</td>\n",
       "      <td>18.813763</td>\n",
       "      <td>167.446758</td>\n",
       "      <td>39.3</td>\n",
       "      <td>1976-04-06</td>\n",
       "    </tr>\n",
       "    <tr>\n",
       "      <th>5</th>\n",
       "      <td>1977-01-01</td>\n",
       "      <td>96.988412</td>\n",
       "      <td>24.212572</td>\n",
       "      <td>170.708812</td>\n",
       "      <td>39.3</td>\n",
       "      <td>1976-10-23</td>\n",
       "    </tr>\n",
       "    <tr>\n",
       "      <th>6</th>\n",
       "      <td>1978-01-01</td>\n",
       "      <td>93.204718</td>\n",
       "      <td>18.582193</td>\n",
       "      <td>168.548861</td>\n",
       "      <td>131.0</td>\n",
       "      <td>1977-05-11</td>\n",
       "    </tr>\n",
       "    <tr>\n",
       "      <th>7</th>\n",
       "      <td>1978-01-01</td>\n",
       "      <td>93.204718</td>\n",
       "      <td>18.947605</td>\n",
       "      <td>169.931710</td>\n",
       "      <td>131.0</td>\n",
       "      <td>1977-11-27</td>\n",
       "    </tr>\n",
       "    <tr>\n",
       "      <th>8</th>\n",
       "      <td>1979-01-01</td>\n",
       "      <td>91.265371</td>\n",
       "      <td>12.680374</td>\n",
       "      <td>165.124419</td>\n",
       "      <td>220.1</td>\n",
       "      <td>1978-06-15</td>\n",
       "    </tr>\n",
       "    <tr>\n",
       "      <th>9</th>\n",
       "      <td>1980-01-01</td>\n",
       "      <td>93.671475</td>\n",
       "      <td>20.688065</td>\n",
       "      <td>169.572050</td>\n",
       "      <td>218.9</td>\n",
       "      <td>1979-01-01</td>\n",
       "    </tr>\n",
       "  </tbody>\n",
       "</table>\n",
       "</div>"
      ],
      "text/plain": [
       "          ds       yhat  yhat_lower  yhat_upper      y     cutoff\n",
       "0 1975-01-01  93.679305   15.180242  166.451671   22.5 1974-01-27\n",
       "1 1975-01-01  93.679305   13.930437  169.076701   22.5 1974-08-15\n",
       "2 1976-01-01  93.435395   23.654742  165.347058   18.4 1975-03-03\n",
       "3 1976-01-01  93.435395   12.863565  167.841987   18.4 1975-09-19\n",
       "4 1977-01-01  96.988412   18.813763  167.446758   39.3 1976-04-06\n",
       "5 1977-01-01  96.988412   24.212572  170.708812   39.3 1976-10-23\n",
       "6 1978-01-01  93.204718   18.582193  168.548861  131.0 1977-05-11\n",
       "7 1978-01-01  93.204718   18.947605  169.931710  131.0 1977-11-27\n",
       "8 1979-01-01  91.265371   12.680374  165.124419  220.1 1978-06-15\n",
       "9 1980-01-01  93.671475   20.688065  169.572050  218.9 1979-01-01"
      ]
     },
     "execution_count": 75,
     "metadata": {},
     "output_type": "execute_result"
    }
   ],
   "source": [
    "# show the result of cross validation\n",
    "y_cv_1"
   ]
  },
  {
   "cell_type": "code",
   "execution_count": 76,
   "id": "allied-chemistry",
   "metadata": {
    "pycharm": {
     "name": "#%%\n"
    }
   },
   "outputs": [
    {
     "data": {
      "text/html": [
       "<div>\n",
       "<style scoped>\n",
       "    .dataframe tbody tr th:only-of-type {\n",
       "        vertical-align: middle;\n",
       "    }\n",
       "\n",
       "    .dataframe tbody tr th {\n",
       "        vertical-align: top;\n",
       "    }\n",
       "\n",
       "    .dataframe thead th {\n",
       "        text-align: right;\n",
       "    }\n",
       "</style>\n",
       "<table border=\"1\" class=\"dataframe\">\n",
       "  <thead>\n",
       "    <tr style=\"text-align: right;\">\n",
       "      <th></th>\n",
       "      <th>horizon</th>\n",
       "      <th>mse</th>\n",
       "      <th>rmse</th>\n",
       "      <th>mae</th>\n",
       "      <th>mape</th>\n",
       "      <th>mdape</th>\n",
       "      <th>coverage</th>\n",
       "    </tr>\n",
       "  </thead>\n",
       "  <tbody>\n",
       "    <tr>\n",
       "      <th>0</th>\n",
       "      <td>35 days</td>\n",
       "      <td>1428.483345</td>\n",
       "      <td>37.795282</td>\n",
       "      <td>37.795282</td>\n",
       "      <td>0.288514</td>\n",
       "      <td>0.288514</td>\n",
       "      <td>1.0</td>\n",
       "    </tr>\n",
       "    <tr>\n",
       "      <th>1</th>\n",
       "      <td>70 days</td>\n",
       "      <td>3327.952912</td>\n",
       "      <td>57.688412</td>\n",
       "      <td>57.688412</td>\n",
       "      <td>1.467899</td>\n",
       "      <td>1.467899</td>\n",
       "      <td>1.0</td>\n",
       "    </tr>\n",
       "    <tr>\n",
       "      <th>2</th>\n",
       "      <td>104 days</td>\n",
       "      <td>5630.310531</td>\n",
       "      <td>75.035395</td>\n",
       "      <td>75.035395</td>\n",
       "      <td>4.078011</td>\n",
       "      <td>4.078011</td>\n",
       "      <td>1.0</td>\n",
       "    </tr>\n",
       "    <tr>\n",
       "      <th>3</th>\n",
       "      <td>139 days</td>\n",
       "      <td>5066.493471</td>\n",
       "      <td>71.179305</td>\n",
       "      <td>71.179305</td>\n",
       "      <td>3.163525</td>\n",
       "      <td>3.163525</td>\n",
       "      <td>1.0</td>\n",
       "    </tr>\n",
       "    <tr>\n",
       "      <th>4</th>\n",
       "      <td>200 days</td>\n",
       "      <td>16598.361561</td>\n",
       "      <td>128.834629</td>\n",
       "      <td>128.834629</td>\n",
       "      <td>0.585346</td>\n",
       "      <td>0.585346</td>\n",
       "      <td>0.0</td>\n",
       "    </tr>\n",
       "    <tr>\n",
       "      <th>5</th>\n",
       "      <td>235 days</td>\n",
       "      <td>1428.483345</td>\n",
       "      <td>37.795282</td>\n",
       "      <td>37.795282</td>\n",
       "      <td>0.288514</td>\n",
       "      <td>0.288514</td>\n",
       "      <td>1.0</td>\n",
       "    </tr>\n",
       "    <tr>\n",
       "      <th>6</th>\n",
       "      <td>270 days</td>\n",
       "      <td>3327.952912</td>\n",
       "      <td>57.688412</td>\n",
       "      <td>57.688412</td>\n",
       "      <td>1.467899</td>\n",
       "      <td>1.467899</td>\n",
       "      <td>1.0</td>\n",
       "    </tr>\n",
       "    <tr>\n",
       "      <th>7</th>\n",
       "      <td>304 days</td>\n",
       "      <td>5630.310531</td>\n",
       "      <td>75.035395</td>\n",
       "      <td>75.035395</td>\n",
       "      <td>4.078011</td>\n",
       "      <td>4.078011</td>\n",
       "      <td>0.0</td>\n",
       "    </tr>\n",
       "    <tr>\n",
       "      <th>8</th>\n",
       "      <td>339 days</td>\n",
       "      <td>5066.493471</td>\n",
       "      <td>71.179305</td>\n",
       "      <td>71.179305</td>\n",
       "      <td>3.163525</td>\n",
       "      <td>3.163525</td>\n",
       "      <td>1.0</td>\n",
       "    </tr>\n",
       "    <tr>\n",
       "      <th>9</th>\n",
       "      <td>365 days</td>\n",
       "      <td>15682.183534</td>\n",
       "      <td>125.228525</td>\n",
       "      <td>125.228525</td>\n",
       "      <td>0.572081</td>\n",
       "      <td>0.572081</td>\n",
       "      <td>0.0</td>\n",
       "    </tr>\n",
       "  </tbody>\n",
       "</table>\n",
       "</div>"
      ],
      "text/plain": [
       "   horizon           mse        rmse         mae      mape     mdape  coverage\n",
       "0  35 days   1428.483345   37.795282   37.795282  0.288514  0.288514       1.0\n",
       "1  70 days   3327.952912   57.688412   57.688412  1.467899  1.467899       1.0\n",
       "2 104 days   5630.310531   75.035395   75.035395  4.078011  4.078011       1.0\n",
       "3 139 days   5066.493471   71.179305   71.179305  3.163525  3.163525       1.0\n",
       "4 200 days  16598.361561  128.834629  128.834629  0.585346  0.585346       0.0\n",
       "5 235 days   1428.483345   37.795282   37.795282  0.288514  0.288514       1.0\n",
       "6 270 days   3327.952912   57.688412   57.688412  1.467899  1.467899       1.0\n",
       "7 304 days   5630.310531   75.035395   75.035395  4.078011  4.078011       0.0\n",
       "8 339 days   5066.493471   71.179305   71.179305  3.163525  3.163525       1.0\n",
       "9 365 days  15682.183534  125.228525  125.228525  0.572081  0.572081       0.0"
      ]
     },
     "execution_count": 76,
     "metadata": {},
     "output_type": "execute_result"
    }
   ],
   "source": [
    "# result of the evaluation of our model\n",
    "yy_1 = performance_metrics(y_cv_1)\n",
    "yy_1"
   ]
  },
  {
   "cell_type": "code",
   "execution_count": null,
   "id": "residential-committee",
   "metadata": {
    "pycharm": {
     "name": "#%%\n"
    }
   },
   "outputs": [],
   "source": []
  },
  {
   "cell_type": "code",
   "execution_count": 77,
   "id": "defensive-season",
   "metadata": {
    "pycharm": {
     "name": "#%%\n"
    }
   },
   "outputs": [
    {
     "data": {
      "text/plain": [
       "-0.031442633112621854"
      ]
     },
     "execution_count": 77,
     "metadata": {},
     "output_type": "execute_result"
    }
   ],
   "source": [
    "# calculate Rsquare\n",
    "R2 = r2_score(y_cv_1['y'], y_cv_1['yhat'])\n",
    "R2"
   ]
  },
  {
   "cell_type": "code",
   "execution_count": null,
   "id": "collectible-density",
   "metadata": {
    "pycharm": {
     "name": "#%%\n"
    }
   },
   "outputs": [],
   "source": []
  },
  {
   "cell_type": "code",
   "execution_count": null,
   "id": "terminal-macintosh",
   "metadata": {
    "pycharm": {
     "name": "#%%\n"
    }
   },
   "outputs": [],
   "source": []
  },
  {
   "cell_type": "code",
   "execution_count": null,
   "id": "cathedral-russell",
   "metadata": {
    "pycharm": {
     "name": "#%%\n"
    }
   },
   "outputs": [],
   "source": []
  },
  {
   "cell_type": "code",
   "execution_count": null,
   "id": "possible-financing",
   "metadata": {
    "pycharm": {
     "name": "#%%\n"
    }
   },
   "outputs": [],
   "source": []
  },
  {
   "cell_type": "code",
   "execution_count": null,
   "id": "anonymous-retreat",
   "metadata": {
    "pycharm": {
     "name": "#%%\n"
    }
   },
   "outputs": [],
   "source": []
  },
  {
   "cell_type": "code",
   "execution_count": null,
   "id": "collectible-ladder",
   "metadata": {
    "pycharm": {
     "name": "#%%\n"
    }
   },
   "outputs": [],
   "source": []
  },
  {
   "cell_type": "code",
   "execution_count": null,
   "id": "proved-copyright",
   "metadata": {
    "pycharm": {
     "name": "#%%\n"
    }
   },
   "outputs": [],
   "source": []
  },
  {
   "cell_type": "code",
   "execution_count": null,
   "id": "brutal-globe",
   "metadata": {
    "pycharm": {
     "name": "#%%\n"
    }
   },
   "outputs": [],
   "source": []
  },
  {
   "cell_type": "code",
   "execution_count": null,
   "id": "short-tribute",
   "metadata": {
    "pycharm": {
     "name": "#%%\n"
    }
   },
   "outputs": [],
   "source": []
  },
  {
   "cell_type": "code",
   "execution_count": null,
   "id": "solid-addition",
   "metadata": {
    "pycharm": {
     "name": "#%%\n"
    }
   },
   "outputs": [],
   "source": []
  },
  {
   "cell_type": "code",
   "execution_count": null,
   "id": "bottom-venice",
   "metadata": {
    "pycharm": {
     "name": "#%%\n"
    }
   },
   "outputs": [],
   "source": []
  },
  {
   "cell_type": "code",
   "execution_count": null,
   "id": "boxed-corporation",
   "metadata": {
    "pycharm": {
     "name": "#%%\n"
    }
   },
   "outputs": [],
   "source": []
  },
  {
   "cell_type": "code",
   "execution_count": null,
   "id": "brave-warehouse",
   "metadata": {
    "pycharm": {
     "name": "#%%\n"
    }
   },
   "outputs": [],
   "source": []
  },
  {
   "cell_type": "code",
   "execution_count": null,
   "id": "alternative-medline",
   "metadata": {
    "pycharm": {
     "name": "#%%\n"
    }
   },
   "outputs": [],
   "source": []
  },
  {
   "cell_type": "code",
   "execution_count": null,
   "id": "appointed-samuel",
   "metadata": {
    "pycharm": {
     "name": "#%%\n"
    }
   },
   "outputs": [],
   "source": []
  },
  {
   "cell_type": "code",
   "execution_count": null,
   "id": "legitimate-saying",
   "metadata": {
    "pycharm": {
     "name": "#%%\n"
    }
   },
   "outputs": [],
   "source": []
  },
  {
   "cell_type": "code",
   "execution_count": null,
   "id": "numerous-apple",
   "metadata": {
    "pycharm": {
     "name": "#%%\n"
    }
   },
   "outputs": [],
   "source": []
  },
  {
   "cell_type": "code",
   "execution_count": null,
   "id": "precious-mistake",
   "metadata": {
    "pycharm": {
     "name": "#%%\n"
    }
   },
   "outputs": [],
   "source": []
  },
  {
   "cell_type": "code",
   "execution_count": null,
   "id": "nuclear-laundry",
   "metadata": {
    "pycharm": {
     "name": "#%%\n"
    }
   },
   "outputs": [],
   "source": []
  },
  {
   "cell_type": "code",
   "execution_count": null,
   "id": "polar-sunday",
   "metadata": {
    "pycharm": {
     "name": "#%%\n"
    }
   },
   "outputs": [],
   "source": []
  },
  {
   "cell_type": "code",
   "execution_count": null,
   "id": "sixth-filling",
   "metadata": {
    "pycharm": {
     "name": "#%%\n"
    }
   },
   "outputs": [],
   "source": []
  },
  {
   "cell_type": "code",
   "execution_count": null,
   "id": "desperate-storage",
   "metadata": {
    "pycharm": {
     "name": "#%%\n"
    }
   },
   "outputs": [],
   "source": []
  },
  {
   "cell_type": "code",
   "execution_count": null,
   "id": "designing-grant",
   "metadata": {
    "pycharm": {
     "name": "#%%\n"
    }
   },
   "outputs": [],
   "source": []
  },
  {
   "cell_type": "code",
   "execution_count": null,
   "id": "hearing-costume",
   "metadata": {
    "pycharm": {
     "name": "#%%\n"
    }
   },
   "outputs": [],
   "source": []
  },
  {
   "cell_type": "code",
   "execution_count": null,
   "id": "stupid-timothy",
   "metadata": {
    "pycharm": {
     "name": "#%%\n"
    }
   },
   "outputs": [],
   "source": []
  },
  {
   "cell_type": "code",
   "execution_count": null,
   "id": "selective-enforcement",
   "metadata": {
    "pycharm": {
     "name": "#%%\n"
    }
   },
   "outputs": [],
   "source": []
  }
 ],
 "metadata": {
  "kernelspec": {
   "display_name": "Python 3",
   "language": "python",
   "name": "python3"
  },
  "language_info": {
   "codemirror_mode": {
    "name": "ipython",
    "version": 3
   },
   "file_extension": ".py",
   "mimetype": "text/x-python",
   "name": "python",
   "nbconvert_exporter": "python",
   "pygments_lexer": "ipython3",
   "version": "3.8.2"
  }
 },
 "nbformat": 4,
 "nbformat_minor": 5
}